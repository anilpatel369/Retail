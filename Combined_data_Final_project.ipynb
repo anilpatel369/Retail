{
  "nbformat": 4,
  "nbformat_minor": 0,
  "metadata": {
    "kernelspec": {
      "display_name": "Python 3",
      "language": "python",
      "name": "python3"
    },
    "language_info": {
      "codemirror_mode": {
        "name": "ipython",
        "version": 3
      },
      "file_extension": ".py",
      "mimetype": "text/x-python",
      "name": "python",
      "nbconvert_exporter": "python",
      "pygments_lexer": "ipython3",
      "version": "3.6.5"
    },
    "colab": {
      "name": "Combined_data_Final_project.ipynb",
      "provenance": [],
      "collapsed_sections": []
    }
  },
  "cells": [
    {
      "cell_type": "code",
      "metadata": {
        "id": "dXr3azPuuDWa",
        "colab_type": "code",
        "colab": {}
      },
      "source": [
        "import numpy as np\n",
        "import pandas as pd\n",
        "import matplotlib.pyplot as plt\n",
        "import matplotlib as mpl\n",
        "import seaborn as sns\n",
        "from datetime import timedelta\n",
        "#import plotly.graph_objs as go\n",
        "#from plotly.offline import init_notebook_mode,iplot\n",
        "import warnings\n",
        "warnings.filterwarnings('ignore')\n",
        "%matplotlib inline"
      ],
      "execution_count": 0,
      "outputs": []
    },
    {
      "cell_type": "code",
      "metadata": {
        "id": "JUZ1D0nYuDW-",
        "colab_type": "code",
        "outputId": "6d7eddab-79ca-4a8a-ae80-3af879f6a549",
        "colab": {
          "base_uri": "https://localhost:8080/",
          "height": 36
        }
      },
      "source": [
        "df1 = pd.read_excel(\"Yr_2009_10.xlsx\")\n",
        "df1.shape"
      ],
      "execution_count": 3,
      "outputs": [
        {
          "output_type": "execute_result",
          "data": {
            "text/plain": [
              "(525461, 8)"
            ]
          },
          "metadata": {
            "tags": []
          },
          "execution_count": 3
        }
      ]
    },
    {
      "cell_type": "code",
      "metadata": {
        "id": "xjevZDgpuDXV",
        "colab_type": "code",
        "outputId": "ead72939-0fae-4679-b163-25789a776282",
        "colab": {
          "base_uri": "https://localhost:8080/",
          "height": 206
        }
      },
      "source": [
        "df1.head()"
      ],
      "execution_count": 4,
      "outputs": [
        {
          "output_type": "execute_result",
          "data": {
            "text/html": [
              "<div>\n",
              "<style scoped>\n",
              "    .dataframe tbody tr th:only-of-type {\n",
              "        vertical-align: middle;\n",
              "    }\n",
              "\n",
              "    .dataframe tbody tr th {\n",
              "        vertical-align: top;\n",
              "    }\n",
              "\n",
              "    .dataframe thead th {\n",
              "        text-align: right;\n",
              "    }\n",
              "</style>\n",
              "<table border=\"1\" class=\"dataframe\">\n",
              "  <thead>\n",
              "    <tr style=\"text-align: right;\">\n",
              "      <th></th>\n",
              "      <th>Invoice</th>\n",
              "      <th>StockCode</th>\n",
              "      <th>Description</th>\n",
              "      <th>Quantity</th>\n",
              "      <th>InvoiceDate</th>\n",
              "      <th>Price</th>\n",
              "      <th>Customer ID</th>\n",
              "      <th>Country</th>\n",
              "    </tr>\n",
              "  </thead>\n",
              "  <tbody>\n",
              "    <tr>\n",
              "      <th>0</th>\n",
              "      <td>489434</td>\n",
              "      <td>85048</td>\n",
              "      <td>15CM CHRISTMAS GLASS BALL 20 LIGHTS</td>\n",
              "      <td>12</td>\n",
              "      <td>2009-12-01 07:45:00</td>\n",
              "      <td>6.95</td>\n",
              "      <td>13085.0</td>\n",
              "      <td>United Kingdom</td>\n",
              "    </tr>\n",
              "    <tr>\n",
              "      <th>1</th>\n",
              "      <td>489434</td>\n",
              "      <td>79323P</td>\n",
              "      <td>PINK CHERRY LIGHTS</td>\n",
              "      <td>12</td>\n",
              "      <td>2009-12-01 07:45:00</td>\n",
              "      <td>6.75</td>\n",
              "      <td>13085.0</td>\n",
              "      <td>United Kingdom</td>\n",
              "    </tr>\n",
              "    <tr>\n",
              "      <th>2</th>\n",
              "      <td>489434</td>\n",
              "      <td>79323W</td>\n",
              "      <td>WHITE CHERRY LIGHTS</td>\n",
              "      <td>12</td>\n",
              "      <td>2009-12-01 07:45:00</td>\n",
              "      <td>6.75</td>\n",
              "      <td>13085.0</td>\n",
              "      <td>United Kingdom</td>\n",
              "    </tr>\n",
              "    <tr>\n",
              "      <th>3</th>\n",
              "      <td>489434</td>\n",
              "      <td>22041</td>\n",
              "      <td>RECORD FRAME 7\" SINGLE SIZE</td>\n",
              "      <td>48</td>\n",
              "      <td>2009-12-01 07:45:00</td>\n",
              "      <td>2.10</td>\n",
              "      <td>13085.0</td>\n",
              "      <td>United Kingdom</td>\n",
              "    </tr>\n",
              "    <tr>\n",
              "      <th>4</th>\n",
              "      <td>489434</td>\n",
              "      <td>21232</td>\n",
              "      <td>STRAWBERRY CERAMIC TRINKET BOX</td>\n",
              "      <td>24</td>\n",
              "      <td>2009-12-01 07:45:00</td>\n",
              "      <td>1.25</td>\n",
              "      <td>13085.0</td>\n",
              "      <td>United Kingdom</td>\n",
              "    </tr>\n",
              "  </tbody>\n",
              "</table>\n",
              "</div>"
            ],
            "text/plain": [
              "  Invoice StockCode  ... Customer ID         Country\n",
              "0  489434     85048  ...     13085.0  United Kingdom\n",
              "1  489434    79323P  ...     13085.0  United Kingdom\n",
              "2  489434    79323W  ...     13085.0  United Kingdom\n",
              "3  489434     22041  ...     13085.0  United Kingdom\n",
              "4  489434     21232  ...     13085.0  United Kingdom\n",
              "\n",
              "[5 rows x 8 columns]"
            ]
          },
          "metadata": {
            "tags": []
          },
          "execution_count": 4
        }
      ]
    },
    {
      "cell_type": "code",
      "metadata": {
        "id": "6_96cE77uDXj",
        "colab_type": "code",
        "outputId": "2d78353d-b11c-4c19-a625-d5fc7ae1f371",
        "colab": {
          "base_uri": "https://localhost:8080/",
          "height": 36
        }
      },
      "source": [
        "df1['InvoiceDate'].max(),df1['InvoiceDate'].min()"
      ],
      "execution_count": 5,
      "outputs": [
        {
          "output_type": "execute_result",
          "data": {
            "text/plain": [
              "(Timestamp('2010-12-09 20:01:00'), Timestamp('2009-12-01 07:45:00'))"
            ]
          },
          "metadata": {
            "tags": []
          },
          "execution_count": 5
        }
      ]
    },
    {
      "cell_type": "markdown",
      "metadata": {
        "id": "iE239I9yuDXz",
        "colab_type": "text"
      },
      "source": [
        "### df1 data includes transactions from 01-Dec-2009 to 9-Dec-2010"
      ]
    },
    {
      "cell_type": "code",
      "metadata": {
        "id": "pIjzoCITuDX2",
        "colab_type": "code",
        "outputId": "2b212b01-3fbb-4a22-9fde-bff0731485c2",
        "colab": {
          "base_uri": "https://localhost:8080/",
          "height": 36
        }
      },
      "source": [
        "df2 = pd.read_excel(\"Yr_2010_11.xlsx\")\n",
        "df2.shape"
      ],
      "execution_count": 6,
      "outputs": [
        {
          "output_type": "execute_result",
          "data": {
            "text/plain": [
              "(541910, 8)"
            ]
          },
          "metadata": {
            "tags": []
          },
          "execution_count": 6
        }
      ]
    },
    {
      "cell_type": "code",
      "metadata": {
        "id": "bhvDWeykuDYF",
        "colab_type": "code",
        "outputId": "e2485003-997e-4f21-d1a9-02b040829869",
        "colab": {
          "base_uri": "https://localhost:8080/",
          "height": 206
        }
      },
      "source": [
        "df2.head()"
      ],
      "execution_count": 7,
      "outputs": [
        {
          "output_type": "execute_result",
          "data": {
            "text/html": [
              "<div>\n",
              "<style scoped>\n",
              "    .dataframe tbody tr th:only-of-type {\n",
              "        vertical-align: middle;\n",
              "    }\n",
              "\n",
              "    .dataframe tbody tr th {\n",
              "        vertical-align: top;\n",
              "    }\n",
              "\n",
              "    .dataframe thead th {\n",
              "        text-align: right;\n",
              "    }\n",
              "</style>\n",
              "<table border=\"1\" class=\"dataframe\">\n",
              "  <thead>\n",
              "    <tr style=\"text-align: right;\">\n",
              "      <th></th>\n",
              "      <th>Invoice</th>\n",
              "      <th>StockCode</th>\n",
              "      <th>Description</th>\n",
              "      <th>Quantity</th>\n",
              "      <th>InvoiceDate</th>\n",
              "      <th>Price</th>\n",
              "      <th>Customer ID</th>\n",
              "      <th>Country</th>\n",
              "    </tr>\n",
              "  </thead>\n",
              "  <tbody>\n",
              "    <tr>\n",
              "      <th>0</th>\n",
              "      <td>536365</td>\n",
              "      <td>85123A</td>\n",
              "      <td>WHITE HANGING HEART T-LIGHT HOLDER</td>\n",
              "      <td>6</td>\n",
              "      <td>2010-12-01 08:26:00</td>\n",
              "      <td>2.55</td>\n",
              "      <td>17850.0</td>\n",
              "      <td>United Kingdom</td>\n",
              "    </tr>\n",
              "    <tr>\n",
              "      <th>1</th>\n",
              "      <td>536365</td>\n",
              "      <td>71053</td>\n",
              "      <td>WHITE METAL LANTERN</td>\n",
              "      <td>6</td>\n",
              "      <td>2010-12-01 08:26:00</td>\n",
              "      <td>3.39</td>\n",
              "      <td>17850.0</td>\n",
              "      <td>United Kingdom</td>\n",
              "    </tr>\n",
              "    <tr>\n",
              "      <th>2</th>\n",
              "      <td>536365</td>\n",
              "      <td>84406B</td>\n",
              "      <td>CREAM CUPID HEARTS COAT HANGER</td>\n",
              "      <td>8</td>\n",
              "      <td>2010-12-01 08:26:00</td>\n",
              "      <td>2.75</td>\n",
              "      <td>17850.0</td>\n",
              "      <td>United Kingdom</td>\n",
              "    </tr>\n",
              "    <tr>\n",
              "      <th>3</th>\n",
              "      <td>536365</td>\n",
              "      <td>84029G</td>\n",
              "      <td>KNITTED UNION FLAG HOT WATER BOTTLE</td>\n",
              "      <td>6</td>\n",
              "      <td>2010-12-01 08:26:00</td>\n",
              "      <td>3.39</td>\n",
              "      <td>17850.0</td>\n",
              "      <td>United Kingdom</td>\n",
              "    </tr>\n",
              "    <tr>\n",
              "      <th>4</th>\n",
              "      <td>536365</td>\n",
              "      <td>84029E</td>\n",
              "      <td>RED WOOLLY HOTTIE WHITE HEART.</td>\n",
              "      <td>6</td>\n",
              "      <td>2010-12-01 08:26:00</td>\n",
              "      <td>3.39</td>\n",
              "      <td>17850.0</td>\n",
              "      <td>United Kingdom</td>\n",
              "    </tr>\n",
              "  </tbody>\n",
              "</table>\n",
              "</div>"
            ],
            "text/plain": [
              "  Invoice StockCode  ... Customer ID         Country\n",
              "0  536365    85123A  ...     17850.0  United Kingdom\n",
              "1  536365     71053  ...     17850.0  United Kingdom\n",
              "2  536365    84406B  ...     17850.0  United Kingdom\n",
              "3  536365    84029G  ...     17850.0  United Kingdom\n",
              "4  536365    84029E  ...     17850.0  United Kingdom\n",
              "\n",
              "[5 rows x 8 columns]"
            ]
          },
          "metadata": {
            "tags": []
          },
          "execution_count": 7
        }
      ]
    },
    {
      "cell_type": "code",
      "metadata": {
        "id": "7lv9zGKLuDYQ",
        "colab_type": "code",
        "outputId": "ef8b46be-b3d6-4c71-991e-b4447799c449",
        "colab": {
          "base_uri": "https://localhost:8080/",
          "height": 36
        }
      },
      "source": [
        "df2['InvoiceDate'].max(),df2['InvoiceDate'].min()"
      ],
      "execution_count": 8,
      "outputs": [
        {
          "output_type": "execute_result",
          "data": {
            "text/plain": [
              "(Timestamp('2011-12-09 12:50:00'), Timestamp('2010-12-01 08:26:00'))"
            ]
          },
          "metadata": {
            "tags": []
          },
          "execution_count": 8
        }
      ]
    },
    {
      "cell_type": "markdown",
      "metadata": {
        "id": "F_zlLOs7uDYb",
        "colab_type": "text"
      },
      "source": [
        "### df2 data includes transactions from 01-Dec-2010 to 9-Dec-2011"
      ]
    },
    {
      "cell_type": "code",
      "metadata": {
        "id": "ri7ib8YnuDYh",
        "colab_type": "code",
        "outputId": "b4841914-282b-4698-b7dd-c18a2270e3c9",
        "colab": {
          "base_uri": "https://localhost:8080/",
          "height": 36
        }
      },
      "source": [
        "df = pd.concat([df1,df2])\n",
        "df.shape"
      ],
      "execution_count": 9,
      "outputs": [
        {
          "output_type": "execute_result",
          "data": {
            "text/plain": [
              "(1067371, 8)"
            ]
          },
          "metadata": {
            "tags": []
          },
          "execution_count": 9
        }
      ]
    },
    {
      "cell_type": "code",
      "metadata": {
        "id": "g6g8Bcz2uDYs",
        "colab_type": "code",
        "outputId": "7bd3e224-e3a4-4f16-811b-d8eea4909fb4",
        "colab": {
          "base_uri": "https://localhost:8080/",
          "height": 206
        }
      },
      "source": [
        "df.head()"
      ],
      "execution_count": 10,
      "outputs": [
        {
          "output_type": "execute_result",
          "data": {
            "text/html": [
              "<div>\n",
              "<style scoped>\n",
              "    .dataframe tbody tr th:only-of-type {\n",
              "        vertical-align: middle;\n",
              "    }\n",
              "\n",
              "    .dataframe tbody tr th {\n",
              "        vertical-align: top;\n",
              "    }\n",
              "\n",
              "    .dataframe thead th {\n",
              "        text-align: right;\n",
              "    }\n",
              "</style>\n",
              "<table border=\"1\" class=\"dataframe\">\n",
              "  <thead>\n",
              "    <tr style=\"text-align: right;\">\n",
              "      <th></th>\n",
              "      <th>Invoice</th>\n",
              "      <th>StockCode</th>\n",
              "      <th>Description</th>\n",
              "      <th>Quantity</th>\n",
              "      <th>InvoiceDate</th>\n",
              "      <th>Price</th>\n",
              "      <th>Customer ID</th>\n",
              "      <th>Country</th>\n",
              "    </tr>\n",
              "  </thead>\n",
              "  <tbody>\n",
              "    <tr>\n",
              "      <th>0</th>\n",
              "      <td>489434</td>\n",
              "      <td>85048</td>\n",
              "      <td>15CM CHRISTMAS GLASS BALL 20 LIGHTS</td>\n",
              "      <td>12</td>\n",
              "      <td>2009-12-01 07:45:00</td>\n",
              "      <td>6.95</td>\n",
              "      <td>13085.0</td>\n",
              "      <td>United Kingdom</td>\n",
              "    </tr>\n",
              "    <tr>\n",
              "      <th>1</th>\n",
              "      <td>489434</td>\n",
              "      <td>79323P</td>\n",
              "      <td>PINK CHERRY LIGHTS</td>\n",
              "      <td>12</td>\n",
              "      <td>2009-12-01 07:45:00</td>\n",
              "      <td>6.75</td>\n",
              "      <td>13085.0</td>\n",
              "      <td>United Kingdom</td>\n",
              "    </tr>\n",
              "    <tr>\n",
              "      <th>2</th>\n",
              "      <td>489434</td>\n",
              "      <td>79323W</td>\n",
              "      <td>WHITE CHERRY LIGHTS</td>\n",
              "      <td>12</td>\n",
              "      <td>2009-12-01 07:45:00</td>\n",
              "      <td>6.75</td>\n",
              "      <td>13085.0</td>\n",
              "      <td>United Kingdom</td>\n",
              "    </tr>\n",
              "    <tr>\n",
              "      <th>3</th>\n",
              "      <td>489434</td>\n",
              "      <td>22041</td>\n",
              "      <td>RECORD FRAME 7\" SINGLE SIZE</td>\n",
              "      <td>48</td>\n",
              "      <td>2009-12-01 07:45:00</td>\n",
              "      <td>2.10</td>\n",
              "      <td>13085.0</td>\n",
              "      <td>United Kingdom</td>\n",
              "    </tr>\n",
              "    <tr>\n",
              "      <th>4</th>\n",
              "      <td>489434</td>\n",
              "      <td>21232</td>\n",
              "      <td>STRAWBERRY CERAMIC TRINKET BOX</td>\n",
              "      <td>24</td>\n",
              "      <td>2009-12-01 07:45:00</td>\n",
              "      <td>1.25</td>\n",
              "      <td>13085.0</td>\n",
              "      <td>United Kingdom</td>\n",
              "    </tr>\n",
              "  </tbody>\n",
              "</table>\n",
              "</div>"
            ],
            "text/plain": [
              "  Invoice StockCode  ... Customer ID         Country\n",
              "0  489434     85048  ...     13085.0  United Kingdom\n",
              "1  489434    79323P  ...     13085.0  United Kingdom\n",
              "2  489434    79323W  ...     13085.0  United Kingdom\n",
              "3  489434     22041  ...     13085.0  United Kingdom\n",
              "4  489434     21232  ...     13085.0  United Kingdom\n",
              "\n",
              "[5 rows x 8 columns]"
            ]
          },
          "metadata": {
            "tags": []
          },
          "execution_count": 10
        }
      ]
    },
    {
      "cell_type": "code",
      "metadata": {
        "id": "GQ495jxfuDY3",
        "colab_type": "code",
        "outputId": "805abeeb-186c-4405-faa4-c39d415d8eac",
        "colab": {
          "base_uri": "https://localhost:8080/",
          "height": 36
        }
      },
      "source": [
        "print('Number of duplicated records: ', df.duplicated(keep='first').sum())"
      ],
      "execution_count": 11,
      "outputs": [
        {
          "output_type": "stream",
          "text": [
            "Number of duplicated records:  34335\n"
          ],
          "name": "stdout"
        }
      ]
    },
    {
      "cell_type": "code",
      "metadata": {
        "id": "40g3Wqs1uDZG",
        "colab_type": "code",
        "outputId": "ee73f14c-c11a-4050-a555-891f5dad3091",
        "colab": {
          "base_uri": "https://localhost:8080/",
          "height": 36
        }
      },
      "source": [
        "indx = df[df.duplicated(keep='first')].index\n",
        "df.drop(index = indx, inplace= True)\n",
        "df.shape"
      ],
      "execution_count": 12,
      "outputs": [
        {
          "output_type": "execute_result",
          "data": {
            "text/plain": [
              "(999444, 8)"
            ]
          },
          "metadata": {
            "tags": []
          },
          "execution_count": 12
        }
      ]
    },
    {
      "cell_type": "markdown",
      "metadata": {
        "id": "VMRIqqKauDZR",
        "colab_type": "text"
      },
      "source": [
        "df.info()"
      ]
    },
    {
      "cell_type": "code",
      "metadata": {
        "id": "IFwoieKsuDZV",
        "colab_type": "code",
        "outputId": "2e2db870-a77e-4db9-b78e-19a4688da2b9",
        "colab": {
          "base_uri": "https://localhost:8080/",
          "height": 206
        }
      },
      "source": [
        "df.tail()"
      ],
      "execution_count": 13,
      "outputs": [
        {
          "output_type": "execute_result",
          "data": {
            "text/html": [
              "<div>\n",
              "<style scoped>\n",
              "    .dataframe tbody tr th:only-of-type {\n",
              "        vertical-align: middle;\n",
              "    }\n",
              "\n",
              "    .dataframe tbody tr th {\n",
              "        vertical-align: top;\n",
              "    }\n",
              "\n",
              "    .dataframe thead th {\n",
              "        text-align: right;\n",
              "    }\n",
              "</style>\n",
              "<table border=\"1\" class=\"dataframe\">\n",
              "  <thead>\n",
              "    <tr style=\"text-align: right;\">\n",
              "      <th></th>\n",
              "      <th>Invoice</th>\n",
              "      <th>StockCode</th>\n",
              "      <th>Description</th>\n",
              "      <th>Quantity</th>\n",
              "      <th>InvoiceDate</th>\n",
              "      <th>Price</th>\n",
              "      <th>Customer ID</th>\n",
              "      <th>Country</th>\n",
              "    </tr>\n",
              "  </thead>\n",
              "  <tbody>\n",
              "    <tr>\n",
              "      <th>541905</th>\n",
              "      <td>581587</td>\n",
              "      <td>22899</td>\n",
              "      <td>CHILDREN'S APRON DOLLY GIRL</td>\n",
              "      <td>6</td>\n",
              "      <td>2011-12-09 12:50:00</td>\n",
              "      <td>2.10</td>\n",
              "      <td>12680.0</td>\n",
              "      <td>France</td>\n",
              "    </tr>\n",
              "    <tr>\n",
              "      <th>541906</th>\n",
              "      <td>581587</td>\n",
              "      <td>23254</td>\n",
              "      <td>CHILDRENS CUTLERY DOLLY GIRL</td>\n",
              "      <td>4</td>\n",
              "      <td>2011-12-09 12:50:00</td>\n",
              "      <td>4.15</td>\n",
              "      <td>12680.0</td>\n",
              "      <td>France</td>\n",
              "    </tr>\n",
              "    <tr>\n",
              "      <th>541907</th>\n",
              "      <td>581587</td>\n",
              "      <td>23255</td>\n",
              "      <td>CHILDRENS CUTLERY CIRCUS PARADE</td>\n",
              "      <td>4</td>\n",
              "      <td>2011-12-09 12:50:00</td>\n",
              "      <td>4.15</td>\n",
              "      <td>12680.0</td>\n",
              "      <td>France</td>\n",
              "    </tr>\n",
              "    <tr>\n",
              "      <th>541908</th>\n",
              "      <td>581587</td>\n",
              "      <td>22138</td>\n",
              "      <td>BAKING SET 9 PIECE RETROSPOT</td>\n",
              "      <td>3</td>\n",
              "      <td>2011-12-09 12:50:00</td>\n",
              "      <td>4.95</td>\n",
              "      <td>12680.0</td>\n",
              "      <td>France</td>\n",
              "    </tr>\n",
              "    <tr>\n",
              "      <th>541909</th>\n",
              "      <td>581587</td>\n",
              "      <td>POST</td>\n",
              "      <td>POSTAGE</td>\n",
              "      <td>1</td>\n",
              "      <td>2011-12-09 12:50:00</td>\n",
              "      <td>18.00</td>\n",
              "      <td>12680.0</td>\n",
              "      <td>France</td>\n",
              "    </tr>\n",
              "  </tbody>\n",
              "</table>\n",
              "</div>"
            ],
            "text/plain": [
              "       Invoice StockCode  ... Customer ID  Country\n",
              "541905  581587     22899  ...     12680.0   France\n",
              "541906  581587     23254  ...     12680.0   France\n",
              "541907  581587     23255  ...     12680.0   France\n",
              "541908  581587     22138  ...     12680.0   France\n",
              "541909  581587      POST  ...     12680.0   France\n",
              "\n",
              "[5 rows x 8 columns]"
            ]
          },
          "metadata": {
            "tags": []
          },
          "execution_count": 13
        }
      ]
    },
    {
      "cell_type": "markdown",
      "metadata": {
        "id": "Ns9qv4HfuDZi",
        "colab_type": "text"
      },
      "source": [
        "# Exploring the content of variables\n",
        "\n",
        "### This dataframe contains 8 variables that correspond to:\n",
        "\n",
        "Invoice: Invoice number (Nominal), a 6-digit integral number uniquely assigned to each transaction. If this code starts with letter 'c', it indicates a cancellation.\n",
        "\n",
        "StockCode: Product (item) code (Nominal), a 5-digit integral number uniquely assigned to each distinct product.\n",
        "\n",
        "Description: Product (item) name (Nominal)\n",
        "\n",
        "Quantity: The quantities of each product (item) per transaction (Numeric)\n",
        "\n",
        "InvoiceDate: Invoice Date and time (Numeric), the day and time when each transaction was generated.\n",
        "\n",
        "Price: Unit price (Numeric), Product price per unit in sterling.\n",
        "\n",
        "CustomerID: Customer number (Nominal), a 5-digit integral number uniquely assigned to each customer.\n",
        "\n",
        "Country: Country name (Nominal), the name of the country where each customer resides."
      ]
    },
    {
      "cell_type": "markdown",
      "metadata": {
        "id": "D9k4dpKRuDZk",
        "colab_type": "text"
      },
      "source": [
        "## Data Preprocessing\n",
        "\n",
        "\n",
        "### Identifying missing values"
      ]
    },
    {
      "cell_type": "code",
      "metadata": {
        "id": "-7YMgmg7uDZn",
        "colab_type": "code",
        "outputId": "db846234-f198-40f5-fcb0-315b72efcef3",
        "colab": {
          "base_uri": "https://localhost:8080/",
          "height": 112
        }
      },
      "source": [
        " #Identify the number of NAs in each feature and select only those having NAs\n",
        "total_NA = df.isnull().sum()[df.isnull().sum() != 0]\n",
        "\n",
        "# Calculate the percentage of NA in each feature\n",
        "percent_NA = total_NA/df.shape[0]\n",
        "\n",
        "# Summarize our findings in a dataframe\n",
        "missing = pd.concat([total_NA, percent_NA], axis=1, keys=['Total NAs', 'Percentage']).sort_values('Total NAs', ascending=False)\n",
        "missing"
      ],
      "execution_count": 14,
      "outputs": [
        {
          "output_type": "execute_result",
          "data": {
            "text/html": [
              "<div>\n",
              "<style scoped>\n",
              "    .dataframe tbody tr th:only-of-type {\n",
              "        vertical-align: middle;\n",
              "    }\n",
              "\n",
              "    .dataframe tbody tr th {\n",
              "        vertical-align: top;\n",
              "    }\n",
              "\n",
              "    .dataframe thead th {\n",
              "        text-align: right;\n",
              "    }\n",
              "</style>\n",
              "<table border=\"1\" class=\"dataframe\">\n",
              "  <thead>\n",
              "    <tr style=\"text-align: right;\">\n",
              "      <th></th>\n",
              "      <th>Total NAs</th>\n",
              "      <th>Percentage</th>\n",
              "    </tr>\n",
              "  </thead>\n",
              "  <tbody>\n",
              "    <tr>\n",
              "      <th>Customer ID</th>\n",
              "      <td>226821</td>\n",
              "      <td>0.226947</td>\n",
              "    </tr>\n",
              "    <tr>\n",
              "      <th>Description</th>\n",
              "      <td>4176</td>\n",
              "      <td>0.004178</td>\n",
              "    </tr>\n",
              "  </tbody>\n",
              "</table>\n",
              "</div>"
            ],
            "text/plain": [
              "             Total NAs  Percentage\n",
              "Customer ID     226821    0.226947\n",
              "Description       4176    0.004178"
            ]
          },
          "metadata": {
            "tags": []
          },
          "execution_count": 14
        }
      ]
    },
    {
      "cell_type": "code",
      "metadata": {
        "id": "stVz71q-uDZz",
        "colab_type": "code",
        "colab": {}
      },
      "source": [
        "# Drop transactions with missing Customer ID\n",
        "df.dropna(axis=0, subset=['Customer ID'], inplace= True)"
      ],
      "execution_count": 0,
      "outputs": []
    },
    {
      "cell_type": "code",
      "metadata": {
        "id": "-39EntSUuDZ-",
        "colab_type": "code",
        "outputId": "a0c5aaac-9d3d-4e34-e07c-55c12c65a08f",
        "colab": {
          "base_uri": "https://localhost:8080/",
          "height": 188
        }
      },
      "source": [
        "df.isnull().sum()"
      ],
      "execution_count": 16,
      "outputs": [
        {
          "output_type": "execute_result",
          "data": {
            "text/plain": [
              "Invoice        0\n",
              "StockCode      0\n",
              "Description    0\n",
              "Quantity       0\n",
              "InvoiceDate    0\n",
              "Price          0\n",
              "Customer ID    0\n",
              "Country        0\n",
              "dtype: int64"
            ]
          },
          "metadata": {
            "tags": []
          },
          "execution_count": 16
        }
      ]
    },
    {
      "cell_type": "code",
      "metadata": {
        "id": "7Z3U0LGSuDaH",
        "colab_type": "code",
        "outputId": "686ddd76-42c8-4f83-934c-82742fb7d6ae",
        "colab": {
          "base_uri": "https://localhost:8080/",
          "height": 36
        }
      },
      "source": [
        "df.shape"
      ],
      "execution_count": 17,
      "outputs": [
        {
          "output_type": "execute_result",
          "data": {
            "text/plain": [
              "(772623, 8)"
            ]
          },
          "metadata": {
            "tags": []
          },
          "execution_count": 17
        }
      ]
    },
    {
      "cell_type": "code",
      "metadata": {
        "id": "LdTI-tsduDaS",
        "colab_type": "code",
        "colab": {}
      },
      "source": [
        "df[['StockCode']] = df['StockCode'].astype(str)\n",
        "df[['Customer ID']] = df['Customer ID'].astype(int).astype(str)\n",
        "df[['Invoice']] = df['Invoice'].astype(str)"
      ],
      "execution_count": 0,
      "outputs": []
    },
    {
      "cell_type": "code",
      "metadata": {
        "id": "OOgt5hIVuDaa",
        "colab_type": "code",
        "outputId": "9d4ded47-e75f-4311-da83-56bd0f86b66f",
        "colab": {
          "base_uri": "https://localhost:8080/",
          "height": 264
        }
      },
      "source": [
        "df.info()"
      ],
      "execution_count": 19,
      "outputs": [
        {
          "output_type": "stream",
          "text": [
            "<class 'pandas.core.frame.DataFrame'>\n",
            "Int64Index: 772623 entries, 22769 to 541909\n",
            "Data columns (total 8 columns):\n",
            "Invoice        772623 non-null object\n",
            "StockCode      772623 non-null object\n",
            "Description    772623 non-null object\n",
            "Quantity       772623 non-null int64\n",
            "InvoiceDate    772623 non-null datetime64[ns]\n",
            "Price          772623 non-null float64\n",
            "Customer ID    772623 non-null object\n",
            "Country        772623 non-null object\n",
            "dtypes: datetime64[ns](1), float64(1), int64(1), object(5)\n",
            "memory usage: 53.1+ MB\n"
          ],
          "name": "stdout"
        }
      ]
    },
    {
      "cell_type": "code",
      "metadata": {
        "id": "iV2y8BY1uDah",
        "colab_type": "code",
        "outputId": "8a38e665-812f-4cf6-f82d-6565b5331c54",
        "colab": {
          "base_uri": "https://localhost:8080/",
          "height": 36
        }
      },
      "source": [
        "indx1 = df.Invoice[df.Invoice.str.contains('C') == True].index\n",
        "print('Number of orders cancelled: {}/{} ({:.2f}%) '.format(len(indx1),df.shape[0],len(indx1)/df.shape[0]*100))"
      ],
      "execution_count": 20,
      "outputs": [
        {
          "output_type": "stream",
          "text": [
            "Number of orders cancelled: 17657/772623 (2.29%) \n"
          ],
          "name": "stdout"
        }
      ]
    },
    {
      "cell_type": "code",
      "metadata": {
        "id": "lL9-ofJluDaq",
        "colab_type": "code",
        "outputId": "9e29aea4-45cb-4c67-b06d-f47870a23cd2",
        "colab": {
          "base_uri": "https://localhost:8080/",
          "height": 36
        }
      },
      "source": [
        "# Drop cancelled transactions\n",
        "df.drop(index= indx1, inplace= True)\n",
        "df.shape"
      ],
      "execution_count": 21,
      "outputs": [
        {
          "output_type": "execute_result",
          "data": {
            "text/plain": [
              "(741725, 8)"
            ]
          },
          "metadata": {
            "tags": []
          },
          "execution_count": 21
        }
      ]
    },
    {
      "cell_type": "code",
      "metadata": {
        "id": "RTTfxONuuDay",
        "colab_type": "code",
        "outputId": "87ccc9ef-f697-45cd-d51a-67bbe66947bb",
        "colab": {
          "base_uri": "https://localhost:8080/",
          "height": 300
        }
      },
      "source": [
        "df.describe()"
      ],
      "execution_count": 22,
      "outputs": [
        {
          "output_type": "execute_result",
          "data": {
            "text/html": [
              "<div>\n",
              "<style scoped>\n",
              "    .dataframe tbody tr th:only-of-type {\n",
              "        vertical-align: middle;\n",
              "    }\n",
              "\n",
              "    .dataframe tbody tr th {\n",
              "        vertical-align: top;\n",
              "    }\n",
              "\n",
              "    .dataframe thead th {\n",
              "        text-align: right;\n",
              "    }\n",
              "</style>\n",
              "<table border=\"1\" class=\"dataframe\">\n",
              "  <thead>\n",
              "    <tr style=\"text-align: right;\">\n",
              "      <th></th>\n",
              "      <th>Quantity</th>\n",
              "      <th>Price</th>\n",
              "    </tr>\n",
              "  </thead>\n",
              "  <tbody>\n",
              "    <tr>\n",
              "      <th>count</th>\n",
              "      <td>741725.000000</td>\n",
              "      <td>741725.000000</td>\n",
              "    </tr>\n",
              "    <tr>\n",
              "      <th>mean</th>\n",
              "      <td>13.544388</td>\n",
              "      <td>3.213633</td>\n",
              "    </tr>\n",
              "    <tr>\n",
              "      <th>std</th>\n",
              "      <td>149.474327</td>\n",
              "      <td>29.964049</td>\n",
              "    </tr>\n",
              "    <tr>\n",
              "      <th>min</th>\n",
              "      <td>1.000000</td>\n",
              "      <td>0.000000</td>\n",
              "    </tr>\n",
              "    <tr>\n",
              "      <th>25%</th>\n",
              "      <td>2.000000</td>\n",
              "      <td>1.250000</td>\n",
              "    </tr>\n",
              "    <tr>\n",
              "      <th>50%</th>\n",
              "      <td>6.000000</td>\n",
              "      <td>1.950000</td>\n",
              "    </tr>\n",
              "    <tr>\n",
              "      <th>75%</th>\n",
              "      <td>12.000000</td>\n",
              "      <td>3.750000</td>\n",
              "    </tr>\n",
              "    <tr>\n",
              "      <th>max</th>\n",
              "      <td>80995.000000</td>\n",
              "      <td>10953.500000</td>\n",
              "    </tr>\n",
              "  </tbody>\n",
              "</table>\n",
              "</div>"
            ],
            "text/plain": [
              "            Quantity          Price\n",
              "count  741725.000000  741725.000000\n",
              "mean       13.544388       3.213633\n",
              "std       149.474327      29.964049\n",
              "min         1.000000       0.000000\n",
              "25%         2.000000       1.250000\n",
              "50%         6.000000       1.950000\n",
              "75%        12.000000       3.750000\n",
              "max     80995.000000   10953.500000"
            ]
          },
          "metadata": {
            "tags": []
          },
          "execution_count": 22
        }
      ]
    },
    {
      "cell_type": "code",
      "metadata": {
        "id": "06UcloG1uDa6",
        "colab_type": "code",
        "colab": {}
      },
      "source": [
        "# Revenue per transaction which is the product of sale price and quantity\n",
        "df['Revenue'] = df['Price'] * df['Quantity']"
      ],
      "execution_count": 0,
      "outputs": []
    },
    {
      "cell_type": "code",
      "metadata": {
        "id": "UssqMcaBuDbD",
        "colab_type": "code",
        "outputId": "f736f8b6-c9f7-4cc8-b609-edd692ddae09",
        "colab": {
          "base_uri": "https://localhost:8080/",
          "height": 36
        }
      },
      "source": [
        "df[df.Revenue == 0].shape"
      ],
      "execution_count": 24,
      "outputs": [
        {
          "output_type": "execute_result",
          "data": {
            "text/plain": [
              "(64, 9)"
            ]
          },
          "metadata": {
            "tags": []
          },
          "execution_count": 24
        }
      ]
    },
    {
      "cell_type": "code",
      "metadata": {
        "id": "IPrju3CZuDbJ",
        "colab_type": "code",
        "outputId": "06dc1e54-bb03-4a91-8d81-0272d9ed085a",
        "colab": {
          "base_uri": "https://localhost:8080/",
          "height": 206
        }
      },
      "source": [
        "# Drop transactions with zero Revenue\n",
        "indx2 = df.loc[df.Revenue == 0].index\n",
        "df_new = df.drop(index= indx2)\n",
        "df_new.shape\n",
        "df_new.tail()"
      ],
      "execution_count": 67,
      "outputs": [
        {
          "output_type": "execute_result",
          "data": {
            "text/html": [
              "<div>\n",
              "<style scoped>\n",
              "    .dataframe tbody tr th:only-of-type {\n",
              "        vertical-align: middle;\n",
              "    }\n",
              "\n",
              "    .dataframe tbody tr th {\n",
              "        vertical-align: top;\n",
              "    }\n",
              "\n",
              "    .dataframe thead th {\n",
              "        text-align: right;\n",
              "    }\n",
              "</style>\n",
              "<table border=\"1\" class=\"dataframe\">\n",
              "  <thead>\n",
              "    <tr style=\"text-align: right;\">\n",
              "      <th></th>\n",
              "      <th>Invoice</th>\n",
              "      <th>StockCode</th>\n",
              "      <th>Description</th>\n",
              "      <th>Quantity</th>\n",
              "      <th>InvoiceDate</th>\n",
              "      <th>Price</th>\n",
              "      <th>Customer ID</th>\n",
              "      <th>Country</th>\n",
              "      <th>Revenue</th>\n",
              "    </tr>\n",
              "  </thead>\n",
              "  <tbody>\n",
              "    <tr>\n",
              "      <th>541905</th>\n",
              "      <td>581587</td>\n",
              "      <td>22899</td>\n",
              "      <td>CHILDREN'S APRON DOLLY GIRL</td>\n",
              "      <td>6</td>\n",
              "      <td>2011-12-09 12:50:00</td>\n",
              "      <td>2.10</td>\n",
              "      <td>12680</td>\n",
              "      <td>France</td>\n",
              "      <td>12.60</td>\n",
              "    </tr>\n",
              "    <tr>\n",
              "      <th>541906</th>\n",
              "      <td>581587</td>\n",
              "      <td>23254</td>\n",
              "      <td>CHILDRENS CUTLERY DOLLY GIRL</td>\n",
              "      <td>4</td>\n",
              "      <td>2011-12-09 12:50:00</td>\n",
              "      <td>4.15</td>\n",
              "      <td>12680</td>\n",
              "      <td>France</td>\n",
              "      <td>16.60</td>\n",
              "    </tr>\n",
              "    <tr>\n",
              "      <th>541907</th>\n",
              "      <td>581587</td>\n",
              "      <td>23255</td>\n",
              "      <td>CHILDRENS CUTLERY CIRCUS PARADE</td>\n",
              "      <td>4</td>\n",
              "      <td>2011-12-09 12:50:00</td>\n",
              "      <td>4.15</td>\n",
              "      <td>12680</td>\n",
              "      <td>France</td>\n",
              "      <td>16.60</td>\n",
              "    </tr>\n",
              "    <tr>\n",
              "      <th>541908</th>\n",
              "      <td>581587</td>\n",
              "      <td>22138</td>\n",
              "      <td>BAKING SET 9 PIECE RETROSPOT</td>\n",
              "      <td>3</td>\n",
              "      <td>2011-12-09 12:50:00</td>\n",
              "      <td>4.95</td>\n",
              "      <td>12680</td>\n",
              "      <td>France</td>\n",
              "      <td>14.85</td>\n",
              "    </tr>\n",
              "    <tr>\n",
              "      <th>541909</th>\n",
              "      <td>581587</td>\n",
              "      <td>POST</td>\n",
              "      <td>POSTAGE</td>\n",
              "      <td>1</td>\n",
              "      <td>2011-12-09 12:50:00</td>\n",
              "      <td>18.00</td>\n",
              "      <td>12680</td>\n",
              "      <td>France</td>\n",
              "      <td>18.00</td>\n",
              "    </tr>\n",
              "  </tbody>\n",
              "</table>\n",
              "</div>"
            ],
            "text/plain": [
              "       Invoice StockCode  ... Country  Revenue\n",
              "541905  581587     22899  ...  France    12.60\n",
              "541906  581587     23254  ...  France    16.60\n",
              "541907  581587     23255  ...  France    16.60\n",
              "541908  581587     22138  ...  France    14.85\n",
              "541909  581587      POST  ...  France    18.00\n",
              "\n",
              "[5 rows x 9 columns]"
            ]
          },
          "metadata": {
            "tags": []
          },
          "execution_count": 67
        }
      ]
    },
    {
      "cell_type": "code",
      "metadata": {
        "id": "k_7BqZAIuDbP",
        "colab_type": "code",
        "outputId": "f93a35f6-1eee-4bee-b48d-f4b15a2275c5",
        "colab": {
          "base_uri": "https://localhost:8080/",
          "height": 144
        }
      },
      "source": [
        "df_new.describe().T"
      ],
      "execution_count": 26,
      "outputs": [
        {
          "output_type": "execute_result",
          "data": {
            "text/html": [
              "<div>\n",
              "<style scoped>\n",
              "    .dataframe tbody tr th:only-of-type {\n",
              "        vertical-align: middle;\n",
              "    }\n",
              "\n",
              "    .dataframe tbody tr th {\n",
              "        vertical-align: top;\n",
              "    }\n",
              "\n",
              "    .dataframe thead th {\n",
              "        text-align: right;\n",
              "    }\n",
              "</style>\n",
              "<table border=\"1\" class=\"dataframe\">\n",
              "  <thead>\n",
              "    <tr style=\"text-align: right;\">\n",
              "      <th></th>\n",
              "      <th>count</th>\n",
              "      <th>mean</th>\n",
              "      <th>std</th>\n",
              "      <th>min</th>\n",
              "      <th>25%</th>\n",
              "      <th>50%</th>\n",
              "      <th>75%</th>\n",
              "      <th>max</th>\n",
              "    </tr>\n",
              "  </thead>\n",
              "  <tbody>\n",
              "    <tr>\n",
              "      <th>Quantity</th>\n",
              "      <td>741608.0</td>\n",
              "      <td>13.525852</td>\n",
              "      <td>148.774012</td>\n",
              "      <td>1.000</td>\n",
              "      <td>2.00</td>\n",
              "      <td>6.00</td>\n",
              "      <td>12.00</td>\n",
              "      <td>80995.0</td>\n",
              "    </tr>\n",
              "    <tr>\n",
              "      <th>Price</th>\n",
              "      <td>741608.0</td>\n",
              "      <td>3.210246</td>\n",
              "      <td>29.793673</td>\n",
              "      <td>0.001</td>\n",
              "      <td>1.25</td>\n",
              "      <td>1.95</td>\n",
              "      <td>3.75</td>\n",
              "      <td>10953.5</td>\n",
              "    </tr>\n",
              "    <tr>\n",
              "      <th>Revenue</th>\n",
              "      <td>741608.0</td>\n",
              "      <td>22.272111</td>\n",
              "      <td>232.468327</td>\n",
              "      <td>0.001</td>\n",
              "      <td>4.95</td>\n",
              "      <td>12.48</td>\n",
              "      <td>19.80</td>\n",
              "      <td>168469.6</td>\n",
              "    </tr>\n",
              "  </tbody>\n",
              "</table>\n",
              "</div>"
            ],
            "text/plain": [
              "             count       mean         std    min   25%    50%    75%       max\n",
              "Quantity  741608.0  13.525852  148.774012  1.000  2.00   6.00  12.00   80995.0\n",
              "Price     741608.0   3.210246   29.793673  0.001  1.25   1.95   3.75   10953.5\n",
              "Revenue   741608.0  22.272111  232.468327  0.001  4.95  12.48  19.80  168469.6"
            ]
          },
          "metadata": {
            "tags": []
          },
          "execution_count": 26
        }
      ]
    },
    {
      "cell_type": "code",
      "metadata": {
        "id": "UILq6AGWuDbX",
        "colab_type": "code",
        "outputId": "44d6865a-28c6-42e4-dc6b-ec8d0224e005",
        "colab": {
          "base_uri": "https://localhost:8080/",
          "height": 206
        }
      },
      "source": [
        "# Summary statistics of categorical variables\n",
        "df_new.select_dtypes(include='object').describe().T"
      ],
      "execution_count": 27,
      "outputs": [
        {
          "output_type": "execute_result",
          "data": {
            "text/html": [
              "<div>\n",
              "<style scoped>\n",
              "    .dataframe tbody tr th:only-of-type {\n",
              "        vertical-align: middle;\n",
              "    }\n",
              "\n",
              "    .dataframe tbody tr th {\n",
              "        vertical-align: top;\n",
              "    }\n",
              "\n",
              "    .dataframe thead th {\n",
              "        text-align: right;\n",
              "    }\n",
              "</style>\n",
              "<table border=\"1\" class=\"dataframe\">\n",
              "  <thead>\n",
              "    <tr style=\"text-align: right;\">\n",
              "      <th></th>\n",
              "      <th>count</th>\n",
              "      <th>unique</th>\n",
              "      <th>top</th>\n",
              "      <th>freq</th>\n",
              "    </tr>\n",
              "  </thead>\n",
              "  <tbody>\n",
              "    <tr>\n",
              "      <th>Invoice</th>\n",
              "      <td>741608</td>\n",
              "      <td>35983</td>\n",
              "      <td>580727</td>\n",
              "      <td>529</td>\n",
              "    </tr>\n",
              "    <tr>\n",
              "      <th>StockCode</th>\n",
              "      <td>741608</td>\n",
              "      <td>4584</td>\n",
              "      <td>85123A</td>\n",
              "      <td>4743</td>\n",
              "    </tr>\n",
              "    <tr>\n",
              "      <th>Description</th>\n",
              "      <td>741608</td>\n",
              "      <td>5225</td>\n",
              "      <td>WHITE HANGING HEART T-LIGHT HOLDER</td>\n",
              "      <td>4736</td>\n",
              "    </tr>\n",
              "    <tr>\n",
              "      <th>Customer ID</th>\n",
              "      <td>741608</td>\n",
              "      <td>5821</td>\n",
              "      <td>17841</td>\n",
              "      <td>11906</td>\n",
              "    </tr>\n",
              "    <tr>\n",
              "      <th>Country</th>\n",
              "      <td>741608</td>\n",
              "      <td>41</td>\n",
              "      <td>United Kingdom</td>\n",
              "      <td>665598</td>\n",
              "    </tr>\n",
              "  </tbody>\n",
              "</table>\n",
              "</div>"
            ],
            "text/plain": [
              "              count unique                                 top    freq\n",
              "Invoice      741608  35983                              580727     529\n",
              "StockCode    741608   4584                              85123A    4743\n",
              "Description  741608   5225  WHITE HANGING HEART T-LIGHT HOLDER    4736\n",
              "Customer ID  741608   5821                               17841   11906\n",
              "Country      741608     41                      United Kingdom  665598"
            ]
          },
          "metadata": {
            "tags": []
          },
          "execution_count": 27
        }
      ]
    },
    {
      "cell_type": "code",
      "metadata": {
        "id": "oD24-L9iuDbd",
        "colab_type": "code",
        "colab": {}
      },
      "source": [
        "#df_new.to_excel(\"Combined_cleaned_data_2009-12.xlsx\")"
      ],
      "execution_count": 0,
      "outputs": []
    },
    {
      "cell_type": "code",
      "metadata": {
        "id": "d8zoziCwuDbk",
        "colab_type": "code",
        "outputId": "062e3282-b962-4e42-f3b4-e9c9707daf31",
        "colab": {
          "base_uri": "https://localhost:8080/",
          "height": 238
        }
      },
      "source": [
        "# Grouping by Country\n",
        "country_df = df_new.groupby(['Country']).agg({\n",
        "        'Customer ID': 'count',\n",
        "        'Invoice': 'nunique',\n",
        "        'Revenue': 'sum'})\n",
        "# Rename the columns \n",
        "country_df.rename(columns={'Customer ID': 'Number_of_customers',\n",
        "                         'Invoice': 'Number_of_transactions',\n",
        "                         'Revenue': 'Total_Sales'}, inplace=True)\n",
        "country_df.sort_values('Total_Sales',ascending=False,inplace=True)\n",
        "country_df.head()"
      ],
      "execution_count": 29,
      "outputs": [
        {
          "output_type": "execute_result",
          "data": {
            "text/html": [
              "<div>\n",
              "<style scoped>\n",
              "    .dataframe tbody tr th:only-of-type {\n",
              "        vertical-align: middle;\n",
              "    }\n",
              "\n",
              "    .dataframe tbody tr th {\n",
              "        vertical-align: top;\n",
              "    }\n",
              "\n",
              "    .dataframe thead th {\n",
              "        text-align: right;\n",
              "    }\n",
              "</style>\n",
              "<table border=\"1\" class=\"dataframe\">\n",
              "  <thead>\n",
              "    <tr style=\"text-align: right;\">\n",
              "      <th></th>\n",
              "      <th>Number_of_customers</th>\n",
              "      <th>Number_of_transactions</th>\n",
              "      <th>Total_Sales</th>\n",
              "    </tr>\n",
              "    <tr>\n",
              "      <th>Country</th>\n",
              "      <th></th>\n",
              "      <th></th>\n",
              "      <th></th>\n",
              "    </tr>\n",
              "  </thead>\n",
              "  <tbody>\n",
              "    <tr>\n",
              "      <th>United Kingdom</th>\n",
              "      <td>665598</td>\n",
              "      <td>32618</td>\n",
              "      <td>1.364734e+07</td>\n",
              "    </tr>\n",
              "    <tr>\n",
              "      <th>EIRE</th>\n",
              "      <td>15006</td>\n",
              "      <td>557</td>\n",
              "      <td>5.943787e+05</td>\n",
              "    </tr>\n",
              "    <tr>\n",
              "      <th>Netherlands</th>\n",
              "      <td>4838</td>\n",
              "      <td>223</td>\n",
              "      <td>5.308057e+05</td>\n",
              "    </tr>\n",
              "    <tr>\n",
              "      <th>Germany</th>\n",
              "      <td>15818</td>\n",
              "      <td>776</td>\n",
              "      <td>4.066542e+05</td>\n",
              "    </tr>\n",
              "    <tr>\n",
              "      <th>France</th>\n",
              "      <td>12979</td>\n",
              "      <td>604</td>\n",
              "      <td>3.351722e+05</td>\n",
              "    </tr>\n",
              "  </tbody>\n",
              "</table>\n",
              "</div>"
            ],
            "text/plain": [
              "                Number_of_customers  Number_of_transactions   Total_Sales\n",
              "Country                                                                  \n",
              "United Kingdom               665598                   32618  1.364734e+07\n",
              "EIRE                          15006                     557  5.943787e+05\n",
              "Netherlands                    4838                     223  5.308057e+05\n",
              "Germany                       15818                     776  4.066542e+05\n",
              "France                        12979                     604  3.351722e+05"
            ]
          },
          "metadata": {
            "tags": []
          },
          "execution_count": 29
        }
      ]
    },
    {
      "cell_type": "code",
      "metadata": {
        "id": "f9ZJmvAMuDbr",
        "colab_type": "code",
        "colab": {}
      },
      "source": [
        "country_df['Avg_sales_per_customer'] = country_df['Total_Sales'] / country_df['Number_of_customers']"
      ],
      "execution_count": 0,
      "outputs": []
    },
    {
      "cell_type": "code",
      "metadata": {
        "id": "zWEH4kENuDbx",
        "colab_type": "code",
        "outputId": "4bd31773-15aa-4d39-bd90-0725bb4d7894",
        "colab": {
          "base_uri": "https://localhost:8080/",
          "height": 238
        }
      },
      "source": [
        "country_df.head()"
      ],
      "execution_count": 31,
      "outputs": [
        {
          "output_type": "execute_result",
          "data": {
            "text/html": [
              "<div>\n",
              "<style scoped>\n",
              "    .dataframe tbody tr th:only-of-type {\n",
              "        vertical-align: middle;\n",
              "    }\n",
              "\n",
              "    .dataframe tbody tr th {\n",
              "        vertical-align: top;\n",
              "    }\n",
              "\n",
              "    .dataframe thead th {\n",
              "        text-align: right;\n",
              "    }\n",
              "</style>\n",
              "<table border=\"1\" class=\"dataframe\">\n",
              "  <thead>\n",
              "    <tr style=\"text-align: right;\">\n",
              "      <th></th>\n",
              "      <th>Number_of_customers</th>\n",
              "      <th>Number_of_transactions</th>\n",
              "      <th>Total_Sales</th>\n",
              "      <th>Avg_sales_per_customer</th>\n",
              "    </tr>\n",
              "    <tr>\n",
              "      <th>Country</th>\n",
              "      <th></th>\n",
              "      <th></th>\n",
              "      <th></th>\n",
              "      <th></th>\n",
              "    </tr>\n",
              "  </thead>\n",
              "  <tbody>\n",
              "    <tr>\n",
              "      <th>United Kingdom</th>\n",
              "      <td>665598</td>\n",
              "      <td>32618</td>\n",
              "      <td>1.364734e+07</td>\n",
              "      <td>20.503877</td>\n",
              "    </tr>\n",
              "    <tr>\n",
              "      <th>EIRE</th>\n",
              "      <td>15006</td>\n",
              "      <td>557</td>\n",
              "      <td>5.943787e+05</td>\n",
              "      <td>39.609406</td>\n",
              "    </tr>\n",
              "    <tr>\n",
              "      <th>Netherlands</th>\n",
              "      <td>4838</td>\n",
              "      <td>223</td>\n",
              "      <td>5.308057e+05</td>\n",
              "      <td>109.715945</td>\n",
              "    </tr>\n",
              "    <tr>\n",
              "      <th>Germany</th>\n",
              "      <td>15818</td>\n",
              "      <td>776</td>\n",
              "      <td>4.066542e+05</td>\n",
              "      <td>25.708322</td>\n",
              "    </tr>\n",
              "    <tr>\n",
              "      <th>France</th>\n",
              "      <td>12979</td>\n",
              "      <td>604</td>\n",
              "      <td>3.351722e+05</td>\n",
              "      <td>25.824194</td>\n",
              "    </tr>\n",
              "  </tbody>\n",
              "</table>\n",
              "</div>"
            ],
            "text/plain": [
              "                Number_of_customers  ...  Avg_sales_per_customer\n",
              "Country                              ...                        \n",
              "United Kingdom               665598  ...               20.503877\n",
              "EIRE                          15006  ...               39.609406\n",
              "Netherlands                    4838  ...              109.715945\n",
              "Germany                       15818  ...               25.708322\n",
              "France                        12979  ...               25.824194\n",
              "\n",
              "[5 rows x 4 columns]"
            ]
          },
          "metadata": {
            "tags": []
          },
          "execution_count": 31
        }
      ]
    },
    {
      "cell_type": "code",
      "metadata": {
        "id": "0SZB4wczuDb6",
        "colab_type": "code",
        "outputId": "5d171750-c40e-4c61-d36f-17915afcad43",
        "colab": {
          "base_uri": "https://localhost:8080/",
          "height": 467
        }
      },
      "source": [
        "country_df['Avg_sales_per_customer'].plot(kind='bar',figsize=(10,5),title='Average amount paid by the customer from a particular country')\n",
        "plt.ylabel('Average amount')\n",
        "plt.xlabel('Country')"
      ],
      "execution_count": 32,
      "outputs": [
        {
          "output_type": "execute_result",
          "data": {
            "text/plain": [
              "Text(0.5, 0, 'Country')"
            ]
          },
          "metadata": {
            "tags": []
          },
          "execution_count": 32
        },
        {
          "output_type": "display_data",
          "data": {
            "image/png": "[encoded data removed]",
            "text/plain": [
              "<Figure size 720x360 with 1 Axes>"
            ]
          },
          "metadata": {
            "tags": []
          }
        }
      ]
    },
    {
      "cell_type": "code",
      "metadata": {
        "id": "5y9LIH3quDb_",
        "colab_type": "code",
        "colab": {}
      },
      "source": [
        "modifed_df = df_new[['Invoice','Revenue','InvoiceDate','Country']].copy()\n",
        "modifed_df['Month'] = modifed_df['InvoiceDate'].dt.month \n",
        "modifed_df['Year'] = modifed_df['InvoiceDate'].dt.year "
      ],
      "execution_count": 0,
      "outputs": []
    },
    {
      "cell_type": "code",
      "metadata": {
        "id": "FT29-AWEuDcF",
        "colab_type": "code",
        "outputId": "97445d56-78a3-45cb-d124-f56b9672f807",
        "colab": {
          "base_uri": "https://localhost:8080/",
          "height": 865
        }
      },
      "source": [
        "date_df = modifed_df.groupby(['Year','Month']).agg({'Invoice': 'nunique',\n",
        "        'Revenue': 'sum'})\n",
        "date_df"
      ],
      "execution_count": 34,
      "outputs": [
        {
          "output_type": "execute_result",
          "data": {
            "text/html": [
              "<div>\n",
              "<style scoped>\n",
              "    .dataframe tbody tr th:only-of-type {\n",
              "        vertical-align: middle;\n",
              "    }\n",
              "\n",
              "    .dataframe tbody tr th {\n",
              "        vertical-align: top;\n",
              "    }\n",
              "\n",
              "    .dataframe thead th {\n",
              "        text-align: right;\n",
              "    }\n",
              "</style>\n",
              "<table border=\"1\" class=\"dataframe\">\n",
              "  <thead>\n",
              "    <tr style=\"text-align: right;\">\n",
              "      <th></th>\n",
              "      <th></th>\n",
              "      <th>Invoice</th>\n",
              "      <th>Revenue</th>\n",
              "    </tr>\n",
              "    <tr>\n",
              "      <th>Year</th>\n",
              "      <th>Month</th>\n",
              "      <th></th>\n",
              "      <th></th>\n",
              "    </tr>\n",
              "  </thead>\n",
              "  <tbody>\n",
              "    <tr>\n",
              "      <th>2009</th>\n",
              "      <th>12</th>\n",
              "      <td>713</td>\n",
              "      <td>320365.410</td>\n",
              "    </tr>\n",
              "    <tr>\n",
              "      <th rowspan=\"12\" valign=\"top\">2010</th>\n",
              "      <th>1</th>\n",
              "      <td>996</td>\n",
              "      <td>534987.482</td>\n",
              "    </tr>\n",
              "    <tr>\n",
              "      <th>2</th>\n",
              "      <td>1103</td>\n",
              "      <td>495820.416</td>\n",
              "    </tr>\n",
              "    <tr>\n",
              "      <th>3</th>\n",
              "      <td>1516</td>\n",
              "      <td>678351.181</td>\n",
              "    </tr>\n",
              "    <tr>\n",
              "      <th>4</th>\n",
              "      <td>1320</td>\n",
              "      <td>577520.182</td>\n",
              "    </tr>\n",
              "    <tr>\n",
              "      <th>5</th>\n",
              "      <td>1374</td>\n",
              "      <td>582579.060</td>\n",
              "    </tr>\n",
              "    <tr>\n",
              "      <th>6</th>\n",
              "      <td>1493</td>\n",
              "      <td>623379.060</td>\n",
              "    </tr>\n",
              "    <tr>\n",
              "      <th>7</th>\n",
              "      <td>1373</td>\n",
              "      <td>571516.290</td>\n",
              "    </tr>\n",
              "    <tr>\n",
              "      <th>8</th>\n",
              "      <td>1288</td>\n",
              "      <td>589400.260</td>\n",
              "    </tr>\n",
              "    <tr>\n",
              "      <th>9</th>\n",
              "      <td>1684</td>\n",
              "      <td>808769.391</td>\n",
              "    </tr>\n",
              "    <tr>\n",
              "      <th>10</th>\n",
              "      <td>2115</td>\n",
              "      <td>1001059.160</td>\n",
              "    </tr>\n",
              "    <tr>\n",
              "      <th>11</th>\n",
              "      <td>2575</td>\n",
              "      <td>1129828.142</td>\n",
              "    </tr>\n",
              "    <tr>\n",
              "      <th>12</th>\n",
              "      <td>1390</td>\n",
              "      <td>546518.530</td>\n",
              "    </tr>\n",
              "    <tr>\n",
              "      <th rowspan=\"12\" valign=\"top\">2011</th>\n",
              "      <th>1</th>\n",
              "      <td>980</td>\n",
              "      <td>551577.570</td>\n",
              "    </tr>\n",
              "    <tr>\n",
              "      <th>2</th>\n",
              "      <td>997</td>\n",
              "      <td>431476.370</td>\n",
              "    </tr>\n",
              "    <tr>\n",
              "      <th>3</th>\n",
              "      <td>1315</td>\n",
              "      <td>576324.020</td>\n",
              "    </tr>\n",
              "    <tr>\n",
              "      <th>4</th>\n",
              "      <td>1141</td>\n",
              "      <td>456309.501</td>\n",
              "    </tr>\n",
              "    <tr>\n",
              "      <th>5</th>\n",
              "      <td>1544</td>\n",
              "      <td>654958.900</td>\n",
              "    </tr>\n",
              "    <tr>\n",
              "      <th>6</th>\n",
              "      <td>1383</td>\n",
              "      <td>635463.390</td>\n",
              "    </tr>\n",
              "    <tr>\n",
              "      <th>7</th>\n",
              "      <td>1324</td>\n",
              "      <td>581157.261</td>\n",
              "    </tr>\n",
              "    <tr>\n",
              "      <th>8</th>\n",
              "      <td>1271</td>\n",
              "      <td>625450.830</td>\n",
              "    </tr>\n",
              "    <tr>\n",
              "      <th>9</th>\n",
              "      <td>1747</td>\n",
              "      <td>923597.781</td>\n",
              "    </tr>\n",
              "    <tr>\n",
              "      <th>10</th>\n",
              "      <td>1918</td>\n",
              "      <td>986951.730</td>\n",
              "    </tr>\n",
              "    <tr>\n",
              "      <th>11</th>\n",
              "      <td>2646</td>\n",
              "      <td>1119346.170</td>\n",
              "    </tr>\n",
              "    <tr>\n",
              "      <th>12</th>\n",
              "      <td>777</td>\n",
              "      <td>514467.350</td>\n",
              "    </tr>\n",
              "  </tbody>\n",
              "</table>\n",
              "</div>"
            ],
            "text/plain": [
              "            Invoice      Revenue\n",
              "Year Month                      \n",
              "2009 12         713   320365.410\n",
              "2010 1          996   534987.482\n",
              "     2         1103   495820.416\n",
              "     3         1516   678351.181\n",
              "     4         1320   577520.182\n",
              "     5         1374   582579.060\n",
              "     6         1493   623379.060\n",
              "     7         1373   571516.290\n",
              "     8         1288   589400.260\n",
              "     9         1684   808769.391\n",
              "     10        2115  1001059.160\n",
              "     11        2575  1129828.142\n",
              "     12        1390   546518.530\n",
              "2011 1          980   551577.570\n",
              "     2          997   431476.370\n",
              "     3         1315   576324.020\n",
              "     4         1141   456309.501\n",
              "     5         1544   654958.900\n",
              "     6         1383   635463.390\n",
              "     7         1324   581157.261\n",
              "     8         1271   625450.830\n",
              "     9         1747   923597.781\n",
              "     10        1918   986951.730\n",
              "     11        2646  1119346.170\n",
              "     12         777   514467.350"
            ]
          },
          "metadata": {
            "tags": []
          },
          "execution_count": 34
        }
      ]
    },
    {
      "cell_type": "code",
      "metadata": {
        "id": "hcVfaz3buDcK",
        "colab_type": "code",
        "colab": {}
      },
      "source": [
        "month_df = modifed_df.groupby(['Month']).agg({'Revenue': 'sum'})\n"
      ],
      "execution_count": 0,
      "outputs": []
    },
    {
      "cell_type": "code",
      "metadata": {
        "id": "BUG7AgPCuDcP",
        "colab_type": "code",
        "outputId": "a19e25b6-acfa-4b36-c08f-b31710edb3d4",
        "colab": {
          "base_uri": "https://localhost:8080/",
          "height": 371
        }
      },
      "source": [
        "month_df['Revenue'].plot(kind='bar',figsize=(10,5),title='Revenue collection by month')\n",
        "plt.ylabel('Revenue')\n",
        "plt.xlabel('Month')"
      ],
      "execution_count": 36,
      "outputs": [
        {
          "output_type": "execute_result",
          "data": {
            "text/plain": [
              "Text(0.5, 0, 'Month')"
            ]
          },
          "metadata": {
            "tags": []
          },
          "execution_count": 36
        },
        {
          "output_type": "display_data",
          "data": {
            "image/png": "[encoded data removed]",
            "text/plain": [
              "<Figure size 720x360 with 1 Axes>"
            ]
          },
          "metadata": {
            "tags": []
          }
        }
      ]
    },
    {
      "cell_type": "markdown",
      "metadata": {
        "id": "iezgFBTsuDcU",
        "colab_type": "text"
      },
      "source": [
        "## Calculation for R, F and M values for customer segmentation\n",
        "\n",
        "#### R (Recency): Number of days since last purchase\n",
        "#### F (Frequency): Number of transactions (or invoices generated)\n",
        "#### M (Monetary): Total amount of transactions (revenue contributed)\n"
      ]
    },
    {
      "cell_type": "code",
      "metadata": {
        "scrolled": true,
        "id": "ZpyrGPmKuDcX",
        "colab_type": "code",
        "outputId": "8ef12e64-a725-4cac-debf-1931cc48df67",
        "colab": {
          "base_uri": "https://localhost:8080/",
          "height": 311
        }
      },
      "source": [
        "new_df = df_new.reset_index()\n",
        "new_df.head()"
      ],
      "execution_count": 37,
      "outputs": [
        {
          "output_type": "execute_result",
          "data": {
            "text/html": [
              "<div>\n",
              "<style scoped>\n",
              "    .dataframe tbody tr th:only-of-type {\n",
              "        vertical-align: middle;\n",
              "    }\n",
              "\n",
              "    .dataframe tbody tr th {\n",
              "        vertical-align: top;\n",
              "    }\n",
              "\n",
              "    .dataframe thead th {\n",
              "        text-align: right;\n",
              "    }\n",
              "</style>\n",
              "<table border=\"1\" class=\"dataframe\">\n",
              "  <thead>\n",
              "    <tr style=\"text-align: right;\">\n",
              "      <th></th>\n",
              "      <th>index</th>\n",
              "      <th>Invoice</th>\n",
              "      <th>StockCode</th>\n",
              "      <th>Description</th>\n",
              "      <th>Quantity</th>\n",
              "      <th>InvoiceDate</th>\n",
              "      <th>Price</th>\n",
              "      <th>Customer ID</th>\n",
              "      <th>Country</th>\n",
              "      <th>Revenue</th>\n",
              "    </tr>\n",
              "  </thead>\n",
              "  <tbody>\n",
              "    <tr>\n",
              "      <th>0</th>\n",
              "      <td>22773</td>\n",
              "      <td>491158</td>\n",
              "      <td>21485</td>\n",
              "      <td>RED SPOT HEART HOT WATER BOTTLE</td>\n",
              "      <td>1</td>\n",
              "      <td>2009-12-10 10:17:00</td>\n",
              "      <td>4.95</td>\n",
              "      <td>15523</td>\n",
              "      <td>United Kingdom</td>\n",
              "      <td>4.95</td>\n",
              "    </tr>\n",
              "    <tr>\n",
              "      <th>1</th>\n",
              "      <td>22774</td>\n",
              "      <td>491158</td>\n",
              "      <td>22109</td>\n",
              "      <td>FULL ENGLISH BREAKFAST PLATE</td>\n",
              "      <td>1</td>\n",
              "      <td>2009-12-10 10:17:00</td>\n",
              "      <td>3.75</td>\n",
              "      <td>15523</td>\n",
              "      <td>United Kingdom</td>\n",
              "      <td>3.75</td>\n",
              "    </tr>\n",
              "    <tr>\n",
              "      <th>2</th>\n",
              "      <td>22775</td>\n",
              "      <td>491158</td>\n",
              "      <td>85123A</td>\n",
              "      <td>WHITE HANGING HEART T-LIGHT HOLDER</td>\n",
              "      <td>1</td>\n",
              "      <td>2009-12-10 10:17:00</td>\n",
              "      <td>2.95</td>\n",
              "      <td>15523</td>\n",
              "      <td>United Kingdom</td>\n",
              "      <td>2.95</td>\n",
              "    </tr>\n",
              "    <tr>\n",
              "      <th>3</th>\n",
              "      <td>22776</td>\n",
              "      <td>491158</td>\n",
              "      <td>21212</td>\n",
              "      <td>PACK OF 72 RETRO SPOT CAKE CASES</td>\n",
              "      <td>48</td>\n",
              "      <td>2009-12-10 10:17:00</td>\n",
              "      <td>0.55</td>\n",
              "      <td>15523</td>\n",
              "      <td>United Kingdom</td>\n",
              "      <td>26.40</td>\n",
              "    </tr>\n",
              "    <tr>\n",
              "      <th>4</th>\n",
              "      <td>22777</td>\n",
              "      <td>491158</td>\n",
              "      <td>20753</td>\n",
              "      <td>RETRO PINK SPOT WASHING UP GLOVES</td>\n",
              "      <td>1</td>\n",
              "      <td>2009-12-10 10:17:00</td>\n",
              "      <td>2.10</td>\n",
              "      <td>15523</td>\n",
              "      <td>United Kingdom</td>\n",
              "      <td>2.10</td>\n",
              "    </tr>\n",
              "  </tbody>\n",
              "</table>\n",
              "</div>"
            ],
            "text/plain": [
              "   index Invoice StockCode  ... Customer ID         Country Revenue\n",
              "0  22773  491158     21485  ...       15523  United Kingdom    4.95\n",
              "1  22774  491158     22109  ...       15523  United Kingdom    3.75\n",
              "2  22775  491158    85123A  ...       15523  United Kingdom    2.95\n",
              "3  22776  491158     21212  ...       15523  United Kingdom   26.40\n",
              "4  22777  491158     20753  ...       15523  United Kingdom    2.10\n",
              "\n",
              "[5 rows x 10 columns]"
            ]
          },
          "metadata": {
            "tags": []
          },
          "execution_count": 37
        }
      ]
    },
    {
      "cell_type": "code",
      "metadata": {
        "id": "3IAfPXQ3uDcd",
        "colab_type": "code",
        "outputId": "4d279100-eb9c-4725-9329-5aefe2d78980",
        "colab": {
          "base_uri": "https://localhost:8080/",
          "height": 206
        }
      },
      "source": [
        "new_df.drop(columns=['index'],axis=1,inplace=True)\n",
        "new_df.tail()"
      ],
      "execution_count": 38,
      "outputs": [
        {
          "output_type": "execute_result",
          "data": {
            "text/html": [
              "<div>\n",
              "<style scoped>\n",
              "    .dataframe tbody tr th:only-of-type {\n",
              "        vertical-align: middle;\n",
              "    }\n",
              "\n",
              "    .dataframe tbody tr th {\n",
              "        vertical-align: top;\n",
              "    }\n",
              "\n",
              "    .dataframe thead th {\n",
              "        text-align: right;\n",
              "    }\n",
              "</style>\n",
              "<table border=\"1\" class=\"dataframe\">\n",
              "  <thead>\n",
              "    <tr style=\"text-align: right;\">\n",
              "      <th></th>\n",
              "      <th>Invoice</th>\n",
              "      <th>StockCode</th>\n",
              "      <th>Description</th>\n",
              "      <th>Quantity</th>\n",
              "      <th>InvoiceDate</th>\n",
              "      <th>Price</th>\n",
              "      <th>Customer ID</th>\n",
              "      <th>Country</th>\n",
              "      <th>Revenue</th>\n",
              "    </tr>\n",
              "  </thead>\n",
              "  <tbody>\n",
              "    <tr>\n",
              "      <th>741603</th>\n",
              "      <td>581587</td>\n",
              "      <td>22899</td>\n",
              "      <td>CHILDREN'S APRON DOLLY GIRL</td>\n",
              "      <td>6</td>\n",
              "      <td>2011-12-09 12:50:00</td>\n",
              "      <td>2.10</td>\n",
              "      <td>12680</td>\n",
              "      <td>France</td>\n",
              "      <td>12.60</td>\n",
              "    </tr>\n",
              "    <tr>\n",
              "      <th>741604</th>\n",
              "      <td>581587</td>\n",
              "      <td>23254</td>\n",
              "      <td>CHILDRENS CUTLERY DOLLY GIRL</td>\n",
              "      <td>4</td>\n",
              "      <td>2011-12-09 12:50:00</td>\n",
              "      <td>4.15</td>\n",
              "      <td>12680</td>\n",
              "      <td>France</td>\n",
              "      <td>16.60</td>\n",
              "    </tr>\n",
              "    <tr>\n",
              "      <th>741605</th>\n",
              "      <td>581587</td>\n",
              "      <td>23255</td>\n",
              "      <td>CHILDRENS CUTLERY CIRCUS PARADE</td>\n",
              "      <td>4</td>\n",
              "      <td>2011-12-09 12:50:00</td>\n",
              "      <td>4.15</td>\n",
              "      <td>12680</td>\n",
              "      <td>France</td>\n",
              "      <td>16.60</td>\n",
              "    </tr>\n",
              "    <tr>\n",
              "      <th>741606</th>\n",
              "      <td>581587</td>\n",
              "      <td>22138</td>\n",
              "      <td>BAKING SET 9 PIECE RETROSPOT</td>\n",
              "      <td>3</td>\n",
              "      <td>2011-12-09 12:50:00</td>\n",
              "      <td>4.95</td>\n",
              "      <td>12680</td>\n",
              "      <td>France</td>\n",
              "      <td>14.85</td>\n",
              "    </tr>\n",
              "    <tr>\n",
              "      <th>741607</th>\n",
              "      <td>581587</td>\n",
              "      <td>POST</td>\n",
              "      <td>POSTAGE</td>\n",
              "      <td>1</td>\n",
              "      <td>2011-12-09 12:50:00</td>\n",
              "      <td>18.00</td>\n",
              "      <td>12680</td>\n",
              "      <td>France</td>\n",
              "      <td>18.00</td>\n",
              "    </tr>\n",
              "  </tbody>\n",
              "</table>\n",
              "</div>"
            ],
            "text/plain": [
              "       Invoice StockCode  ... Country  Revenue\n",
              "741603  581587     22899  ...  France    12.60\n",
              "741604  581587     23254  ...  France    16.60\n",
              "741605  581587     23255  ...  France    16.60\n",
              "741606  581587     22138  ...  France    14.85\n",
              "741607  581587      POST  ...  France    18.00\n",
              "\n",
              "[5 rows x 9 columns]"
            ]
          },
          "metadata": {
            "tags": []
          },
          "execution_count": 38
        }
      ]
    },
    {
      "cell_type": "code",
      "metadata": {
        "id": "h_6TWRrruDch",
        "colab_type": "code",
        "outputId": "fbd3cfe7-6b44-41c1-940f-b2e37d287ec8",
        "colab": {
          "base_uri": "https://localhost:8080/",
          "height": 36
        }
      },
      "source": [
        "# Compute the maximum date to know the latest transaction date\n",
        "\n",
        "max_date = max(new_df['InvoiceDate'])\n",
        "max_date"
      ],
      "execution_count": 39,
      "outputs": [
        {
          "output_type": "execute_result",
          "data": {
            "text/plain": [
              "Timestamp('2011-12-09 12:50:00')"
            ]
          },
          "metadata": {
            "tags": []
          },
          "execution_count": 39
        }
      ]
    },
    {
      "cell_type": "code",
      "metadata": {
        "id": "3fT0PvtfuDcp",
        "colab_type": "code",
        "outputId": "6f9d16f5-d2b1-4a0f-be9a-6f942a46ba66",
        "colab": {
          "base_uri": "https://localhost:8080/",
          "height": 311
        }
      },
      "source": [
        "# Compute the difference between max date and transaction date\n",
        "\n",
        "new_df['Difference'] = max_date - new_df['InvoiceDate']\n",
        "\n",
        "new_df['Difference'] = new_df['Difference'].dt.days\n",
        "new_df.head()"
      ],
      "execution_count": 40,
      "outputs": [
        {
          "output_type": "execute_result",
          "data": {
            "text/html": [
              "<div>\n",
              "<style scoped>\n",
              "    .dataframe tbody tr th:only-of-type {\n",
              "        vertical-align: middle;\n",
              "    }\n",
              "\n",
              "    .dataframe tbody tr th {\n",
              "        vertical-align: top;\n",
              "    }\n",
              "\n",
              "    .dataframe thead th {\n",
              "        text-align: right;\n",
              "    }\n",
              "</style>\n",
              "<table border=\"1\" class=\"dataframe\">\n",
              "  <thead>\n",
              "    <tr style=\"text-align: right;\">\n",
              "      <th></th>\n",
              "      <th>Invoice</th>\n",
              "      <th>StockCode</th>\n",
              "      <th>Description</th>\n",
              "      <th>Quantity</th>\n",
              "      <th>InvoiceDate</th>\n",
              "      <th>Price</th>\n",
              "      <th>Customer ID</th>\n",
              "      <th>Country</th>\n",
              "      <th>Revenue</th>\n",
              "      <th>Difference</th>\n",
              "    </tr>\n",
              "  </thead>\n",
              "  <tbody>\n",
              "    <tr>\n",
              "      <th>0</th>\n",
              "      <td>491158</td>\n",
              "      <td>21485</td>\n",
              "      <td>RED SPOT HEART HOT WATER BOTTLE</td>\n",
              "      <td>1</td>\n",
              "      <td>2009-12-10 10:17:00</td>\n",
              "      <td>4.95</td>\n",
              "      <td>15523</td>\n",
              "      <td>United Kingdom</td>\n",
              "      <td>4.95</td>\n",
              "      <td>729</td>\n",
              "    </tr>\n",
              "    <tr>\n",
              "      <th>1</th>\n",
              "      <td>491158</td>\n",
              "      <td>22109</td>\n",
              "      <td>FULL ENGLISH BREAKFAST PLATE</td>\n",
              "      <td>1</td>\n",
              "      <td>2009-12-10 10:17:00</td>\n",
              "      <td>3.75</td>\n",
              "      <td>15523</td>\n",
              "      <td>United Kingdom</td>\n",
              "      <td>3.75</td>\n",
              "      <td>729</td>\n",
              "    </tr>\n",
              "    <tr>\n",
              "      <th>2</th>\n",
              "      <td>491158</td>\n",
              "      <td>85123A</td>\n",
              "      <td>WHITE HANGING HEART T-LIGHT HOLDER</td>\n",
              "      <td>1</td>\n",
              "      <td>2009-12-10 10:17:00</td>\n",
              "      <td>2.95</td>\n",
              "      <td>15523</td>\n",
              "      <td>United Kingdom</td>\n",
              "      <td>2.95</td>\n",
              "      <td>729</td>\n",
              "    </tr>\n",
              "    <tr>\n",
              "      <th>3</th>\n",
              "      <td>491158</td>\n",
              "      <td>21212</td>\n",
              "      <td>PACK OF 72 RETRO SPOT CAKE CASES</td>\n",
              "      <td>48</td>\n",
              "      <td>2009-12-10 10:17:00</td>\n",
              "      <td>0.55</td>\n",
              "      <td>15523</td>\n",
              "      <td>United Kingdom</td>\n",
              "      <td>26.40</td>\n",
              "      <td>729</td>\n",
              "    </tr>\n",
              "    <tr>\n",
              "      <th>4</th>\n",
              "      <td>491158</td>\n",
              "      <td>20753</td>\n",
              "      <td>RETRO PINK SPOT WASHING UP GLOVES</td>\n",
              "      <td>1</td>\n",
              "      <td>2009-12-10 10:17:00</td>\n",
              "      <td>2.10</td>\n",
              "      <td>15523</td>\n",
              "      <td>United Kingdom</td>\n",
              "      <td>2.10</td>\n",
              "      <td>729</td>\n",
              "    </tr>\n",
              "  </tbody>\n",
              "</table>\n",
              "</div>"
            ],
            "text/plain": [
              "  Invoice StockCode  ... Revenue  Difference\n",
              "0  491158     21485  ...    4.95         729\n",
              "1  491158     22109  ...    3.75         729\n",
              "2  491158    85123A  ...    2.95         729\n",
              "3  491158     21212  ...   26.40         729\n",
              "4  491158     20753  ...    2.10         729\n",
              "\n",
              "[5 rows x 10 columns]"
            ]
          },
          "metadata": {
            "tags": []
          },
          "execution_count": 40
        }
      ]
    },
    {
      "cell_type": "code",
      "metadata": {
        "id": "xI3EMQoVuDcv",
        "colab_type": "code",
        "outputId": "0a4d7957-8629-4d44-f9d0-76b343d615ce",
        "colab": {
          "base_uri": "https://localhost:8080/",
          "height": 225
        }
      },
      "source": [
        "r = new_df.groupby('Customer ID')['Difference'].min()\n",
        "r = r.reset_index()\n",
        "r.rename(columns= {'Difference':'Recency'}, inplace=True)\n",
        "print(r.shape)\n",
        "r.head()\n"
      ],
      "execution_count": 41,
      "outputs": [
        {
          "output_type": "stream",
          "text": [
            "(5821, 2)\n"
          ],
          "name": "stdout"
        },
        {
          "output_type": "execute_result",
          "data": {
            "text/html": [
              "<div>\n",
              "<style scoped>\n",
              "    .dataframe tbody tr th:only-of-type {\n",
              "        vertical-align: middle;\n",
              "    }\n",
              "\n",
              "    .dataframe tbody tr th {\n",
              "        vertical-align: top;\n",
              "    }\n",
              "\n",
              "    .dataframe thead th {\n",
              "        text-align: right;\n",
              "    }\n",
              "</style>\n",
              "<table border=\"1\" class=\"dataframe\">\n",
              "  <thead>\n",
              "    <tr style=\"text-align: right;\">\n",
              "      <th></th>\n",
              "      <th>Customer ID</th>\n",
              "      <th>Recency</th>\n",
              "    </tr>\n",
              "  </thead>\n",
              "  <tbody>\n",
              "    <tr>\n",
              "      <th>0</th>\n",
              "      <td>12346</td>\n",
              "      <td>325</td>\n",
              "    </tr>\n",
              "    <tr>\n",
              "      <th>1</th>\n",
              "      <td>12347</td>\n",
              "      <td>1</td>\n",
              "    </tr>\n",
              "    <tr>\n",
              "      <th>2</th>\n",
              "      <td>12348</td>\n",
              "      <td>74</td>\n",
              "    </tr>\n",
              "    <tr>\n",
              "      <th>3</th>\n",
              "      <td>12349</td>\n",
              "      <td>18</td>\n",
              "    </tr>\n",
              "    <tr>\n",
              "      <th>4</th>\n",
              "      <td>12350</td>\n",
              "      <td>309</td>\n",
              "    </tr>\n",
              "  </tbody>\n",
              "</table>\n",
              "</div>"
            ],
            "text/plain": [
              "  Customer ID  Recency\n",
              "0       12346      325\n",
              "1       12347        1\n",
              "2       12348       74\n",
              "3       12349       18\n",
              "4       12350      309"
            ]
          },
          "metadata": {
            "tags": []
          },
          "execution_count": 41
        }
      ]
    },
    {
      "cell_type": "code",
      "metadata": {
        "id": "_MO3_tDauDc5",
        "colab_type": "code",
        "outputId": "77f91cd6-ec42-404b-ce31-da06428f8b08",
        "colab": {
          "base_uri": "https://localhost:8080/",
          "height": 225
        }
      },
      "source": [
        "f_m = new_df.groupby(['Customer ID']).agg({'Invoice': 'nunique','Revenue': 'sum'})\n",
        "f_m.rename(columns={'Invoice': 'Frequency',\n",
        "                         'Revenue': 'MonetaryValue'}, inplace=True)\n",
        "f_m = f_m.reset_index()\n",
        "print(f_m.shape)\n",
        "f_m.head()"
      ],
      "execution_count": 42,
      "outputs": [
        {
          "output_type": "stream",
          "text": [
            "(5821, 3)\n"
          ],
          "name": "stdout"
        },
        {
          "output_type": "execute_result",
          "data": {
            "text/html": [
              "<div>\n",
              "<style scoped>\n",
              "    .dataframe tbody tr th:only-of-type {\n",
              "        vertical-align: middle;\n",
              "    }\n",
              "\n",
              "    .dataframe tbody tr th {\n",
              "        vertical-align: top;\n",
              "    }\n",
              "\n",
              "    .dataframe thead th {\n",
              "        text-align: right;\n",
              "    }\n",
              "</style>\n",
              "<table border=\"1\" class=\"dataframe\">\n",
              "  <thead>\n",
              "    <tr style=\"text-align: right;\">\n",
              "      <th></th>\n",
              "      <th>Customer ID</th>\n",
              "      <th>Frequency</th>\n",
              "      <th>MonetaryValue</th>\n",
              "    </tr>\n",
              "  </thead>\n",
              "  <tbody>\n",
              "    <tr>\n",
              "      <th>0</th>\n",
              "      <td>12346</td>\n",
              "      <td>12</td>\n",
              "      <td>77556.46</td>\n",
              "    </tr>\n",
              "    <tr>\n",
              "      <th>1</th>\n",
              "      <td>12347</td>\n",
              "      <td>8</td>\n",
              "      <td>4746.73</td>\n",
              "    </tr>\n",
              "    <tr>\n",
              "      <th>2</th>\n",
              "      <td>12348</td>\n",
              "      <td>5</td>\n",
              "      <td>1979.40</td>\n",
              "    </tr>\n",
              "    <tr>\n",
              "      <th>3</th>\n",
              "      <td>12349</td>\n",
              "      <td>4</td>\n",
              "      <td>4281.46</td>\n",
              "    </tr>\n",
              "    <tr>\n",
              "      <th>4</th>\n",
              "      <td>12350</td>\n",
              "      <td>1</td>\n",
              "      <td>291.80</td>\n",
              "    </tr>\n",
              "  </tbody>\n",
              "</table>\n",
              "</div>"
            ],
            "text/plain": [
              "  Customer ID  Frequency  MonetaryValue\n",
              "0       12346         12       77556.46\n",
              "1       12347          8        4746.73\n",
              "2       12348          5        1979.40\n",
              "3       12349          4        4281.46\n",
              "4       12350          1         291.80"
            ]
          },
          "metadata": {
            "tags": []
          },
          "execution_count": 42
        }
      ]
    },
    {
      "cell_type": "code",
      "metadata": {
        "id": "KZ-mmwyzuDc_",
        "colab_type": "code",
        "outputId": "39120482-d47a-4f20-b56e-ce19e6a117cf",
        "colab": {
          "base_uri": "https://localhost:8080/",
          "height": 206
        }
      },
      "source": [
        "# Merging the two dataframes\n",
        "\n",
        "rfm = pd.merge(r,f_m, on='Customer ID', how='inner')\n",
        "rfm.head()"
      ],
      "execution_count": 43,
      "outputs": [
        {
          "output_type": "execute_result",
          "data": {
            "text/html": [
              "<div>\n",
              "<style scoped>\n",
              "    .dataframe tbody tr th:only-of-type {\n",
              "        vertical-align: middle;\n",
              "    }\n",
              "\n",
              "    .dataframe tbody tr th {\n",
              "        vertical-align: top;\n",
              "    }\n",
              "\n",
              "    .dataframe thead th {\n",
              "        text-align: right;\n",
              "    }\n",
              "</style>\n",
              "<table border=\"1\" class=\"dataframe\">\n",
              "  <thead>\n",
              "    <tr style=\"text-align: right;\">\n",
              "      <th></th>\n",
              "      <th>Customer ID</th>\n",
              "      <th>Recency</th>\n",
              "      <th>Frequency</th>\n",
              "      <th>MonetaryValue</th>\n",
              "    </tr>\n",
              "  </thead>\n",
              "  <tbody>\n",
              "    <tr>\n",
              "      <th>0</th>\n",
              "      <td>12346</td>\n",
              "      <td>325</td>\n",
              "      <td>12</td>\n",
              "      <td>77556.46</td>\n",
              "    </tr>\n",
              "    <tr>\n",
              "      <th>1</th>\n",
              "      <td>12347</td>\n",
              "      <td>1</td>\n",
              "      <td>8</td>\n",
              "      <td>4746.73</td>\n",
              "    </tr>\n",
              "    <tr>\n",
              "      <th>2</th>\n",
              "      <td>12348</td>\n",
              "      <td>74</td>\n",
              "      <td>5</td>\n",
              "      <td>1979.40</td>\n",
              "    </tr>\n",
              "    <tr>\n",
              "      <th>3</th>\n",
              "      <td>12349</td>\n",
              "      <td>18</td>\n",
              "      <td>4</td>\n",
              "      <td>4281.46</td>\n",
              "    </tr>\n",
              "    <tr>\n",
              "      <th>4</th>\n",
              "      <td>12350</td>\n",
              "      <td>309</td>\n",
              "      <td>1</td>\n",
              "      <td>291.80</td>\n",
              "    </tr>\n",
              "  </tbody>\n",
              "</table>\n",
              "</div>"
            ],
            "text/plain": [
              "  Customer ID  Recency  Frequency  MonetaryValue\n",
              "0       12346      325         12       77556.46\n",
              "1       12347        1          8        4746.73\n",
              "2       12348       74          5        1979.40\n",
              "3       12349       18          4        4281.46\n",
              "4       12350      309          1         291.80"
            ]
          },
          "metadata": {
            "tags": []
          },
          "execution_count": 43
        }
      ]
    },
    {
      "cell_type": "code",
      "metadata": {
        "id": "lkgGuVCMuDdH",
        "colab_type": "code",
        "outputId": "fbf0192b-d2a3-494e-b756-092c0cfa274b",
        "colab": {
          "base_uri": "https://localhost:8080/",
          "height": 36
        }
      },
      "source": [
        "rfm.shape"
      ],
      "execution_count": 44,
      "outputs": [
        {
          "output_type": "execute_result",
          "data": {
            "text/plain": [
              "(5821, 4)"
            ]
          },
          "metadata": {
            "tags": []
          },
          "execution_count": 44
        }
      ]
    },
    {
      "cell_type": "code",
      "metadata": {
        "id": "fSC8UYF7uDdN",
        "colab_type": "code",
        "outputId": "018a2716-40bd-4cc7-ddda-73708bbc37cf",
        "colab": {
          "base_uri": "https://localhost:8080/",
          "height": 144
        }
      },
      "source": [
        "rfm.describe().T"
      ],
      "execution_count": 45,
      "outputs": [
        {
          "output_type": "execute_result",
          "data": {
            "text/html": [
              "<div>\n",
              "<style scoped>\n",
              "    .dataframe tbody tr th:only-of-type {\n",
              "        vertical-align: middle;\n",
              "    }\n",
              "\n",
              "    .dataframe tbody tr th {\n",
              "        vertical-align: top;\n",
              "    }\n",
              "\n",
              "    .dataframe thead th {\n",
              "        text-align: right;\n",
              "    }\n",
              "</style>\n",
              "<table border=\"1\" class=\"dataframe\">\n",
              "  <thead>\n",
              "    <tr style=\"text-align: right;\">\n",
              "      <th></th>\n",
              "      <th>count</th>\n",
              "      <th>mean</th>\n",
              "      <th>std</th>\n",
              "      <th>min</th>\n",
              "      <th>25%</th>\n",
              "      <th>50%</th>\n",
              "      <th>75%</th>\n",
              "      <th>max</th>\n",
              "    </tr>\n",
              "  </thead>\n",
              "  <tbody>\n",
              "    <tr>\n",
              "      <th>Recency</th>\n",
              "      <td>5821.0</td>\n",
              "      <td>195.907061</td>\n",
              "      <td>204.419981</td>\n",
              "      <td>0.00</td>\n",
              "      <td>24.00</td>\n",
              "      <td>92.00</td>\n",
              "      <td>375.00</td>\n",
              "      <td>729.00</td>\n",
              "    </tr>\n",
              "    <tr>\n",
              "      <th>Frequency</th>\n",
              "      <td>5821.0</td>\n",
              "      <td>6.181584</td>\n",
              "      <td>12.729846</td>\n",
              "      <td>1.00</td>\n",
              "      <td>1.00</td>\n",
              "      <td>3.00</td>\n",
              "      <td>7.00</td>\n",
              "      <td>393.00</td>\n",
              "    </tr>\n",
              "    <tr>\n",
              "      <th>MonetaryValue</th>\n",
              "      <td>5821.0</td>\n",
              "      <td>2837.515107</td>\n",
              "      <td>13762.678184</td>\n",
              "      <td>2.95</td>\n",
              "      <td>331.66</td>\n",
              "      <td>838.84</td>\n",
              "      <td>2176.01</td>\n",
              "      <td>534129.68</td>\n",
              "    </tr>\n",
              "  </tbody>\n",
              "</table>\n",
              "</div>"
            ],
            "text/plain": [
              "                count         mean           std  ...     50%      75%        max\n",
              "Recency        5821.0   195.907061    204.419981  ...   92.00   375.00     729.00\n",
              "Frequency      5821.0     6.181584     12.729846  ...    3.00     7.00     393.00\n",
              "MonetaryValue  5821.0  2837.515107  13762.678184  ...  838.84  2176.01  534129.68\n",
              "\n",
              "[3 rows x 8 columns]"
            ]
          },
          "metadata": {
            "tags": []
          },
          "execution_count": 45
        }
      ]
    },
    {
      "cell_type": "code",
      "metadata": {
        "id": "Qf3yBlrRuDdW",
        "colab_type": "code",
        "outputId": "040b1b0a-3c87-4ae8-c06e-cd93353de7c2",
        "colab": {
          "base_uri": "https://localhost:8080/",
          "height": 606
        }
      },
      "source": [
        "# Plot RFM distributions\n",
        "plt.figure(figsize=(8,10))\n",
        "\n",
        "# Plot distribution of R\n",
        "plt.subplot(3, 1, 1);\n",
        "\n",
        "sns.distplot(rfm['Recency'])\n",
        "\n",
        "# Plot distribution of F\n",
        "plt.subplot(3, 1, 2); \n",
        "\n",
        "sns.distplot(rfm['Frequency'])\n",
        "\n",
        "# Plot distribution of M\n",
        "plt.subplot(3, 1, 3);\n",
        "\n",
        "sns.distplot(rfm['MonetaryValue'])\n",
        "\n",
        "# Show the plot\n",
        "plt.show()"
      ],
      "execution_count": 46,
      "outputs": [
        {
          "output_type": "display_data",
          "data": {
            "image/png": "[encoded data removed]",
            "text/plain": [
              "<Figure size 576x720 with 3 Axes>"
            ]
          },
          "metadata": {
            "tags": []
          }
        }
      ]
    },
    {
      "cell_type": "code",
      "metadata": {
        "id": "LfkpN9b1uDdb",
        "colab_type": "code",
        "outputId": "93976ae8-ccbd-46d1-b59e-670ebb091fe8",
        "colab": {
          "base_uri": "https://localhost:8080/",
          "height": 36
        }
      },
      "source": [
        "# Rescaling the attributes using Standardisation\n",
        "\n",
        "rfm_std = rfm[['Recency','Frequency','MonetaryValue']]\n",
        "\n",
        "from sklearn import preprocessing\n",
        "\n",
        "scaler = preprocessing.StandardScaler().fit(rfm_std)\n",
        "\n",
        "rfm_scaled = scaler.transform(rfm_std)\n",
        "rfm_scaled.shape"
      ],
      "execution_count": 47,
      "outputs": [
        {
          "output_type": "execute_result",
          "data": {
            "text/plain": [
              "(5821, 3)"
            ]
          },
          "metadata": {
            "tags": []
          },
          "execution_count": 47
        }
      ]
    },
    {
      "cell_type": "code",
      "metadata": {
        "id": "bK8PVbebuDd9",
        "colab_type": "code",
        "outputId": "a409b4d7-f478-4b47-b97b-88d0359a2d54",
        "colab": {
          "base_uri": "https://localhost:8080/",
          "height": 206
        }
      },
      "source": [
        "rfm_scaled = pd.DataFrame(rfm_scaled)\n",
        "rfm_scaled.columns = ['Recency','Frequency','MonetaryValue']\n",
        "rfm_scaled.head()"
      ],
      "execution_count": 48,
      "outputs": [
        {
          "output_type": "execute_result",
          "data": {
            "text/html": [
              "<div>\n",
              "<style scoped>\n",
              "    .dataframe tbody tr th:only-of-type {\n",
              "        vertical-align: middle;\n",
              "    }\n",
              "\n",
              "    .dataframe tbody tr th {\n",
              "        vertical-align: top;\n",
              "    }\n",
              "\n",
              "    .dataframe thead th {\n",
              "        text-align: right;\n",
              "    }\n",
              "</style>\n",
              "<table border=\"1\" class=\"dataframe\">\n",
              "  <thead>\n",
              "    <tr style=\"text-align: right;\">\n",
              "      <th></th>\n",
              "      <th>Recency</th>\n",
              "      <th>Frequency</th>\n",
              "      <th>MonetaryValue</th>\n",
              "    </tr>\n",
              "  </thead>\n",
              "  <tbody>\n",
              "    <tr>\n",
              "      <th>0</th>\n",
              "      <td>0.631563</td>\n",
              "      <td>0.457108</td>\n",
              "      <td>5.429566</td>\n",
              "    </tr>\n",
              "    <tr>\n",
              "      <th>1</th>\n",
              "      <td>-0.953546</td>\n",
              "      <td>0.142859</td>\n",
              "      <td>0.138736</td>\n",
              "    </tr>\n",
              "    <tr>\n",
              "      <th>2</th>\n",
              "      <td>-0.596407</td>\n",
              "      <td>-0.092828</td>\n",
              "      <td>-0.062356</td>\n",
              "    </tr>\n",
              "    <tr>\n",
              "      <th>3</th>\n",
              "      <td>-0.870376</td>\n",
              "      <td>-0.171390</td>\n",
              "      <td>0.104926</td>\n",
              "    </tr>\n",
              "    <tr>\n",
              "      <th>4</th>\n",
              "      <td>0.553286</td>\n",
              "      <td>-0.407077</td>\n",
              "      <td>-0.184988</td>\n",
              "    </tr>\n",
              "  </tbody>\n",
              "</table>\n",
              "</div>"
            ],
            "text/plain": [
              "    Recency  Frequency  MonetaryValue\n",
              "0  0.631563   0.457108       5.429566\n",
              "1 -0.953546   0.142859       0.138736\n",
              "2 -0.596407  -0.092828      -0.062356\n",
              "3 -0.870376  -0.171390       0.104926\n",
              "4  0.553286  -0.407077      -0.184988"
            ]
          },
          "metadata": {
            "tags": []
          },
          "execution_count": 48
        }
      ]
    },
    {
      "cell_type": "code",
      "metadata": {
        "id": "T89k2Uv8sIpM",
        "colab_type": "code",
        "outputId": "1eaf9332-0fa6-4609-9b3a-e7bf373f8c90",
        "colab": {
          "base_uri": "https://localhost:8080/",
          "height": 144
        }
      },
      "source": [
        "rfm_scaled.describe().T"
      ],
      "execution_count": 49,
      "outputs": [
        {
          "output_type": "execute_result",
          "data": {
            "text/html": [
              "<div>\n",
              "<style scoped>\n",
              "    .dataframe tbody tr th:only-of-type {\n",
              "        vertical-align: middle;\n",
              "    }\n",
              "\n",
              "    .dataframe tbody tr th {\n",
              "        vertical-align: top;\n",
              "    }\n",
              "\n",
              "    .dataframe thead th {\n",
              "        text-align: right;\n",
              "    }\n",
              "</style>\n",
              "<table border=\"1\" class=\"dataframe\">\n",
              "  <thead>\n",
              "    <tr style=\"text-align: right;\">\n",
              "      <th></th>\n",
              "      <th>count</th>\n",
              "      <th>mean</th>\n",
              "      <th>std</th>\n",
              "      <th>min</th>\n",
              "      <th>25%</th>\n",
              "      <th>50%</th>\n",
              "      <th>75%</th>\n",
              "      <th>max</th>\n",
              "    </tr>\n",
              "  </thead>\n",
              "  <tbody>\n",
              "    <tr>\n",
              "      <th>Recency</th>\n",
              "      <td>5821.0</td>\n",
              "      <td>4.857822e-17</td>\n",
              "      <td>1.000086</td>\n",
              "      <td>-0.958438</td>\n",
              "      <td>-0.841023</td>\n",
              "      <td>-0.508346</td>\n",
              "      <td>0.876178</td>\n",
              "      <td>2.608056</td>\n",
              "    </tr>\n",
              "    <tr>\n",
              "      <th>Frequency</th>\n",
              "      <td>5821.0</td>\n",
              "      <td>1.549658e-19</td>\n",
              "      <td>1.000086</td>\n",
              "      <td>-0.407077</td>\n",
              "      <td>-0.407077</td>\n",
              "      <td>-0.249953</td>\n",
              "      <td>0.064297</td>\n",
              "      <td>30.389342</td>\n",
              "    </tr>\n",
              "    <tr>\n",
              "      <th>MonetaryValue</th>\n",
              "      <td>5821.0</td>\n",
              "      <td>1.005609e-17</td>\n",
              "      <td>1.000086</td>\n",
              "      <td>-0.205978</td>\n",
              "      <td>-0.182092</td>\n",
              "      <td>-0.145237</td>\n",
              "      <td>-0.048069</td>\n",
              "      <td>38.607152</td>\n",
              "    </tr>\n",
              "  </tbody>\n",
              "</table>\n",
              "</div>"
            ],
            "text/plain": [
              "                count          mean       std  ...       50%       75%        max\n",
              "Recency        5821.0  4.857822e-17  1.000086  ... -0.508346  0.876178   2.608056\n",
              "Frequency      5821.0  1.549658e-19  1.000086  ... -0.249953  0.064297  30.389342\n",
              "MonetaryValue  5821.0  1.005609e-17  1.000086  ... -0.145237 -0.048069  38.607152\n",
              "\n",
              "[3 rows x 8 columns]"
            ]
          },
          "metadata": {
            "tags": []
          },
          "execution_count": 49
        }
      ]
    },
    {
      "cell_type": "code",
      "metadata": {
        "id": "tpdWdHDluDeE",
        "colab_type": "code",
        "colab": {}
      },
      "source": [
        "#rfm_scaled.to_excel(\"rfm_standardized_values.xlsx\")"
      ],
      "execution_count": 0,
      "outputs": []
    },
    {
      "cell_type": "markdown",
      "metadata": {
        "id": "zQug1B4LuDeL",
        "colab_type": "text"
      },
      "source": [
        "\n",
        "### Finding the Optimal Number of Clusters\n",
        "#### Elbow Curve to get the right number of Clusters\n",
        "\n",
        "A fundamental step for any unsupervised algorithm is to determine the optimal number of clusters into which the data may be clustered. The Elbow Method is one of the most popular methods to determine this optimal value of k.\n"
      ]
    },
    {
      "cell_type": "code",
      "metadata": {
        "id": "y2_CeSV4uDeM",
        "colab_type": "code",
        "outputId": "3a32e5bb-a8b6-4f8a-a747-3662da27e7f2",
        "colab": {
          "base_uri": "https://localhost:8080/",
          "height": 295
        }
      },
      "source": [
        "from sklearn.cluster import KMeans \n",
        "\n",
        "# within cluster sum of sqares - WCSS (inertia)\n",
        "wcss = []\n",
        "for i in range(1,11):\n",
        "    kmeans = KMeans(n_clusters=i, init = 'k-means++', max_iter=300, n_init=10, random_state=0)\n",
        "    kmeans.fit(rfm_scaled)\n",
        "    wcss.append(kmeans.inertia_)\n",
        "plt.plot(wcss)\n",
        "plt.title('The Elbow Method')\n",
        "plt.xlabel('Number of clusters')\n",
        "plt.ylabel('WCSS')\n",
        "plt.show()"
      ],
      "execution_count": 51,
      "outputs": [
        {
          "output_type": "display_data",
          "data": {
            "image/png": "[encoded data removed]",
            "text/plain": [
              "<Figure size 432x288 with 1 Axes>"
            ]
          },
          "metadata": {
            "tags": []
          }
        }
      ]
    },
    {
      "cell_type": "markdown",
      "metadata": {
        "id": "JFf3OHBzuDeS",
        "colab_type": "text"
      },
      "source": [
        "### Silhouette Analysis\n",
        "\n",
        "silhouette score = (p−q) / max(p,q)\n",
        "\n",
        "p is the mean distance to the points in the nearest cluster that the data point is not a part of\n",
        "q is the mean intra-cluster distance to all the points in its own cluster.\n",
        "\n",
        "The value of the silhouette score range lies between -1 to 1.\n",
        "\n",
        "A score closer to 1 indicates that the data point is very similar to other data points in the cluster,\n",
        "A score closer to -1 indicates that the data point is not similar to the data points in its cluster.\n"
      ]
    },
    {
      "cell_type": "code",
      "metadata": {
        "id": "ke2BVDDCuDeU",
        "colab_type": "code",
        "outputId": "a2a0cbae-8b05-421c-b66e-625327f337f1",
        "colab": {
          "base_uri": "https://localhost:8080/",
          "height": 150
        }
      },
      "source": [
        "from sklearn.metrics import silhouette_score\n",
        "\n",
        "# Silhouette analysis\n",
        "range_n_clusters = [2, 3, 4, 5, 6, 7, 8]\n",
        "\n",
        "for num_clusters in range_n_clusters:\n",
        "    \n",
        "    # intialise kmeans\n",
        "    kmeans = KMeans(n_clusters=num_clusters, max_iter=100)\n",
        "    kmeans.fit(rfm_scaled)\n",
        "    \n",
        "    cluster_labels = kmeans.labels_\n",
        "    \n",
        "    # silhouette score\n",
        "    silhouette_avg = silhouette_score(rfm_scaled, cluster_labels)\n",
        "    print(\"For n_clusters={0}, the silhouette score is {1}\".format(num_clusters, silhouette_avg))"
      ],
      "execution_count": 52,
      "outputs": [
        {
          "output_type": "stream",
          "text": [
            "For n_clusters=2, the silhouette score is 0.9159946602501814\n",
            "For n_clusters=3, the silhouette score is 0.5850906454691305\n",
            "For n_clusters=4, the silhouette score is 0.5934203179486363\n",
            "For n_clusters=5, the silhouette score is 0.6014260495575601\n",
            "For n_clusters=6, the silhouette score is 0.5475742201431545\n",
            "For n_clusters=7, the silhouette score is 0.5478590858095091\n",
            "For n_clusters=8, the silhouette score is 0.5484903038729697\n"
          ],
          "name": "stdout"
        }
      ]
    },
    {
      "cell_type": "code",
      "metadata": {
        "id": "aFv7UyEOBtAk",
        "colab_type": "code",
        "colab": {
          "base_uri": "https://localhost:8080/",
          "height": 295
        },
        "outputId": "b71cdb5e-74c4-41cd-f696-cc48bfe4dd24"
      },
      "source": [
        "sil = []\n",
        "kmax = 10\n",
        "\n",
        "# dissimilarity would not be defined for a single cluster, thus, minimum number of clusters should be 2\n",
        "for k in range(2, kmax+1):\n",
        "  kmeans = KMeans(n_clusters = k).fit(rfm_scaled)\n",
        "  labels = kmeans.labels_\n",
        "  sil.append(silhouette_score(rfm_scaled, labels, metric = 'euclidean'))\n",
        "\n",
        "plt.plot(sil)\n",
        "plt.title('The Silhouette Method')\n",
        "plt.xlabel('Number of clusters')\n",
        "plt.ylabel('Silhouette Score')\n",
        "plt.show()"
      ],
      "execution_count": 68,
      "outputs": [
        {
          "output_type": "display_data",
          "data": {
            "image/png": "[encoded data removed]",
            "text/plain": [
              "<Figure size 432x288 with 1 Axes>"
            ]
          },
          "metadata": {
            "tags": []
          }
        }
      ]
    },
    {
      "cell_type": "code",
      "metadata": {
        "id": "Ef0heABJuDec",
        "colab_type": "code",
        "outputId": "45a0d20a-0715-4056-fe87-c2aeb7782ea1",
        "colab": {
          "base_uri": "https://localhost:8080/",
          "height": 74
        }
      },
      "source": [
        "# Final model with k=3\n",
        "kmeans = KMeans(n_clusters=3,init = 'k-means++', max_iter=300, n_init=10, random_state=0)\n",
        "kmeans.fit(rfm_scaled)"
      ],
      "execution_count": 53,
      "outputs": [
        {
          "output_type": "execute_result",
          "data": {
            "text/plain": [
              "KMeans(algorithm='auto', copy_x=True, init='k-means++', max_iter=300,\n",
              "       n_clusters=3, n_init=10, n_jobs=None, precompute_distances='auto',\n",
              "       random_state=0, tol=0.0001, verbose=0)"
            ]
          },
          "metadata": {
            "tags": []
          },
          "execution_count": 53
        }
      ]
    },
    {
      "cell_type": "code",
      "metadata": {
        "id": "sfKUflX4uDek",
        "colab_type": "code",
        "outputId": "67bb023f-e6ec-44fc-c749-0971d38abc2c",
        "colab": {
          "base_uri": "https://localhost:8080/",
          "height": 206
        }
      },
      "source": [
        "# assign the label\n",
        "rfm['Cluster_Id'] = kmeans.labels_\n",
        "rfm.head()"
      ],
      "execution_count": 54,
      "outputs": [
        {
          "output_type": "execute_result",
          "data": {
            "text/html": [
              "<div>\n",
              "<style scoped>\n",
              "    .dataframe tbody tr th:only-of-type {\n",
              "        vertical-align: middle;\n",
              "    }\n",
              "\n",
              "    .dataframe tbody tr th {\n",
              "        vertical-align: top;\n",
              "    }\n",
              "\n",
              "    .dataframe thead th {\n",
              "        text-align: right;\n",
              "    }\n",
              "</style>\n",
              "<table border=\"1\" class=\"dataframe\">\n",
              "  <thead>\n",
              "    <tr style=\"text-align: right;\">\n",
              "      <th></th>\n",
              "      <th>Customer ID</th>\n",
              "      <th>Recency</th>\n",
              "      <th>Frequency</th>\n",
              "      <th>MonetaryValue</th>\n",
              "      <th>Cluster_Id</th>\n",
              "    </tr>\n",
              "  </thead>\n",
              "  <tbody>\n",
              "    <tr>\n",
              "      <th>0</th>\n",
              "      <td>12346</td>\n",
              "      <td>325</td>\n",
              "      <td>12</td>\n",
              "      <td>77556.46</td>\n",
              "      <td>0</td>\n",
              "    </tr>\n",
              "    <tr>\n",
              "      <th>1</th>\n",
              "      <td>12347</td>\n",
              "      <td>1</td>\n",
              "      <td>8</td>\n",
              "      <td>4746.73</td>\n",
              "      <td>0</td>\n",
              "    </tr>\n",
              "    <tr>\n",
              "      <th>2</th>\n",
              "      <td>12348</td>\n",
              "      <td>74</td>\n",
              "      <td>5</td>\n",
              "      <td>1979.40</td>\n",
              "      <td>0</td>\n",
              "    </tr>\n",
              "    <tr>\n",
              "      <th>3</th>\n",
              "      <td>12349</td>\n",
              "      <td>18</td>\n",
              "      <td>4</td>\n",
              "      <td>4281.46</td>\n",
              "      <td>0</td>\n",
              "    </tr>\n",
              "    <tr>\n",
              "      <th>4</th>\n",
              "      <td>12350</td>\n",
              "      <td>309</td>\n",
              "      <td>1</td>\n",
              "      <td>291.80</td>\n",
              "      <td>1</td>\n",
              "    </tr>\n",
              "  </tbody>\n",
              "</table>\n",
              "</div>"
            ],
            "text/plain": [
              "  Customer ID  Recency  Frequency  MonetaryValue  Cluster_Id\n",
              "0       12346      325         12       77556.46           0\n",
              "1       12347        1          8        4746.73           0\n",
              "2       12348       74          5        1979.40           0\n",
              "3       12349       18          4        4281.46           0\n",
              "4       12350      309          1         291.80           1"
            ]
          },
          "metadata": {
            "tags": []
          },
          "execution_count": 54
        }
      ]
    },
    {
      "cell_type": "code",
      "metadata": {
        "id": "4IqNZnpluDer",
        "colab_type": "code",
        "outputId": "f14332e8-d75d-4dcb-b127-d43ca4188026",
        "colab": {
          "base_uri": "https://localhost:8080/",
          "height": 206
        }
      },
      "source": [
        "rfm_cluster = rfm.groupby('Cluster_Id').agg({'Recency': ['max','mean', 'min'], 'Frequency': ['max','mean','min'],'MonetaryValue': ['max','mean','min'],'Customer ID' : 'count'})\n",
        "\n",
        "rfm_cluster"
      ],
      "execution_count": 55,
      "outputs": [
        {
          "output_type": "execute_result",
          "data": {
            "text/html": [
              "<div>\n",
              "<style scoped>\n",
              "    .dataframe tbody tr th:only-of-type {\n",
              "        vertical-align: middle;\n",
              "    }\n",
              "\n",
              "    .dataframe tbody tr th {\n",
              "        vertical-align: top;\n",
              "    }\n",
              "\n",
              "    .dataframe thead tr th {\n",
              "        text-align: left;\n",
              "    }\n",
              "\n",
              "    .dataframe thead tr:last-of-type th {\n",
              "        text-align: right;\n",
              "    }\n",
              "</style>\n",
              "<table border=\"1\" class=\"dataframe\">\n",
              "  <thead>\n",
              "    <tr>\n",
              "      <th></th>\n",
              "      <th colspan=\"3\" halign=\"left\">Recency</th>\n",
              "      <th colspan=\"3\" halign=\"left\">Frequency</th>\n",
              "      <th colspan=\"3\" halign=\"left\">MonetaryValue</th>\n",
              "      <th>Customer ID</th>\n",
              "    </tr>\n",
              "    <tr>\n",
              "      <th></th>\n",
              "      <th>max</th>\n",
              "      <th>mean</th>\n",
              "      <th>min</th>\n",
              "      <th>max</th>\n",
              "      <th>mean</th>\n",
              "      <th>min</th>\n",
              "      <th>max</th>\n",
              "      <th>mean</th>\n",
              "      <th>min</th>\n",
              "      <th>count</th>\n",
              "    </tr>\n",
              "    <tr>\n",
              "      <th>Cluster_Id</th>\n",
              "      <th></th>\n",
              "      <th></th>\n",
              "      <th></th>\n",
              "      <th></th>\n",
              "      <th></th>\n",
              "      <th></th>\n",
              "      <th></th>\n",
              "      <th></th>\n",
              "      <th></th>\n",
              "      <th></th>\n",
              "    </tr>\n",
              "  </thead>\n",
              "  <tbody>\n",
              "    <tr>\n",
              "      <th>0</th>\n",
              "      <td>371</td>\n",
              "      <td>64.278199</td>\n",
              "      <td>0</td>\n",
              "      <td>119</td>\n",
              "      <td>7.491233</td>\n",
              "      <td>1</td>\n",
              "      <td>87397.09</td>\n",
              "      <td>3002.236371</td>\n",
              "      <td>6.20</td>\n",
              "      <td>3821</td>\n",
              "    </tr>\n",
              "    <tr>\n",
              "      <th>1</th>\n",
              "      <td>729</td>\n",
              "      <td>452.114257</td>\n",
              "      <td>245</td>\n",
              "      <td>46</td>\n",
              "      <td>2.178463</td>\n",
              "      <td>1</td>\n",
              "      <td>33458.66</td>\n",
              "      <td>719.627256</td>\n",
              "      <td>2.95</td>\n",
              "      <td>1978</td>\n",
              "    </tr>\n",
              "    <tr>\n",
              "      <th>2</th>\n",
              "      <td>371</td>\n",
              "      <td>22.090909</td>\n",
              "      <td>0</td>\n",
              "      <td>393</td>\n",
              "      <td>138.636364</td>\n",
              "      <td>2</td>\n",
              "      <td>534129.68</td>\n",
              "      <td>164645.797727</td>\n",
              "      <td>28386.15</td>\n",
              "      <td>22</td>\n",
              "    </tr>\n",
              "  </tbody>\n",
              "</table>\n",
              "</div>"
            ],
            "text/plain": [
              "           Recency                   ...  MonetaryValue           Customer ID\n",
              "               max        mean  min  ...           mean       min       count\n",
              "Cluster_Id                           ...                                     \n",
              "0              371   64.278199    0  ...    3002.236371      6.20        3821\n",
              "1              729  452.114257  245  ...     719.627256      2.95        1978\n",
              "2              371   22.090909    0  ...  164645.797727  28386.15          22\n",
              "\n",
              "[3 rows x 10 columns]"
            ]
          },
          "metadata": {
            "tags": []
          },
          "execution_count": 55
        }
      ]
    },
    {
      "cell_type": "code",
      "metadata": {
        "id": "rzsPUHg4uDez",
        "colab_type": "code",
        "colab": {}
      },
      "source": [
        "rfm_cluster.to_excel(\"rfm_cluster_summary.xlsx\")"
      ],
      "execution_count": 0,
      "outputs": []
    },
    {
      "cell_type": "code",
      "metadata": {
        "id": "jJWi8aivuDe3",
        "colab_type": "code",
        "outputId": "14754adc-1872-4a2d-e16b-1827ef3cb3ca",
        "colab": {
          "base_uri": "https://localhost:8080/",
          "height": 299
        }
      },
      "source": [
        "# Box plot to visualize Cluster Id vs Recency\n",
        "\n",
        "sns.boxplot(x='Cluster_Id', y='Recency', data=rfm)\n"
      ],
      "execution_count": 57,
      "outputs": [
        {
          "output_type": "execute_result",
          "data": {
            "text/plain": [
              "<matplotlib.axes._subplots.AxesSubplot at 0x7f8c2a47dba8>"
            ]
          },
          "metadata": {
            "tags": []
          },
          "execution_count": 57
        },
        {
          "output_type": "display_data",
          "data": {
            "image/png": "[encoded data removed]",
            "text/plain": [
              "<Figure size 432x288 with 1 Axes>"
            ]
          },
          "metadata": {
            "tags": []
          }
        }
      ]
    },
    {
      "cell_type": "code",
      "metadata": {
        "id": "uxJ2ujFJuDe-",
        "colab_type": "code",
        "outputId": "8fa00730-9f2d-41c0-eb0a-7d00eb2be55b",
        "colab": {
          "base_uri": "https://localhost:8080/",
          "height": 299
        }
      },
      "source": [
        "# Box plot to visualize Cluster Id vs Frequency\n",
        "\n",
        "sns.boxplot(x='Cluster_Id', y='Frequency', data=rfm)"
      ],
      "execution_count": 58,
      "outputs": [
        {
          "output_type": "execute_result",
          "data": {
            "text/plain": [
              "<matplotlib.axes._subplots.AxesSubplot at 0x7f8c2a3b2208>"
            ]
          },
          "metadata": {
            "tags": []
          },
          "execution_count": 58
        },
        {
          "output_type": "display_data",
          "data": {
            "image/png": "[encoded data removed]",
            "text/plain": [
              "<Figure size 432x288 with 1 Axes>"
            ]
          },
          "metadata": {
            "tags": []
          }
        }
      ]
    },
    {
      "cell_type": "code",
      "metadata": {
        "id": "reDp28WWuDfM",
        "colab_type": "code",
        "outputId": "e1bb1bad-250d-4a20-ea0e-544698600c55",
        "colab": {
          "base_uri": "https://localhost:8080/",
          "height": 299
        }
      },
      "source": [
        "# Box plot to visualize Cluster Id vs MonetaryValue\n",
        "\n",
        "sns.boxplot(x='Cluster_Id', y='MonetaryValue', data=rfm)"
      ],
      "execution_count": 59,
      "outputs": [
        {
          "output_type": "execute_result",
          "data": {
            "text/plain": [
              "<matplotlib.axes._subplots.AxesSubplot at 0x7f8c2a3127b8>"
            ]
          },
          "metadata": {
            "tags": []
          },
          "execution_count": 59
        },
        {
          "output_type": "display_data",
          "data": {
            "image/png": "[encoded data removed]",
            "text/plain": [
              "<Figure size 432x288 with 1 Axes>"
            ]
          },
          "metadata": {
            "tags": []
          }
        }
      ]
    },
    {
      "cell_type": "code",
      "metadata": {
        "id": "PCuLeILAuDfS",
        "colab_type": "code",
        "outputId": "cc73f0d9-95e0-44c4-e90b-3481f52933de",
        "colab": {
          "base_uri": "https://localhost:8080/",
          "height": 357
        }
      },
      "source": [
        "from mpl_toolkits import mplot3d\n",
        "\n",
        "import numpy as np\n",
        "import matplotlib.pyplot as plt\n",
        "\n",
        "fig = plt.figure(figsize=(8,6))\n",
        "ax = plt.axes(projection=\"3d\")\n",
        "\n",
        "plt.show()"
      ],
      "execution_count": 60,
      "outputs": [
        {
          "output_type": "display_data",
          "data": {
            "image/png": "[encoded data removed]",
            "text/plain": [
              "<Figure size 576x432 with 1 Axes>"
            ]
          },
          "metadata": {
            "tags": []
          }
        }
      ]
    },
    {
      "cell_type": "code",
      "metadata": {
        "id": "NvD_5fX_uDfW",
        "colab_type": "code",
        "outputId": "a64dc1b8-b12c-41df-b2d2-9f58c83cf3d7",
        "colab": {
          "base_uri": "https://localhost:8080/",
          "height": 357
        }
      },
      "source": [
        "fig = plt.figure(figsize=(8,6))\n",
        "ax = plt.axes(projection=\"3d\")\n",
        "\n",
        "\n",
        "x_points = rfm_scaled['Recency'].to_numpy(dtype='float')\n",
        "y_points = rfm_scaled['Frequency'].to_numpy(dtype='float')\n",
        "z_points = rfm_scaled['MonetaryValue'].to_numpy(dtype='float')\n",
        "y = rfm['Cluster_Id'].to_numpy(dtype='float')\n",
        "scatter = ax.scatter3D(x_points, y_points, z_points, c=y)\n",
        "\n",
        "ax.set_xlabel('Recency')\n",
        "ax.set_ylabel('Frequency')\n",
        "ax.set_zlabel('MonetaryValue')\n",
        "legend1 = ax.legend(*scatter.legend_elements(),\n",
        "                    loc=\"upper left\", title=\"Cluster_Id\")\n",
        "ax.add_artist(legend1)\n",
        "\n",
        "plt.show()\n",
        "\n"
      ],
      "execution_count": 61,
      "outputs": [
        {
          "output_type": "display_data",
          "data": {
            "image/png": "[encoded data removed]",
            "text/plain": [
              "<Figure size 576x432 with 1 Axes>"
            ]
          },
          "metadata": {
            "tags": []
          }
        }
      ]
    },
    {
      "cell_type": "code",
      "metadata": {
        "id": "aFtHE9yKuDfa",
        "colab_type": "code",
        "colab": {}
      },
      "source": [
        "\n",
        "# Define rfm_level function\n",
        "def rfm_level(df):\n",
        "    if df['Cluster_Id'] == 1:\n",
        "        return 'Likely to churn'\n",
        "    elif df['Cluster_Id'] == 0:\n",
        "        return 'Loyal or Potential'\n",
        "    else:\n",
        "        return 'Can\\'t Loose Them'\n",
        "\n",
        "\n",
        "\n"
      ],
      "execution_count": 0,
      "outputs": []
    },
    {
      "cell_type": "code",
      "metadata": {
        "id": "wztGbjDhuDfh",
        "colab_type": "code",
        "outputId": "85775717-5205-4aaf-f99c-43a79d6b3a47",
        "colab": {
          "base_uri": "https://localhost:8080/",
          "height": 206
        }
      },
      "source": [
        "# Create a new column Customer_type \n",
        "rfm['Customer_type'] = rfm.apply(rfm_level, axis=1)\n",
        "\n",
        "rfm.head()"
      ],
      "execution_count": 63,
      "outputs": [
        {
          "output_type": "execute_result",
          "data": {
            "text/html": [
              "<div>\n",
              "<style scoped>\n",
              "    .dataframe tbody tr th:only-of-type {\n",
              "        vertical-align: middle;\n",
              "    }\n",
              "\n",
              "    .dataframe tbody tr th {\n",
              "        vertical-align: top;\n",
              "    }\n",
              "\n",
              "    .dataframe thead th {\n",
              "        text-align: right;\n",
              "    }\n",
              "</style>\n",
              "<table border=\"1\" class=\"dataframe\">\n",
              "  <thead>\n",
              "    <tr style=\"text-align: right;\">\n",
              "      <th></th>\n",
              "      <th>Customer ID</th>\n",
              "      <th>Recency</th>\n",
              "      <th>Frequency</th>\n",
              "      <th>MonetaryValue</th>\n",
              "      <th>Cluster_Id</th>\n",
              "      <th>Customer_type</th>\n",
              "    </tr>\n",
              "  </thead>\n",
              "  <tbody>\n",
              "    <tr>\n",
              "      <th>0</th>\n",
              "      <td>12346</td>\n",
              "      <td>325</td>\n",
              "      <td>12</td>\n",
              "      <td>77556.46</td>\n",
              "      <td>0</td>\n",
              "      <td>Loyal or Potential</td>\n",
              "    </tr>\n",
              "    <tr>\n",
              "      <th>1</th>\n",
              "      <td>12347</td>\n",
              "      <td>1</td>\n",
              "      <td>8</td>\n",
              "      <td>4746.73</td>\n",
              "      <td>0</td>\n",
              "      <td>Loyal or Potential</td>\n",
              "    </tr>\n",
              "    <tr>\n",
              "      <th>2</th>\n",
              "      <td>12348</td>\n",
              "      <td>74</td>\n",
              "      <td>5</td>\n",
              "      <td>1979.40</td>\n",
              "      <td>0</td>\n",
              "      <td>Loyal or Potential</td>\n",
              "    </tr>\n",
              "    <tr>\n",
              "      <th>3</th>\n",
              "      <td>12349</td>\n",
              "      <td>18</td>\n",
              "      <td>4</td>\n",
              "      <td>4281.46</td>\n",
              "      <td>0</td>\n",
              "      <td>Loyal or Potential</td>\n",
              "    </tr>\n",
              "    <tr>\n",
              "      <th>4</th>\n",
              "      <td>12350</td>\n",
              "      <td>309</td>\n",
              "      <td>1</td>\n",
              "      <td>291.80</td>\n",
              "      <td>1</td>\n",
              "      <td>Likely to churn</td>\n",
              "    </tr>\n",
              "  </tbody>\n",
              "</table>\n",
              "</div>"
            ],
            "text/plain": [
              "  Customer ID  Recency  ...  Cluster_Id       Customer_type\n",
              "0       12346      325  ...           0  Loyal or Potential\n",
              "1       12347        1  ...           0  Loyal or Potential\n",
              "2       12348       74  ...           0  Loyal or Potential\n",
              "3       12349       18  ...           0  Loyal or Potential\n",
              "4       12350      309  ...           1     Likely to churn\n",
              "\n",
              "[5 rows x 6 columns]"
            ]
          },
          "metadata": {
            "tags": []
          },
          "execution_count": 63
        }
      ]
    },
    {
      "cell_type": "code",
      "metadata": {
        "id": "apjbaKUjuDfn",
        "colab_type": "code",
        "outputId": "721d5ea3-b0c7-4a75-f979-fa474430676f",
        "colab": {
          "base_uri": "https://localhost:8080/",
          "height": 36
        }
      },
      "source": [
        "rfm.shape"
      ],
      "execution_count": 64,
      "outputs": [
        {
          "output_type": "execute_result",
          "data": {
            "text/plain": [
              "(5821, 6)"
            ]
          },
          "metadata": {
            "tags": []
          },
          "execution_count": 64
        }
      ]
    },
    {
      "cell_type": "code",
      "metadata": {
        "id": "7yJi1V1jp2XJ",
        "colab_type": "code",
        "outputId": "2f262897-924c-4e17-ca07-a53c57cbfe74",
        "colab": {
          "base_uri": "https://localhost:8080/",
          "height": 93
        }
      },
      "source": [
        "rfm.Customer_type.value_counts()"
      ],
      "execution_count": 65,
      "outputs": [
        {
          "output_type": "execute_result",
          "data": {
            "text/plain": [
              "Loyal or Potential    3821\n",
              "Likely to churn       1978\n",
              "Can't Loose Them        22\n",
              "Name: Customer_type, dtype: int64"
            ]
          },
          "metadata": {
            "tags": []
          },
          "execution_count": 65
        }
      ]
    },
    {
      "cell_type": "code",
      "metadata": {
        "id": "z169t_3nuDft",
        "colab_type": "code",
        "colab": {}
      },
      "source": [
        "rfm.to_excel(\"RFM_groupby_customerId.xlsx\")"
      ],
      "execution_count": 0,
      "outputs": []
    },
    {
      "cell_type": "code",
      "metadata": {
        "id": "2zpuKJXguDf0",
        "colab_type": "code",
        "colab": {}
      },
      "source": [
        ""
      ],
      "execution_count": 0,
      "outputs": []
    }
  ]
}