{
  "nbformat": 4,
  "nbformat_minor": 0,
  "metadata": {
    "kernelspec": {
      "display_name": "Python 3",
      "language": "python",
      "name": "python3"
    },
    "language_info": {
      "codemirror_mode": {
        "name": "ipython",
        "version": 3
      },
      "file_extension": ".py",
      "mimetype": "text/x-python",
      "name": "python",
      "nbconvert_exporter": "python",
      "pygments_lexer": "ipython3",
      "version": "3.7.1"
    },
    "colab": {
      "name": "Customer_churn_Prediction.ipynb",
      "provenance": [],
      "collapsed_sections": []
    }
  },
  "cells": [
    {
      "cell_type": "code",
      "metadata": {
        "id": "dQDjylQpuAVk",
        "colab_type": "code",
        "colab": {}
      },
      "source": [
        "import numpy as np\n",
        "import pandas as pd\n",
        "import matplotlib.pyplot as plt\n",
        "import seaborn as sns\n",
        "import warnings\n",
        "warnings.filterwarnings('ignore')"
      ],
      "execution_count": 0,
      "outputs": []
    },
    {
      "cell_type": "code",
      "metadata": {
        "id": "9ZUWyJcmuAV6",
        "colab_type": "code",
        "colab": {}
      },
      "source": [
        "df = pd.read_excel(\"RFM_groupby_customerId.xlsx\")"
      ],
      "execution_count": 0,
      "outputs": []
    },
    {
      "cell_type": "code",
      "metadata": {
        "id": "wHA2GeheuAWL",
        "colab_type": "code",
        "outputId": "6604fdd5-520d-4978-cb67-3aa671e64a6e",
        "colab": {
          "base_uri": "https://localhost:8080/",
          "height": 206
        }
      },
      "source": [
        "df.head()"
      ],
      "execution_count": 3,
      "outputs": [
        {
          "output_type": "execute_result",
          "data": {
            "text/html": [
              "<div>\n",
              "<style scoped>\n",
              "    .dataframe tbody tr th:only-of-type {\n",
              "        vertical-align: middle;\n",
              "    }\n",
              "\n",
              "    .dataframe tbody tr th {\n",
              "        vertical-align: top;\n",
              "    }\n",
              "\n",
              "    .dataframe thead th {\n",
              "        text-align: right;\n",
              "    }\n",
              "</style>\n",
              "<table border=\"1\" class=\"dataframe\">\n",
              "  <thead>\n",
              "    <tr style=\"text-align: right;\">\n",
              "      <th></th>\n",
              "      <th>Unnamed: 0</th>\n",
              "      <th>Customer ID</th>\n",
              "      <th>Recency</th>\n",
              "      <th>Frequency</th>\n",
              "      <th>MonetaryValue</th>\n",
              "      <th>Cluster_Id</th>\n",
              "      <th>Customer_type</th>\n",
              "    </tr>\n",
              "  </thead>\n",
              "  <tbody>\n",
              "    <tr>\n",
              "      <th>0</th>\n",
              "      <td>0</td>\n",
              "      <td>12346</td>\n",
              "      <td>325</td>\n",
              "      <td>12</td>\n",
              "      <td>77556.46</td>\n",
              "      <td>0</td>\n",
              "      <td>Loyal or Potential</td>\n",
              "    </tr>\n",
              "    <tr>\n",
              "      <th>1</th>\n",
              "      <td>1</td>\n",
              "      <td>12347</td>\n",
              "      <td>1</td>\n",
              "      <td>8</td>\n",
              "      <td>4746.73</td>\n",
              "      <td>0</td>\n",
              "      <td>Loyal or Potential</td>\n",
              "    </tr>\n",
              "    <tr>\n",
              "      <th>2</th>\n",
              "      <td>2</td>\n",
              "      <td>12348</td>\n",
              "      <td>74</td>\n",
              "      <td>5</td>\n",
              "      <td>1979.40</td>\n",
              "      <td>0</td>\n",
              "      <td>Loyal or Potential</td>\n",
              "    </tr>\n",
              "    <tr>\n",
              "      <th>3</th>\n",
              "      <td>3</td>\n",
              "      <td>12349</td>\n",
              "      <td>18</td>\n",
              "      <td>4</td>\n",
              "      <td>4281.46</td>\n",
              "      <td>0</td>\n",
              "      <td>Loyal or Potential</td>\n",
              "    </tr>\n",
              "    <tr>\n",
              "      <th>4</th>\n",
              "      <td>4</td>\n",
              "      <td>12350</td>\n",
              "      <td>309</td>\n",
              "      <td>1</td>\n",
              "      <td>291.80</td>\n",
              "      <td>1</td>\n",
              "      <td>Likely to churn</td>\n",
              "    </tr>\n",
              "  </tbody>\n",
              "</table>\n",
              "</div>"
            ],
            "text/plain": [
              "   Unnamed: 0  Customer ID  ...  Cluster_Id       Customer_type\n",
              "0           0        12346  ...           0  Loyal or Potential\n",
              "1           1        12347  ...           0  Loyal or Potential\n",
              "2           2        12348  ...           0  Loyal or Potential\n",
              "3           3        12349  ...           0  Loyal or Potential\n",
              "4           4        12350  ...           1     Likely to churn\n",
              "\n",
              "[5 rows x 7 columns]"
            ]
          },
          "metadata": {
            "tags": []
          },
          "execution_count": 3
        }
      ]
    },
    {
      "cell_type": "code",
      "metadata": {
        "id": "--zO1-pvuAWb",
        "colab_type": "code",
        "outputId": "37b3e5a3-d95d-4005-8e5e-c5a01610ed36",
        "colab": {
          "base_uri": "https://localhost:8080/",
          "height": 36
        }
      },
      "source": [
        "df.shape"
      ],
      "execution_count": 4,
      "outputs": [
        {
          "output_type": "execute_result",
          "data": {
            "text/plain": [
              "(5821, 7)"
            ]
          },
          "metadata": {
            "tags": []
          },
          "execution_count": 4
        }
      ]
    },
    {
      "cell_type": "code",
      "metadata": {
        "id": "GT0baATGAL1K",
        "colab_type": "code",
        "outputId": "6ac6fc3f-3484-445b-f43c-5b9d85a30160",
        "colab": {
          "base_uri": "https://localhost:8080/",
          "height": 93
        }
      },
      "source": [
        "df.Customer_type.value_counts()"
      ],
      "execution_count": 5,
      "outputs": [
        {
          "output_type": "execute_result",
          "data": {
            "text/plain": [
              "Loyal or Potential    3821\n",
              "Likely to churn       1978\n",
              "Can't Loose Them        22\n",
              "Name: Customer_type, dtype: int64"
            ]
          },
          "metadata": {
            "tags": []
          },
          "execution_count": 5
        }
      ]
    },
    {
      "cell_type": "code",
      "metadata": {
        "id": "oo1IfKYguAW3",
        "colab_type": "code",
        "colab": {}
      },
      "source": [
        "def cust_churn(x):\n",
        "    if(x == 'Likely to churn'):\n",
        "        return 1\n",
        "    else :\n",
        "        return 0\n",
        "df['Cust_churn'] = df['Customer_type'].apply(cust_churn)"
      ],
      "execution_count": 0,
      "outputs": []
    },
    {
      "cell_type": "code",
      "metadata": {
        "id": "9zn8IxVRuAXE",
        "colab_type": "code",
        "outputId": "a62332e3-dea8-40ad-8368-dceadc65b3f4",
        "colab": {
          "base_uri": "https://localhost:8080/",
          "height": 206
        }
      },
      "source": [
        "df.head()"
      ],
      "execution_count": 7,
      "outputs": [
        {
          "output_type": "execute_result",
          "data": {
            "text/html": [
              "<div>\n",
              "<style scoped>\n",
              "    .dataframe tbody tr th:only-of-type {\n",
              "        vertical-align: middle;\n",
              "    }\n",
              "\n",
              "    .dataframe tbody tr th {\n",
              "        vertical-align: top;\n",
              "    }\n",
              "\n",
              "    .dataframe thead th {\n",
              "        text-align: right;\n",
              "    }\n",
              "</style>\n",
              "<table border=\"1\" class=\"dataframe\">\n",
              "  <thead>\n",
              "    <tr style=\"text-align: right;\">\n",
              "      <th></th>\n",
              "      <th>Unnamed: 0</th>\n",
              "      <th>Customer ID</th>\n",
              "      <th>Recency</th>\n",
              "      <th>Frequency</th>\n",
              "      <th>MonetaryValue</th>\n",
              "      <th>Cluster_Id</th>\n",
              "      <th>Customer_type</th>\n",
              "      <th>Cust_churn</th>\n",
              "    </tr>\n",
              "  </thead>\n",
              "  <tbody>\n",
              "    <tr>\n",
              "      <th>0</th>\n",
              "      <td>0</td>\n",
              "      <td>12346</td>\n",
              "      <td>325</td>\n",
              "      <td>12</td>\n",
              "      <td>77556.46</td>\n",
              "      <td>0</td>\n",
              "      <td>Loyal or Potential</td>\n",
              "      <td>0</td>\n",
              "    </tr>\n",
              "    <tr>\n",
              "      <th>1</th>\n",
              "      <td>1</td>\n",
              "      <td>12347</td>\n",
              "      <td>1</td>\n",
              "      <td>8</td>\n",
              "      <td>4746.73</td>\n",
              "      <td>0</td>\n",
              "      <td>Loyal or Potential</td>\n",
              "      <td>0</td>\n",
              "    </tr>\n",
              "    <tr>\n",
              "      <th>2</th>\n",
              "      <td>2</td>\n",
              "      <td>12348</td>\n",
              "      <td>74</td>\n",
              "      <td>5</td>\n",
              "      <td>1979.40</td>\n",
              "      <td>0</td>\n",
              "      <td>Loyal or Potential</td>\n",
              "      <td>0</td>\n",
              "    </tr>\n",
              "    <tr>\n",
              "      <th>3</th>\n",
              "      <td>3</td>\n",
              "      <td>12349</td>\n",
              "      <td>18</td>\n",
              "      <td>4</td>\n",
              "      <td>4281.46</td>\n",
              "      <td>0</td>\n",
              "      <td>Loyal or Potential</td>\n",
              "      <td>0</td>\n",
              "    </tr>\n",
              "    <tr>\n",
              "      <th>4</th>\n",
              "      <td>4</td>\n",
              "      <td>12350</td>\n",
              "      <td>309</td>\n",
              "      <td>1</td>\n",
              "      <td>291.80</td>\n",
              "      <td>1</td>\n",
              "      <td>Likely to churn</td>\n",
              "      <td>1</td>\n",
              "    </tr>\n",
              "  </tbody>\n",
              "</table>\n",
              "</div>"
            ],
            "text/plain": [
              "   Unnamed: 0  Customer ID  Recency  ...  Cluster_Id       Customer_type  Cust_churn\n",
              "0           0        12346      325  ...           0  Loyal or Potential           0\n",
              "1           1        12347        1  ...           0  Loyal or Potential           0\n",
              "2           2        12348       74  ...           0  Loyal or Potential           0\n",
              "3           3        12349       18  ...           0  Loyal or Potential           0\n",
              "4           4        12350      309  ...           1     Likely to churn           1\n",
              "\n",
              "[5 rows x 8 columns]"
            ]
          },
          "metadata": {
            "tags": []
          },
          "execution_count": 7
        }
      ]
    },
    {
      "cell_type": "code",
      "metadata": {
        "id": "HuaXwHw1uAXP",
        "colab_type": "code",
        "outputId": "aa0c713f-dfc1-4f29-980f-693563ef4e82",
        "colab": {
          "base_uri": "https://localhost:8080/",
          "height": 74
        }
      },
      "source": [
        "df['Cust_churn'].value_counts()/df.shape[0]"
      ],
      "execution_count": 8,
      "outputs": [
        {
          "output_type": "execute_result",
          "data": {
            "text/plain": [
              "0    0.660196\n",
              "1    0.339804\n",
              "Name: Cust_churn, dtype: float64"
            ]
          },
          "metadata": {
            "tags": []
          },
          "execution_count": 8
        }
      ]
    },
    {
      "cell_type": "code",
      "metadata": {
        "id": "p-J8kMXYuAXX",
        "colab_type": "code",
        "colab": {}
      },
      "source": [
        "X = df[['Recency','Frequency','MonetaryValue']]\n",
        "Y = df[['Cust_churn']]"
      ],
      "execution_count": 0,
      "outputs": []
    },
    {
      "cell_type": "code",
      "metadata": {
        "id": "uvi6UJFYuAXk",
        "colab_type": "code",
        "outputId": "6d83f943-76f9-4333-8cae-eda917897b4e",
        "colab": {
          "base_uri": "https://localhost:8080/",
          "height": 36
        }
      },
      "source": [
        "X.shape,Y.shape"
      ],
      "execution_count": 10,
      "outputs": [
        {
          "output_type": "execute_result",
          "data": {
            "text/plain": [
              "((5821, 3), (5821, 1))"
            ]
          },
          "metadata": {
            "tags": []
          },
          "execution_count": 10
        }
      ]
    },
    {
      "cell_type": "code",
      "metadata": {
        "id": "acRr9jUauAXt",
        "colab_type": "code",
        "colab": {}
      },
      "source": [
        "from sklearn import preprocessing\n",
        "\n",
        "scaler = preprocessing.StandardScaler().fit(X)\n",
        "X_std = scaler.transform(X)"
      ],
      "execution_count": 0,
      "outputs": []
    },
    {
      "cell_type": "code",
      "metadata": {
        "id": "sPaL1lz4uAX4",
        "colab_type": "code",
        "colab": {}
      },
      "source": [
        "X_std_df = pd.DataFrame(X_std) \n",
        "X_std_df.columns=['R','F','M']"
      ],
      "execution_count": 0,
      "outputs": []
    },
    {
      "cell_type": "code",
      "metadata": {
        "id": "rdnWbBGFuAYE",
        "colab_type": "code",
        "colab": {}
      },
      "source": [
        "from sklearn.naive_bayes import GaussianNB\n",
        "model_Gaus = GaussianNB()"
      ],
      "execution_count": 0,
      "outputs": []
    },
    {
      "cell_type": "code",
      "metadata": {
        "id": "wuyDq0AxuAYO",
        "colab_type": "code",
        "outputId": "498533cc-3182-4703-fd44-1b3394ac1812",
        "colab": {
          "base_uri": "https://localhost:8080/",
          "height": 273
        }
      },
      "source": [
        "colormap = plt.cm.RdBu\n",
        "plt.figure(figsize=(4,4))\n",
        "plt.title('Pearson Corr.', y=1.05, size=12)\n",
        "sns.heatmap(X_std_df.astype(float).corr(),linewidths=0.1, vmax=1.0, \n",
        "            square=True, cmap=colormap, linecolor='white', annot=False)"
      ],
      "execution_count": 14,
      "outputs": [
        {
          "output_type": "execute_result",
          "data": {
            "text/plain": [
              "<matplotlib.axes._subplots.AxesSubplot at 0x7f43a2d5f978>"
            ]
          },
          "metadata": {
            "tags": []
          },
          "execution_count": 14
        },
        {
          "output_type": "display_data",
          "data": {
            "image/png": "[encoded data removed]",
            "text/plain": [
              "<Figure size 288x288 with 2 Axes>"
            ]
          },
          "metadata": {
            "tags": []
          }
        }
      ]
    },
    {
      "cell_type": "code",
      "metadata": {
        "id": "PB_c9LpeuAYY",
        "colab_type": "code",
        "outputId": "98d91d4e-0e3e-44fa-b0a2-0086fde43afe",
        "colab": {
          "base_uri": "https://localhost:8080/",
          "height": 36
        }
      },
      "source": [
        "from sklearn.model_selection import cross_val_score\n",
        "cross_val_score(GaussianNB(),X_std,Y,cv=4)"
      ],
      "execution_count": 15,
      "outputs": [
        {
          "output_type": "execute_result",
          "data": {
            "text/plain": [
              "array([0.90728022, 0.90171821, 0.90515464, 0.89896907])"
            ]
          },
          "metadata": {
            "tags": []
          },
          "execution_count": 15
        }
      ]
    },
    {
      "cell_type": "code",
      "metadata": {
        "id": "qHuqO7dHuAYi",
        "colab_type": "code",
        "outputId": "42bfd087-f40f-44a8-f840-f330c5c53f32",
        "colab": {
          "base_uri": "https://localhost:8080/",
          "height": 81
        }
      },
      "source": [
        "from sklearn.model_selection import GridSearchCV\n",
        "clf_NB = GridSearchCV(GaussianNB(),{},cv=4, return_train_score=False,)\n",
        "clf_NB.fit(X_std,Y)\n",
        "clf_NB.cv_results_\n",
        "results = pd.DataFrame(clf_NB.cv_results_)\n",
        "results[['mean_test_score']]"
      ],
      "execution_count": 16,
      "outputs": [
        {
          "output_type": "execute_result",
          "data": {
            "text/html": [
              "<div>\n",
              "<style scoped>\n",
              "    .dataframe tbody tr th:only-of-type {\n",
              "        vertical-align: middle;\n",
              "    }\n",
              "\n",
              "    .dataframe tbody tr th {\n",
              "        vertical-align: top;\n",
              "    }\n",
              "\n",
              "    .dataframe thead th {\n",
              "        text-align: right;\n",
              "    }\n",
              "</style>\n",
              "<table border=\"1\" class=\"dataframe\">\n",
              "  <thead>\n",
              "    <tr style=\"text-align: right;\">\n",
              "      <th></th>\n",
              "      <th>mean_test_score</th>\n",
              "    </tr>\n",
              "  </thead>\n",
              "  <tbody>\n",
              "    <tr>\n",
              "      <th>0</th>\n",
              "      <td>0.903281</td>\n",
              "    </tr>\n",
              "  </tbody>\n",
              "</table>\n",
              "</div>"
            ],
            "text/plain": [
              "   mean_test_score\n",
              "0         0.903281"
            ]
          },
          "metadata": {
            "tags": []
          },
          "execution_count": 16
        }
      ]
    },
    {
      "cell_type": "code",
      "metadata": {
        "id": "rx6Yev2GuAYq",
        "colab_type": "code",
        "outputId": "23e49617-46d9-4f10-a868-6e584e868bbf",
        "colab": {
          "base_uri": "https://localhost:8080/",
          "height": 614
        }
      },
      "source": [
        "from sklearn.linear_model import LogisticRegression\n",
        "\n",
        "from sklearn.model_selection import GridSearchCV\n",
        "clf_LR = GridSearchCV(LogisticRegression(),{'C':[1,5,10],'class_weight':[None,'balanced'],\n",
        "                                         'solver':['newton-cg','lbfgs','liblinear'] \n",
        "\n",
        "}, cv=4, return_train_score=False)\n",
        "clf_LR.fit(X_std,Y)\n",
        "clf_LR.cv_results_\n",
        "results2 = pd.DataFrame(clf_LR.cv_results_)\n",
        "results2[['param_C','param_class_weight','param_solver','mean_test_score']].sort_values('mean_test_score',ascending=False)"
      ],
      "execution_count": 17,
      "outputs": [
        {
          "output_type": "execute_result",
          "data": {
            "text/html": [
              "<div>\n",
              "<style scoped>\n",
              "    .dataframe tbody tr th:only-of-type {\n",
              "        vertical-align: middle;\n",
              "    }\n",
              "\n",
              "    .dataframe tbody tr th {\n",
              "        vertical-align: top;\n",
              "    }\n",
              "\n",
              "    .dataframe thead th {\n",
              "        text-align: right;\n",
              "    }\n",
              "</style>\n",
              "<table border=\"1\" class=\"dataframe\">\n",
              "  <thead>\n",
              "    <tr style=\"text-align: right;\">\n",
              "      <th></th>\n",
              "      <th>param_C</th>\n",
              "      <th>param_class_weight</th>\n",
              "      <th>param_solver</th>\n",
              "      <th>mean_test_score</th>\n",
              "    </tr>\n",
              "  </thead>\n",
              "  <tbody>\n",
              "    <tr>\n",
              "      <th>8</th>\n",
              "      <td>5</td>\n",
              "      <td>None</td>\n",
              "      <td>liblinear</td>\n",
              "      <td>0.999313</td>\n",
              "    </tr>\n",
              "    <tr>\n",
              "      <th>12</th>\n",
              "      <td>10</td>\n",
              "      <td>None</td>\n",
              "      <td>newton-cg</td>\n",
              "      <td>0.999141</td>\n",
              "    </tr>\n",
              "    <tr>\n",
              "      <th>2</th>\n",
              "      <td>1</td>\n",
              "      <td>None</td>\n",
              "      <td>liblinear</td>\n",
              "      <td>0.999141</td>\n",
              "    </tr>\n",
              "    <tr>\n",
              "      <th>14</th>\n",
              "      <td>10</td>\n",
              "      <td>None</td>\n",
              "      <td>liblinear</td>\n",
              "      <td>0.999141</td>\n",
              "    </tr>\n",
              "    <tr>\n",
              "      <th>6</th>\n",
              "      <td>5</td>\n",
              "      <td>None</td>\n",
              "      <td>newton-cg</td>\n",
              "      <td>0.999141</td>\n",
              "    </tr>\n",
              "    <tr>\n",
              "      <th>7</th>\n",
              "      <td>5</td>\n",
              "      <td>None</td>\n",
              "      <td>lbfgs</td>\n",
              "      <td>0.999141</td>\n",
              "    </tr>\n",
              "    <tr>\n",
              "      <th>13</th>\n",
              "      <td>10</td>\n",
              "      <td>None</td>\n",
              "      <td>lbfgs</td>\n",
              "      <td>0.999141</td>\n",
              "    </tr>\n",
              "    <tr>\n",
              "      <th>0</th>\n",
              "      <td>1</td>\n",
              "      <td>None</td>\n",
              "      <td>newton-cg</td>\n",
              "      <td>0.998797</td>\n",
              "    </tr>\n",
              "    <tr>\n",
              "      <th>1</th>\n",
              "      <td>1</td>\n",
              "      <td>None</td>\n",
              "      <td>lbfgs</td>\n",
              "      <td>0.998797</td>\n",
              "    </tr>\n",
              "    <tr>\n",
              "      <th>16</th>\n",
              "      <td>10</td>\n",
              "      <td>balanced</td>\n",
              "      <td>lbfgs</td>\n",
              "      <td>0.996736</td>\n",
              "    </tr>\n",
              "    <tr>\n",
              "      <th>15</th>\n",
              "      <td>10</td>\n",
              "      <td>balanced</td>\n",
              "      <td>newton-cg</td>\n",
              "      <td>0.996736</td>\n",
              "    </tr>\n",
              "    <tr>\n",
              "      <th>17</th>\n",
              "      <td>10</td>\n",
              "      <td>balanced</td>\n",
              "      <td>liblinear</td>\n",
              "      <td>0.995877</td>\n",
              "    </tr>\n",
              "    <tr>\n",
              "      <th>10</th>\n",
              "      <td>5</td>\n",
              "      <td>balanced</td>\n",
              "      <td>lbfgs</td>\n",
              "      <td>0.995018</td>\n",
              "    </tr>\n",
              "    <tr>\n",
              "      <th>9</th>\n",
              "      <td>5</td>\n",
              "      <td>balanced</td>\n",
              "      <td>newton-cg</td>\n",
              "      <td>0.995018</td>\n",
              "    </tr>\n",
              "    <tr>\n",
              "      <th>11</th>\n",
              "      <td>5</td>\n",
              "      <td>balanced</td>\n",
              "      <td>liblinear</td>\n",
              "      <td>0.994331</td>\n",
              "    </tr>\n",
              "    <tr>\n",
              "      <th>4</th>\n",
              "      <td>1</td>\n",
              "      <td>balanced</td>\n",
              "      <td>lbfgs</td>\n",
              "      <td>0.991754</td>\n",
              "    </tr>\n",
              "    <tr>\n",
              "      <th>3</th>\n",
              "      <td>1</td>\n",
              "      <td>balanced</td>\n",
              "      <td>newton-cg</td>\n",
              "      <td>0.991754</td>\n",
              "    </tr>\n",
              "    <tr>\n",
              "      <th>5</th>\n",
              "      <td>1</td>\n",
              "      <td>balanced</td>\n",
              "      <td>liblinear</td>\n",
              "      <td>0.991067</td>\n",
              "    </tr>\n",
              "  </tbody>\n",
              "</table>\n",
              "</div>"
            ],
            "text/plain": [
              "   param_C param_class_weight param_solver  mean_test_score\n",
              "8        5               None    liblinear         0.999313\n",
              "12      10               None    newton-cg         0.999141\n",
              "2        1               None    liblinear         0.999141\n",
              "14      10               None    liblinear         0.999141\n",
              "6        5               None    newton-cg         0.999141\n",
              "7        5               None        lbfgs         0.999141\n",
              "13      10               None        lbfgs         0.999141\n",
              "0        1               None    newton-cg         0.998797\n",
              "1        1               None        lbfgs         0.998797\n",
              "16      10           balanced        lbfgs         0.996736\n",
              "15      10           balanced    newton-cg         0.996736\n",
              "17      10           balanced    liblinear         0.995877\n",
              "10       5           balanced        lbfgs         0.995018\n",
              "9        5           balanced    newton-cg         0.995018\n",
              "11       5           balanced    liblinear         0.994331\n",
              "4        1           balanced        lbfgs         0.991754\n",
              "3        1           balanced    newton-cg         0.991754\n",
              "5        1           balanced    liblinear         0.991067"
            ]
          },
          "metadata": {
            "tags": []
          },
          "execution_count": 17
        }
      ]
    },
    {
      "cell_type": "code",
      "metadata": {
        "id": "v3bdIUmWuAYz",
        "colab_type": "code",
        "outputId": "b66ee9b8-da7f-4f3a-f4f3-b4ac81106671",
        "colab": {
          "base_uri": "https://localhost:8080/",
          "height": 175
        }
      },
      "source": [
        "from sklearn import svm\n",
        "\n",
        "clf_svc = GridSearchCV(svm.SVC(gamma='auto'),{'C': [0.1,1],'kernel': ['rbf','linear']\n",
        "                      }, cv=4, return_train_score=False)\n",
        "clf_svc.fit(X_std,Y)\n",
        "clf_svc.cv_results_\n",
        "results2 = pd.DataFrame(clf_svc.cv_results_)\n",
        "results2[['param_C','param_kernel','mean_test_score']].sort_values('mean_test_score',ascending=False)"
      ],
      "execution_count": 18,
      "outputs": [
        {
          "output_type": "execute_result",
          "data": {
            "text/html": [
              "<div>\n",
              "<style scoped>\n",
              "    .dataframe tbody tr th:only-of-type {\n",
              "        vertical-align: middle;\n",
              "    }\n",
              "\n",
              "    .dataframe tbody tr th {\n",
              "        vertical-align: top;\n",
              "    }\n",
              "\n",
              "    .dataframe thead th {\n",
              "        text-align: right;\n",
              "    }\n",
              "</style>\n",
              "<table border=\"1\" class=\"dataframe\">\n",
              "  <thead>\n",
              "    <tr style=\"text-align: right;\">\n",
              "      <th></th>\n",
              "      <th>param_C</th>\n",
              "      <th>param_kernel</th>\n",
              "      <th>mean_test_score</th>\n",
              "    </tr>\n",
              "  </thead>\n",
              "  <tbody>\n",
              "    <tr>\n",
              "      <th>3</th>\n",
              "      <td>1</td>\n",
              "      <td>linear</td>\n",
              "      <td>0.999141</td>\n",
              "    </tr>\n",
              "    <tr>\n",
              "      <th>1</th>\n",
              "      <td>0.1</td>\n",
              "      <td>linear</td>\n",
              "      <td>0.998969</td>\n",
              "    </tr>\n",
              "    <tr>\n",
              "      <th>2</th>\n",
              "      <td>1</td>\n",
              "      <td>rbf</td>\n",
              "      <td>0.998454</td>\n",
              "    </tr>\n",
              "    <tr>\n",
              "      <th>0</th>\n",
              "      <td>0.1</td>\n",
              "      <td>rbf</td>\n",
              "      <td>0.997079</td>\n",
              "    </tr>\n",
              "  </tbody>\n",
              "</table>\n",
              "</div>"
            ],
            "text/plain": [
              "  param_C param_kernel  mean_test_score\n",
              "3       1       linear         0.999141\n",
              "1     0.1       linear         0.998969\n",
              "2       1          rbf         0.998454\n",
              "0     0.1          rbf         0.997079"
            ]
          },
          "metadata": {
            "tags": []
          },
          "execution_count": 18
        }
      ]
    },
    {
      "cell_type": "code",
      "metadata": {
        "id": "c997BfBTuAY7",
        "colab_type": "code",
        "outputId": "9c8b6b7c-15a7-4756-b34e-39c8fb4ec75a",
        "colab": {
          "base_uri": "https://localhost:8080/",
          "height": 426
        }
      },
      "source": [
        "from sklearn.ensemble import RandomForestClassifier\n",
        "\n",
        "clf_rf = GridSearchCV(RandomForestClassifier(),{'criterion': ['gini','entropy'],'class_weight':[None,'balanced'],'n_estimators':[50,100,200]\n",
        "                      }, cv=4, return_train_score=False)\n",
        "clf_rf.fit(X_std,Y)\n",
        "clf_rf.cv_results_\n",
        "results2 = pd.DataFrame(clf_rf.cv_results_)\n",
        "results2[['param_criterion','param_class_weight','param_n_estimators','mean_test_score']].sort_values('mean_test_score',ascending=False)"
      ],
      "execution_count": 19,
      "outputs": [
        {
          "output_type": "execute_result",
          "data": {
            "text/html": [
              "<div>\n",
              "<style scoped>\n",
              "    .dataframe tbody tr th:only-of-type {\n",
              "        vertical-align: middle;\n",
              "    }\n",
              "\n",
              "    .dataframe tbody tr th {\n",
              "        vertical-align: top;\n",
              "    }\n",
              "\n",
              "    .dataframe thead th {\n",
              "        text-align: right;\n",
              "    }\n",
              "</style>\n",
              "<table border=\"1\" class=\"dataframe\">\n",
              "  <thead>\n",
              "    <tr style=\"text-align: right;\">\n",
              "      <th></th>\n",
              "      <th>param_criterion</th>\n",
              "      <th>param_class_weight</th>\n",
              "      <th>param_n_estimators</th>\n",
              "      <th>mean_test_score</th>\n",
              "    </tr>\n",
              "  </thead>\n",
              "  <tbody>\n",
              "    <tr>\n",
              "      <th>0</th>\n",
              "      <td>gini</td>\n",
              "      <td>None</td>\n",
              "      <td>50</td>\n",
              "      <td>0.998110</td>\n",
              "    </tr>\n",
              "    <tr>\n",
              "      <th>1</th>\n",
              "      <td>gini</td>\n",
              "      <td>None</td>\n",
              "      <td>100</td>\n",
              "      <td>0.998110</td>\n",
              "    </tr>\n",
              "    <tr>\n",
              "      <th>7</th>\n",
              "      <td>gini</td>\n",
              "      <td>balanced</td>\n",
              "      <td>100</td>\n",
              "      <td>0.997939</td>\n",
              "    </tr>\n",
              "    <tr>\n",
              "      <th>9</th>\n",
              "      <td>entropy</td>\n",
              "      <td>balanced</td>\n",
              "      <td>50</td>\n",
              "      <td>0.997939</td>\n",
              "    </tr>\n",
              "    <tr>\n",
              "      <th>2</th>\n",
              "      <td>gini</td>\n",
              "      <td>None</td>\n",
              "      <td>200</td>\n",
              "      <td>0.997939</td>\n",
              "    </tr>\n",
              "    <tr>\n",
              "      <th>4</th>\n",
              "      <td>entropy</td>\n",
              "      <td>None</td>\n",
              "      <td>100</td>\n",
              "      <td>0.997939</td>\n",
              "    </tr>\n",
              "    <tr>\n",
              "      <th>5</th>\n",
              "      <td>entropy</td>\n",
              "      <td>None</td>\n",
              "      <td>200</td>\n",
              "      <td>0.997939</td>\n",
              "    </tr>\n",
              "    <tr>\n",
              "      <th>8</th>\n",
              "      <td>gini</td>\n",
              "      <td>balanced</td>\n",
              "      <td>200</td>\n",
              "      <td>0.997939</td>\n",
              "    </tr>\n",
              "    <tr>\n",
              "      <th>10</th>\n",
              "      <td>entropy</td>\n",
              "      <td>balanced</td>\n",
              "      <td>100</td>\n",
              "      <td>0.997939</td>\n",
              "    </tr>\n",
              "    <tr>\n",
              "      <th>11</th>\n",
              "      <td>entropy</td>\n",
              "      <td>balanced</td>\n",
              "      <td>200</td>\n",
              "      <td>0.997939</td>\n",
              "    </tr>\n",
              "    <tr>\n",
              "      <th>6</th>\n",
              "      <td>gini</td>\n",
              "      <td>balanced</td>\n",
              "      <td>50</td>\n",
              "      <td>0.997767</td>\n",
              "    </tr>\n",
              "    <tr>\n",
              "      <th>3</th>\n",
              "      <td>entropy</td>\n",
              "      <td>None</td>\n",
              "      <td>50</td>\n",
              "      <td>0.997767</td>\n",
              "    </tr>\n",
              "  </tbody>\n",
              "</table>\n",
              "</div>"
            ],
            "text/plain": [
              "   param_criterion param_class_weight param_n_estimators  mean_test_score\n",
              "0             gini               None                 50         0.998110\n",
              "1             gini               None                100         0.998110\n",
              "7             gini           balanced                100         0.997939\n",
              "9          entropy           balanced                 50         0.997939\n",
              "2             gini               None                200         0.997939\n",
              "4          entropy               None                100         0.997939\n",
              "5          entropy               None                200         0.997939\n",
              "8             gini           balanced                200         0.997939\n",
              "10         entropy           balanced                100         0.997939\n",
              "11         entropy           balanced                200         0.997939\n",
              "6             gini           balanced                 50         0.997767\n",
              "3          entropy               None                 50         0.997767"
            ]
          },
          "metadata": {
            "tags": []
          },
          "execution_count": 19
        }
      ]
    },
    {
      "cell_type": "code",
      "metadata": {
        "id": "rGec_YaSuAZD",
        "colab_type": "code",
        "outputId": "7c00adc6-2ef8-4512-f118-f1953c7bf656",
        "colab": {
          "base_uri": "https://localhost:8080/",
          "height": 36
        }
      },
      "source": [
        "model = RandomForestClassifier(random_state=10)\n",
        "model.fit(X_std,Y)\n",
        "model.score(X_std,Y)"
      ],
      "execution_count": 20,
      "outputs": [
        {
          "output_type": "execute_result",
          "data": {
            "text/plain": [
              "1.0"
            ]
          },
          "metadata": {
            "tags": []
          },
          "execution_count": 20
        }
      ]
    },
    {
      "cell_type": "code",
      "metadata": {
        "id": "E6wuXx9PuAZO",
        "colab_type": "code",
        "outputId": "cb830d25-0852-41a8-b4f9-8e0599e51c54",
        "colab": {
          "base_uri": "https://localhost:8080/",
          "height": 144
        }
      },
      "source": [
        "feature_importances_rf = pd.DataFrame(model.feature_importances_, index = X_std_df.columns,columns=['importance']).sort_values('importance',ascending=False)\n",
        "feature_importances_rf"
      ],
      "execution_count": 21,
      "outputs": [
        {
          "output_type": "execute_result",
          "data": {
            "text/html": [
              "<div>\n",
              "<style scoped>\n",
              "    .dataframe tbody tr th:only-of-type {\n",
              "        vertical-align: middle;\n",
              "    }\n",
              "\n",
              "    .dataframe tbody tr th {\n",
              "        vertical-align: top;\n",
              "    }\n",
              "\n",
              "    .dataframe thead th {\n",
              "        text-align: right;\n",
              "    }\n",
              "</style>\n",
              "<table border=\"1\" class=\"dataframe\">\n",
              "  <thead>\n",
              "    <tr style=\"text-align: right;\">\n",
              "      <th></th>\n",
              "      <th>importance</th>\n",
              "    </tr>\n",
              "  </thead>\n",
              "  <tbody>\n",
              "    <tr>\n",
              "      <th>R</th>\n",
              "      <td>0.827473</td>\n",
              "    </tr>\n",
              "    <tr>\n",
              "      <th>F</th>\n",
              "      <td>0.103327</td>\n",
              "    </tr>\n",
              "    <tr>\n",
              "      <th>M</th>\n",
              "      <td>0.069200</td>\n",
              "    </tr>\n",
              "  </tbody>\n",
              "</table>\n",
              "</div>"
            ],
            "text/plain": [
              "   importance\n",
              "R    0.827473\n",
              "F    0.103327\n",
              "M    0.069200"
            ]
          },
          "metadata": {
            "tags": []
          },
          "execution_count": 21
        }
      ]
    },
    {
      "cell_type": "code",
      "metadata": {
        "id": "RbUPg_l-uAZY",
        "colab_type": "code",
        "outputId": "22ea23bd-3ecb-4454-f913-f73050322336",
        "colab": {
          "base_uri": "https://localhost:8080/",
          "height": 175
        }
      },
      "source": [
        "from sklearn.tree import DecisionTreeClassifier\n",
        "\n",
        "clf_dt = GridSearchCV(DecisionTreeClassifier(),\n",
        "                   {'criterion': ['gini','entropy'],'class_weight':[None,'balanced']\n",
        "                      }, cv=4, return_train_score=False)\n",
        "clf_dt.fit(X_std,Y)\n",
        "clf_dt.cv_results_\n",
        "results2 = pd.DataFrame(clf_dt.cv_results_)\n",
        "results2[['param_criterion','param_class_weight',\n",
        "          'mean_test_score']].sort_values('mean_test_score',ascending=False)"
      ],
      "execution_count": 22,
      "outputs": [
        {
          "output_type": "execute_result",
          "data": {
            "text/html": [
              "<div>\n",
              "<style scoped>\n",
              "    .dataframe tbody tr th:only-of-type {\n",
              "        vertical-align: middle;\n",
              "    }\n",
              "\n",
              "    .dataframe tbody tr th {\n",
              "        vertical-align: top;\n",
              "    }\n",
              "\n",
              "    .dataframe thead th {\n",
              "        text-align: right;\n",
              "    }\n",
              "</style>\n",
              "<table border=\"1\" class=\"dataframe\">\n",
              "  <thead>\n",
              "    <tr style=\"text-align: right;\">\n",
              "      <th></th>\n",
              "      <th>param_criterion</th>\n",
              "      <th>param_class_weight</th>\n",
              "      <th>mean_test_score</th>\n",
              "    </tr>\n",
              "  </thead>\n",
              "  <tbody>\n",
              "    <tr>\n",
              "      <th>2</th>\n",
              "      <td>gini</td>\n",
              "      <td>balanced</td>\n",
              "      <td>0.997423</td>\n",
              "    </tr>\n",
              "    <tr>\n",
              "      <th>3</th>\n",
              "      <td>entropy</td>\n",
              "      <td>balanced</td>\n",
              "      <td>0.996908</td>\n",
              "    </tr>\n",
              "    <tr>\n",
              "      <th>0</th>\n",
              "      <td>gini</td>\n",
              "      <td>None</td>\n",
              "      <td>0.996564</td>\n",
              "    </tr>\n",
              "    <tr>\n",
              "      <th>1</th>\n",
              "      <td>entropy</td>\n",
              "      <td>None</td>\n",
              "      <td>0.996221</td>\n",
              "    </tr>\n",
              "  </tbody>\n",
              "</table>\n",
              "</div>"
            ],
            "text/plain": [
              "  param_criterion param_class_weight  mean_test_score\n",
              "2            gini           balanced         0.997423\n",
              "3         entropy           balanced         0.996908\n",
              "0            gini               None         0.996564\n",
              "1         entropy               None         0.996221"
            ]
          },
          "metadata": {
            "tags": []
          },
          "execution_count": 22
        }
      ]
    },
    {
      "cell_type": "code",
      "metadata": {
        "id": "fSTrxagLcESW",
        "colab_type": "code",
        "colab": {
          "base_uri": "https://localhost:8080/",
          "height": 36
        },
        "outputId": "fcb459a2-ba1d-43b1-b72d-6cddc01b802e"
      },
      "source": [
        "clf_dtree = DecisionTreeClassifier(class_weight='balanced', max_depth=10)\n",
        "\n",
        "cross_val_score(clf_dtree, X_std,Y,cv=4,scoring='accuracy').mean()"
      ],
      "execution_count": 106,
      "outputs": [
        {
          "output_type": "execute_result",
          "data": {
            "text/plain": [
              "0.9970795098372418"
            ]
          },
          "metadata": {
            "tags": []
          },
          "execution_count": 106
        }
      ]
    },
    {
      "cell_type": "code",
      "metadata": {
        "id": "co8VCjjkfzTu",
        "colab_type": "code",
        "colab": {
          "base_uri": "https://localhost:8080/",
          "height": 131
        },
        "outputId": "389a3806-1b74-4981-daa3-ab583dc7c711"
      },
      "source": [
        "clf_dtree.fit(X_std,Y)"
      ],
      "execution_count": 108,
      "outputs": [
        {
          "output_type": "execute_result",
          "data": {
            "text/plain": [
              "DecisionTreeClassifier(ccp_alpha=0.0, class_weight='balanced', criterion='gini',\n",
              "                       max_depth=10, max_features=None, max_leaf_nodes=None,\n",
              "                       min_impurity_decrease=0.0, min_impurity_split=None,\n",
              "                       min_samples_leaf=1, min_samples_split=2,\n",
              "                       min_weight_fraction_leaf=0.0, presort='deprecated',\n",
              "                       random_state=None, splitter='best')"
            ]
          },
          "metadata": {
            "tags": []
          },
          "execution_count": 108
        }
      ]
    },
    {
      "cell_type": "code",
      "metadata": {
        "id": "kWshmU9tNqYY",
        "colab_type": "code",
        "outputId": "3ce22815-9ef2-4762-e2fd-20067096be34",
        "colab": {
          "base_uri": "https://localhost:8080/",
          "height": 896
        }
      },
      "source": [
        "from xgboost import XGBClassifier\n",
        "\n",
        "xgb_boost = XGBClassifier()\n",
        "\n",
        "clf_xgb = GridSearchCV(xgb_boost,{ \"eta\" : [0.05,0.1,0.2] ,\"max_depth\": [3,5,10], \n",
        "                                  \"gamma\": [0.0,0.2,0.4]},cv=4, return_train_score=False,)\n",
        "clf_xgb.fit(X_std,Y)\n",
        "clf_xgb.cv_results_\n",
        "results = pd.DataFrame(clf_xgb.cv_results_)\n",
        "results[['param_eta','param_max_depth','param_gamma','mean_test_score']].sort_values('mean_test_score',ascending=False)"
      ],
      "execution_count": 23,
      "outputs": [
        {
          "output_type": "execute_result",
          "data": {
            "text/html": [
              "<div>\n",
              "<style scoped>\n",
              "    .dataframe tbody tr th:only-of-type {\n",
              "        vertical-align: middle;\n",
              "    }\n",
              "\n",
              "    .dataframe tbody tr th {\n",
              "        vertical-align: top;\n",
              "    }\n",
              "\n",
              "    .dataframe thead th {\n",
              "        text-align: right;\n",
              "    }\n",
              "</style>\n",
              "<table border=\"1\" class=\"dataframe\">\n",
              "  <thead>\n",
              "    <tr style=\"text-align: right;\">\n",
              "      <th></th>\n",
              "      <th>param_eta</th>\n",
              "      <th>param_max_depth</th>\n",
              "      <th>param_gamma</th>\n",
              "      <th>mean_test_score</th>\n",
              "    </tr>\n",
              "  </thead>\n",
              "  <tbody>\n",
              "    <tr>\n",
              "      <th>0</th>\n",
              "      <td>0.05</td>\n",
              "      <td>3</td>\n",
              "      <td>0</td>\n",
              "      <td>0.997939</td>\n",
              "    </tr>\n",
              "    <tr>\n",
              "      <th>14</th>\n",
              "      <td>0.1</td>\n",
              "      <td>10</td>\n",
              "      <td>0.2</td>\n",
              "      <td>0.997939</td>\n",
              "    </tr>\n",
              "    <tr>\n",
              "      <th>25</th>\n",
              "      <td>0.2</td>\n",
              "      <td>5</td>\n",
              "      <td>0.4</td>\n",
              "      <td>0.997939</td>\n",
              "    </tr>\n",
              "    <tr>\n",
              "      <th>24</th>\n",
              "      <td>0.2</td>\n",
              "      <td>3</td>\n",
              "      <td>0.4</td>\n",
              "      <td>0.997939</td>\n",
              "    </tr>\n",
              "    <tr>\n",
              "      <th>23</th>\n",
              "      <td>0.2</td>\n",
              "      <td>10</td>\n",
              "      <td>0.2</td>\n",
              "      <td>0.997939</td>\n",
              "    </tr>\n",
              "    <tr>\n",
              "      <th>22</th>\n",
              "      <td>0.2</td>\n",
              "      <td>5</td>\n",
              "      <td>0.2</td>\n",
              "      <td>0.997939</td>\n",
              "    </tr>\n",
              "    <tr>\n",
              "      <th>21</th>\n",
              "      <td>0.2</td>\n",
              "      <td>3</td>\n",
              "      <td>0.2</td>\n",
              "      <td>0.997939</td>\n",
              "    </tr>\n",
              "    <tr>\n",
              "      <th>20</th>\n",
              "      <td>0.2</td>\n",
              "      <td>10</td>\n",
              "      <td>0</td>\n",
              "      <td>0.997939</td>\n",
              "    </tr>\n",
              "    <tr>\n",
              "      <th>19</th>\n",
              "      <td>0.2</td>\n",
              "      <td>5</td>\n",
              "      <td>0</td>\n",
              "      <td>0.997939</td>\n",
              "    </tr>\n",
              "    <tr>\n",
              "      <th>18</th>\n",
              "      <td>0.2</td>\n",
              "      <td>3</td>\n",
              "      <td>0</td>\n",
              "      <td>0.997939</td>\n",
              "    </tr>\n",
              "    <tr>\n",
              "      <th>17</th>\n",
              "      <td>0.1</td>\n",
              "      <td>10</td>\n",
              "      <td>0.4</td>\n",
              "      <td>0.997939</td>\n",
              "    </tr>\n",
              "    <tr>\n",
              "      <th>16</th>\n",
              "      <td>0.1</td>\n",
              "      <td>5</td>\n",
              "      <td>0.4</td>\n",
              "      <td>0.997939</td>\n",
              "    </tr>\n",
              "    <tr>\n",
              "      <th>15</th>\n",
              "      <td>0.1</td>\n",
              "      <td>3</td>\n",
              "      <td>0.4</td>\n",
              "      <td>0.997939</td>\n",
              "    </tr>\n",
              "    <tr>\n",
              "      <th>13</th>\n",
              "      <td>0.1</td>\n",
              "      <td>5</td>\n",
              "      <td>0.2</td>\n",
              "      <td>0.997939</td>\n",
              "    </tr>\n",
              "    <tr>\n",
              "      <th>1</th>\n",
              "      <td>0.05</td>\n",
              "      <td>5</td>\n",
              "      <td>0</td>\n",
              "      <td>0.997939</td>\n",
              "    </tr>\n",
              "    <tr>\n",
              "      <th>12</th>\n",
              "      <td>0.1</td>\n",
              "      <td>3</td>\n",
              "      <td>0.2</td>\n",
              "      <td>0.997939</td>\n",
              "    </tr>\n",
              "    <tr>\n",
              "      <th>11</th>\n",
              "      <td>0.1</td>\n",
              "      <td>10</td>\n",
              "      <td>0</td>\n",
              "      <td>0.997939</td>\n",
              "    </tr>\n",
              "    <tr>\n",
              "      <th>10</th>\n",
              "      <td>0.1</td>\n",
              "      <td>5</td>\n",
              "      <td>0</td>\n",
              "      <td>0.997939</td>\n",
              "    </tr>\n",
              "    <tr>\n",
              "      <th>9</th>\n",
              "      <td>0.1</td>\n",
              "      <td>3</td>\n",
              "      <td>0</td>\n",
              "      <td>0.997939</td>\n",
              "    </tr>\n",
              "    <tr>\n",
              "      <th>8</th>\n",
              "      <td>0.05</td>\n",
              "      <td>10</td>\n",
              "      <td>0.4</td>\n",
              "      <td>0.997939</td>\n",
              "    </tr>\n",
              "    <tr>\n",
              "      <th>7</th>\n",
              "      <td>0.05</td>\n",
              "      <td>5</td>\n",
              "      <td>0.4</td>\n",
              "      <td>0.997939</td>\n",
              "    </tr>\n",
              "    <tr>\n",
              "      <th>6</th>\n",
              "      <td>0.05</td>\n",
              "      <td>3</td>\n",
              "      <td>0.4</td>\n",
              "      <td>0.997939</td>\n",
              "    </tr>\n",
              "    <tr>\n",
              "      <th>5</th>\n",
              "      <td>0.05</td>\n",
              "      <td>10</td>\n",
              "      <td>0.2</td>\n",
              "      <td>0.997939</td>\n",
              "    </tr>\n",
              "    <tr>\n",
              "      <th>4</th>\n",
              "      <td>0.05</td>\n",
              "      <td>5</td>\n",
              "      <td>0.2</td>\n",
              "      <td>0.997939</td>\n",
              "    </tr>\n",
              "    <tr>\n",
              "      <th>3</th>\n",
              "      <td>0.05</td>\n",
              "      <td>3</td>\n",
              "      <td>0.2</td>\n",
              "      <td>0.997939</td>\n",
              "    </tr>\n",
              "    <tr>\n",
              "      <th>2</th>\n",
              "      <td>0.05</td>\n",
              "      <td>10</td>\n",
              "      <td>0</td>\n",
              "      <td>0.997939</td>\n",
              "    </tr>\n",
              "    <tr>\n",
              "      <th>26</th>\n",
              "      <td>0.2</td>\n",
              "      <td>10</td>\n",
              "      <td>0.4</td>\n",
              "      <td>0.997939</td>\n",
              "    </tr>\n",
              "  </tbody>\n",
              "</table>\n",
              "</div>"
            ],
            "text/plain": [
              "   param_eta param_max_depth param_gamma  mean_test_score\n",
              "0       0.05               3           0         0.997939\n",
              "14       0.1              10         0.2         0.997939\n",
              "25       0.2               5         0.4         0.997939\n",
              "24       0.2               3         0.4         0.997939\n",
              "23       0.2              10         0.2         0.997939\n",
              "22       0.2               5         0.2         0.997939\n",
              "21       0.2               3         0.2         0.997939\n",
              "20       0.2              10           0         0.997939\n",
              "19       0.2               5           0         0.997939\n",
              "18       0.2               3           0         0.997939\n",
              "17       0.1              10         0.4         0.997939\n",
              "16       0.1               5         0.4         0.997939\n",
              "15       0.1               3         0.4         0.997939\n",
              "13       0.1               5         0.2         0.997939\n",
              "1       0.05               5           0         0.997939\n",
              "12       0.1               3         0.2         0.997939\n",
              "11       0.1              10           0         0.997939\n",
              "10       0.1               5           0         0.997939\n",
              "9        0.1               3           0         0.997939\n",
              "8       0.05              10         0.4         0.997939\n",
              "7       0.05               5         0.4         0.997939\n",
              "6       0.05               3         0.4         0.997939\n",
              "5       0.05              10         0.2         0.997939\n",
              "4       0.05               5         0.2         0.997939\n",
              "3       0.05               3         0.2         0.997939\n",
              "2       0.05              10           0         0.997939\n",
              "26       0.2              10         0.4         0.997939"
            ]
          },
          "metadata": {
            "tags": []
          },
          "execution_count": 23
        }
      ]
    },
    {
      "cell_type": "code",
      "metadata": {
        "id": "yYRZ_sI6QB5v",
        "colab_type": "code",
        "outputId": "0d9eb36e-9ccb-4d30-f460-01720b720d7c",
        "colab": {
          "base_uri": "https://localhost:8080/",
          "height": 36
        }
      },
      "source": [
        "model_xgb = XGBClassifier(random_state=10)\n",
        "model_xgb.fit(X_std,Y)\n",
        "model_xgb.score(X_std,Y)"
      ],
      "execution_count": 24,
      "outputs": [
        {
          "output_type": "execute_result",
          "data": {
            "text/plain": [
              "1.0"
            ]
          },
          "metadata": {
            "tags": []
          },
          "execution_count": 24
        }
      ]
    },
    {
      "cell_type": "code",
      "metadata": {
        "id": "Bvp4wasVYuGM",
        "colab_type": "code",
        "outputId": "ff31dc49-c062-4585-e041-50548e3332d0",
        "colab": {
          "base_uri": "https://localhost:8080/",
          "height": 144
        }
      },
      "source": [
        "feature_importances_xgb = pd.DataFrame(model_xgb.feature_importances_, index = X_std_df.columns,columns=['importance']).sort_values('importance',ascending=False)\n",
        "feature_importances_xgb"
      ],
      "execution_count": 25,
      "outputs": [
        {
          "output_type": "execute_result",
          "data": {
            "text/html": [
              "<div>\n",
              "<style scoped>\n",
              "    .dataframe tbody tr th:only-of-type {\n",
              "        vertical-align: middle;\n",
              "    }\n",
              "\n",
              "    .dataframe tbody tr th {\n",
              "        vertical-align: top;\n",
              "    }\n",
              "\n",
              "    .dataframe thead th {\n",
              "        text-align: right;\n",
              "    }\n",
              "</style>\n",
              "<table border=\"1\" class=\"dataframe\">\n",
              "  <thead>\n",
              "    <tr style=\"text-align: right;\">\n",
              "      <th></th>\n",
              "      <th>importance</th>\n",
              "    </tr>\n",
              "  </thead>\n",
              "  <tbody>\n",
              "    <tr>\n",
              "      <th>R</th>\n",
              "      <td>0.954396</td>\n",
              "    </tr>\n",
              "    <tr>\n",
              "      <th>F</th>\n",
              "      <td>0.029064</td>\n",
              "    </tr>\n",
              "    <tr>\n",
              "      <th>M</th>\n",
              "      <td>0.016540</td>\n",
              "    </tr>\n",
              "  </tbody>\n",
              "</table>\n",
              "</div>"
            ],
            "text/plain": [
              "   importance\n",
              "R    0.954396\n",
              "F    0.029064\n",
              "M    0.016540"
            ]
          },
          "metadata": {
            "tags": []
          },
          "execution_count": 25
        }
      ]
    },
    {
      "cell_type": "markdown",
      "metadata": {
        "id": "pJNC6dz9uAZg",
        "colab_type": "text"
      },
      "source": [
        "## Testing new dataset"
      ]
    },
    {
      "cell_type": "code",
      "metadata": {
        "id": "Z2fjuKAIuAZj",
        "colab_type": "code",
        "colab": {}
      },
      "source": [
        "from sklearn.metrics import classification_report\n",
        "from sklearn.metrics import confusion_matrix"
      ],
      "execution_count": 0,
      "outputs": []
    },
    {
      "cell_type": "code",
      "metadata": {
        "id": "DBojCf3AuAZr",
        "colab_type": "code",
        "colab": {}
      },
      "source": [
        " data = pd.read_excel(\"rfm_test_data1.xlsx\")"
      ],
      "execution_count": 0,
      "outputs": []
    },
    {
      "cell_type": "code",
      "metadata": {
        "id": "cCIhltIOuAZx",
        "colab_type": "code",
        "outputId": "59d27071-6d5b-4da8-d22e-0eaed734054e",
        "colab": {
          "base_uri": "https://localhost:8080/",
          "height": 206
        }
      },
      "source": [
        "data.drop(columns=['R_Quartile','F_Quartile','M_Quartile']).head()"
      ],
      "execution_count": 28,
      "outputs": [
        {
          "output_type": "execute_result",
          "data": {
            "text/html": [
              "<div>\n",
              "<style scoped>\n",
              "    .dataframe tbody tr th:only-of-type {\n",
              "        vertical-align: middle;\n",
              "    }\n",
              "\n",
              "    .dataframe tbody tr th {\n",
              "        vertical-align: top;\n",
              "    }\n",
              "\n",
              "    .dataframe thead th {\n",
              "        text-align: right;\n",
              "    }\n",
              "</style>\n",
              "<table border=\"1\" class=\"dataframe\">\n",
              "  <thead>\n",
              "    <tr style=\"text-align: right;\">\n",
              "      <th></th>\n",
              "      <th>customer_id</th>\n",
              "      <th>Recency</th>\n",
              "      <th>Frequency</th>\n",
              "      <th>Monetary_value</th>\n",
              "      <th>Churn</th>\n",
              "    </tr>\n",
              "  </thead>\n",
              "  <tbody>\n",
              "    <tr>\n",
              "      <th>0</th>\n",
              "      <td>CS1112</td>\n",
              "      <td>61</td>\n",
              "      <td>15</td>\n",
              "      <td>1012</td>\n",
              "      <td>0</td>\n",
              "    </tr>\n",
              "    <tr>\n",
              "      <th>1</th>\n",
              "      <td>CS1113</td>\n",
              "      <td>35</td>\n",
              "      <td>20</td>\n",
              "      <td>1490</td>\n",
              "      <td>0</td>\n",
              "    </tr>\n",
              "    <tr>\n",
              "      <th>2</th>\n",
              "      <td>CS1114</td>\n",
              "      <td>32</td>\n",
              "      <td>19</td>\n",
              "      <td>1432</td>\n",
              "      <td>0</td>\n",
              "    </tr>\n",
              "    <tr>\n",
              "      <th>3</th>\n",
              "      <td>CS1115</td>\n",
              "      <td>11</td>\n",
              "      <td>22</td>\n",
              "      <td>1659</td>\n",
              "      <td>0</td>\n",
              "    </tr>\n",
              "    <tr>\n",
              "      <th>4</th>\n",
              "      <td>CS1116</td>\n",
              "      <td>203</td>\n",
              "      <td>13</td>\n",
              "      <td>857</td>\n",
              "      <td>1</td>\n",
              "    </tr>\n",
              "  </tbody>\n",
              "</table>\n",
              "</div>"
            ],
            "text/plain": [
              "  customer_id  Recency  Frequency  Monetary_value  Churn\n",
              "0      CS1112       61         15            1012      0\n",
              "1      CS1113       35         20            1490      0\n",
              "2      CS1114       32         19            1432      0\n",
              "3      CS1115       11         22            1659      0\n",
              "4      CS1116      203         13             857      1"
            ]
          },
          "metadata": {
            "tags": []
          },
          "execution_count": 28
        }
      ]
    },
    {
      "cell_type": "code",
      "metadata": {
        "id": "UvKdFx4zTMwR",
        "colab_type": "code",
        "outputId": "4088d6be-5dc6-42d0-8977-b7a4feef61a3",
        "colab": {
          "base_uri": "https://localhost:8080/",
          "height": 74
        }
      },
      "source": [
        "data.Churn.value_counts()/6889"
      ],
      "execution_count": 29,
      "outputs": [
        {
          "output_type": "execute_result",
          "data": {
            "text/plain": [
              "0    0.826535\n",
              "1    0.173465\n",
              "Name: Churn, dtype: float64"
            ]
          },
          "metadata": {
            "tags": []
          },
          "execution_count": 29
        }
      ]
    },
    {
      "cell_type": "code",
      "metadata": {
        "id": "itvb2QvhuAZ4",
        "colab_type": "code",
        "colab": {}
      },
      "source": [
        "X = data[['Recency','Frequency','Monetary_value']]\n",
        "Y_test = data['Churn']"
      ],
      "execution_count": 0,
      "outputs": []
    },
    {
      "cell_type": "code",
      "metadata": {
        "id": "SOgpTxHruAZ-",
        "colab_type": "code",
        "colab": {}
      },
      "source": [
        "scaler = preprocessing.StandardScaler().fit(X)\n",
        "X_test_std = scaler.transform(X)"
      ],
      "execution_count": 0,
      "outputs": []
    },
    {
      "cell_type": "code",
      "metadata": {
        "id": "LSwii7gquAaE",
        "colab_type": "code",
        "outputId": "33bc31df-a8e2-4be4-cd7f-ffc06cd488bd",
        "colab": {
          "base_uri": "https://localhost:8080/",
          "height": 36
        }
      },
      "source": [
        "X_test_std.shape"
      ],
      "execution_count": 69,
      "outputs": [
        {
          "output_type": "execute_result",
          "data": {
            "text/plain": [
              "(6889, 3)"
            ]
          },
          "metadata": {
            "tags": []
          },
          "execution_count": 69
        }
      ]
    },
    {
      "cell_type": "code",
      "metadata": {
        "id": "3Q5ySQQvY6GX",
        "colab_type": "code",
        "colab": {
          "base_uri": "https://localhost:8080/",
          "height": 206
        },
        "outputId": "5c721a87-36f1-413b-e5a8-02ac20703012"
      },
      "source": [
        "X_test_std_df = pd.DataFrame(X_test_std) \n",
        "X_test_std_df.columns=['Recency','Frequency','Monetary_value']\n",
        "X_test_std_df.head()"
      ],
      "execution_count": 74,
      "outputs": [
        {
          "output_type": "execute_result",
          "data": {
            "text/html": [
              "<div>\n",
              "<style scoped>\n",
              "    .dataframe tbody tr th:only-of-type {\n",
              "        vertical-align: middle;\n",
              "    }\n",
              "\n",
              "    .dataframe tbody tr th {\n",
              "        vertical-align: top;\n",
              "    }\n",
              "\n",
              "    .dataframe thead th {\n",
              "        text-align: right;\n",
              "    }\n",
              "</style>\n",
              "<table border=\"1\" class=\"dataframe\">\n",
              "  <thead>\n",
              "    <tr style=\"text-align: right;\">\n",
              "      <th></th>\n",
              "      <th>Recency</th>\n",
              "      <th>Frequency</th>\n",
              "      <th>Monetary_value</th>\n",
              "    </tr>\n",
              "  </thead>\n",
              "  <tbody>\n",
              "    <tr>\n",
              "      <th>0</th>\n",
              "      <td>-0.228849</td>\n",
              "      <td>-0.605640</td>\n",
              "      <td>-0.359103</td>\n",
              "    </tr>\n",
              "    <tr>\n",
              "      <th>1</th>\n",
              "      <td>-0.533383</td>\n",
              "      <td>0.357262</td>\n",
              "      <td>0.667091</td>\n",
              "    </tr>\n",
              "    <tr>\n",
              "      <th>2</th>\n",
              "      <td>-0.568521</td>\n",
              "      <td>0.164682</td>\n",
              "      <td>0.542574</td>\n",
              "    </tr>\n",
              "    <tr>\n",
              "      <th>3</th>\n",
              "      <td>-0.814491</td>\n",
              "      <td>0.742423</td>\n",
              "      <td>1.029909</td>\n",
              "    </tr>\n",
              "    <tr>\n",
              "      <th>4</th>\n",
              "      <td>1.434376</td>\n",
              "      <td>-0.990801</td>\n",
              "      <td>-0.691865</td>\n",
              "    </tr>\n",
              "  </tbody>\n",
              "</table>\n",
              "</div>"
            ],
            "text/plain": [
              "    Recency  Frequency  Monetary_value\n",
              "0 -0.228849  -0.605640       -0.359103\n",
              "1 -0.533383   0.357262        0.667091\n",
              "2 -0.568521   0.164682        0.542574\n",
              "3 -0.814491   0.742423        1.029909\n",
              "4  1.434376  -0.990801       -0.691865"
            ]
          },
          "metadata": {
            "tags": []
          },
          "execution_count": 74
        }
      ]
    },
    {
      "cell_type": "code",
      "metadata": {
        "id": "L8RpKRnQuAaL",
        "colab_type": "code",
        "colab": {}
      },
      "source": [
        "\n",
        "NB_test=clf_NB.predict(X_test_std)"
      ],
      "execution_count": 0,
      "outputs": []
    },
    {
      "cell_type": "code",
      "metadata": {
        "id": "QbqCxrgOuAaP",
        "colab_type": "code",
        "outputId": "a4311e56-045b-46cb-cbd5-f18aed2caaba",
        "colab": {
          "base_uri": "https://localhost:8080/",
          "height": 207
        }
      },
      "source": [
        "y_true = Y_test\n",
        "y_pred = NB_test\n",
        "target_names = ['class 0', 'class 1']\n",
        "\n",
        "print(classification_report(y_true, y_pred, target_names=target_names))\n",
        "print(\"Naive Bayes model accuracy : \",clf_NB.score(X_test_std,Y_test))"
      ],
      "execution_count": 34,
      "outputs": [
        {
          "output_type": "stream",
          "text": [
            "              precision    recall  f1-score   support\n",
            "\n",
            "     class 0       0.89      0.95      0.92      5694\n",
            "     class 1       0.64      0.43      0.51      1195\n",
            "\n",
            "    accuracy                           0.86      6889\n",
            "   macro avg       0.76      0.69      0.72      6889\n",
            "weighted avg       0.84      0.86      0.85      6889\n",
            "\n",
            "Naive Bayes model accuracy :  0.8584700246770214\n"
          ],
          "name": "stdout"
        }
      ]
    },
    {
      "cell_type": "code",
      "metadata": {
        "id": "6hbNzIAXuAag",
        "colab_type": "code",
        "colab": {}
      },
      "source": [
        "cm_nb = confusion_matrix(y_true,y_pred)"
      ],
      "execution_count": 0,
      "outputs": []
    },
    {
      "cell_type": "code",
      "metadata": {
        "id": "pKUCn62CuAal",
        "colab_type": "code",
        "outputId": "c7c5c871-7f6f-4f20-b7f9-dcb9dcbe2ed2",
        "colab": {
          "base_uri": "https://localhost:8080/",
          "height": 190
        }
      },
      "source": [
        "plt.figure(figsize = (3,2))\n",
        "sns.heatmap(cm_nb,annot=True,fmt='d',linewidths=.5)\n",
        "plt.xlabel('Predicted')\n",
        "plt.ylabel('Truth')"
      ],
      "execution_count": 36,
      "outputs": [
        {
          "output_type": "execute_result",
          "data": {
            "text/plain": [
              "Text(6.0, 0.5, 'Truth')"
            ]
          },
          "metadata": {
            "tags": []
          },
          "execution_count": 36
        },
        {
          "output_type": "display_data",
          "data": {
            "image/png": "[encoded data removed]",
            "text/plain": [
              "<Figure size 216x144 with 2 Axes>"
            ]
          },
          "metadata": {
            "tags": []
          }
        }
      ]
    },
    {
      "cell_type": "code",
      "metadata": {
        "id": "K0aPtPiWrAgt",
        "colab_type": "code",
        "colab": {}
      },
      "source": [
        "from sklearn.metrics import roc_curve, roc_auc_score"
      ],
      "execution_count": 0,
      "outputs": []
    },
    {
      "cell_type": "code",
      "metadata": {
        "id": "HE49V6Thr8mq",
        "colab_type": "code",
        "outputId": "9792d7ae-da1f-48be-96b8-da081a1b07cb",
        "colab": {
          "base_uri": "https://localhost:8080/",
          "height": 314
        }
      },
      "source": [
        "fpr, tpr, thresholds = roc_curve(y_true, y_pred)\n",
        "plt.xlim([0.0,1.0])\n",
        "plt.ylim([0.0,1.0])\n",
        "plt.title(\"ROC Curve\")\n",
        "plt.xlabel(\"Flase Positve Rate (1 - Specificity)\")\n",
        "plt.ylabel(\"True Positive Rate (Sensitivity)\")\n",
        "plt.plot(fpr,tpr,color='red',lw=3)\n",
        "plt.show()\n",
        "print(\"AUC score : \",roc_auc_score(y_true, y_pred))"
      ],
      "execution_count": 38,
      "outputs": [
        {
          "output_type": "display_data",
          "data": {
            "image/png": "[encoded data removed]",
            "text/plain": [
              "<Figure size 432x288 with 1 Axes>"
            ]
          },
          "metadata": {
            "tags": []
          }
        },
        {
          "output_type": "stream",
          "text": [
            "AUC score :  0.6902379073325368\n"
          ],
          "name": "stdout"
        }
      ]
    },
    {
      "cell_type": "code",
      "metadata": {
        "id": "qZSZstRiuAas",
        "colab_type": "code",
        "colab": {}
      },
      "source": [
        "LR_test = clf_LR.predict(X_test_std)"
      ],
      "execution_count": 0,
      "outputs": []
    },
    {
      "cell_type": "code",
      "metadata": {
        "id": "EChzRcrNuAax",
        "colab_type": "code",
        "outputId": "951a86e8-d173-4468-9dc4-96aaad2cda61",
        "colab": {
          "base_uri": "https://localhost:8080/",
          "height": 207
        }
      },
      "source": [
        "y_pred1 = LR_test\n",
        "print(classification_report(y_true, y_pred1, target_names=target_names))\n",
        "print(\"Logistic Regression model accuracy : \",clf_LR.score(X_test_std,Y_test))"
      ],
      "execution_count": 40,
      "outputs": [
        {
          "output_type": "stream",
          "text": [
            "              precision    recall  f1-score   support\n",
            "\n",
            "     class 0       1.00      0.88      0.94      5694\n",
            "     class 1       0.64      1.00      0.78      1195\n",
            "\n",
            "    accuracy                           0.90      6889\n",
            "   macro avg       0.82      0.94      0.86      6889\n",
            "weighted avg       0.94      0.90      0.91      6889\n",
            "\n",
            "Logistic Regression model accuracy :  0.9015822325446364\n"
          ],
          "name": "stdout"
        }
      ]
    },
    {
      "cell_type": "code",
      "metadata": {
        "id": "zUpDmvS1uAa3",
        "colab_type": "code",
        "outputId": "a785a924-5a04-4a88-8392-c2b02dd23df5",
        "colab": {
          "base_uri": "https://localhost:8080/",
          "height": 190
        }
      },
      "source": [
        "cm_LR = confusion_matrix(y_true,y_pred1)\n",
        "\n",
        "plt.figure(figsize = (3,2))\n",
        "sns.heatmap(cm_LR,annot=True,fmt='d',linewidths=.5)\n",
        "plt.xlabel('Predicted')\n",
        "plt.ylabel('Truth')"
      ],
      "execution_count": 41,
      "outputs": [
        {
          "output_type": "execute_result",
          "data": {
            "text/plain": [
              "Text(6.0, 0.5, 'Truth')"
            ]
          },
          "metadata": {
            "tags": []
          },
          "execution_count": 41
        },
        {
          "output_type": "display_data",
          "data": {
            "image/png": "[encoded data removed]",
            "text/plain": [
              "<Figure size 216x144 with 2 Axes>"
            ]
          },
          "metadata": {
            "tags": []
          }
        }
      ]
    },
    {
      "cell_type": "code",
      "metadata": {
        "id": "dwRCi88XuAa9",
        "colab_type": "code",
        "colab": {}
      },
      "source": [
        "SVC_test = clf_svc.predict(X_test_std)"
      ],
      "execution_count": 0,
      "outputs": []
    },
    {
      "cell_type": "code",
      "metadata": {
        "id": "R66kQ_a4uAbB",
        "colab_type": "code",
        "outputId": "6a8b6bad-7b49-423c-a045-34189f469791",
        "colab": {
          "base_uri": "https://localhost:8080/",
          "height": 207
        }
      },
      "source": [
        "y_pred2 = SVC_test\n",
        "print(classification_report(y_true, y_pred2, target_names=target_names))\n",
        "print(\"Support Vector Classification model accuracy : \",clf_svc.score(X_test_std,Y_test))"
      ],
      "execution_count": 43,
      "outputs": [
        {
          "output_type": "stream",
          "text": [
            "              precision    recall  f1-score   support\n",
            "\n",
            "     class 0       1.00      0.88      0.94      5694\n",
            "     class 1       0.64      1.00      0.78      1195\n",
            "\n",
            "    accuracy                           0.90      6889\n",
            "   macro avg       0.82      0.94      0.86      6889\n",
            "weighted avg       0.94      0.90      0.91      6889\n",
            "\n",
            "Support Vector Classification model accuracy :  0.9007112788503411\n"
          ],
          "name": "stdout"
        }
      ]
    },
    {
      "cell_type": "code",
      "metadata": {
        "id": "8GZb-iE-uAbJ",
        "colab_type": "code",
        "outputId": "b36062ad-864a-4075-c5ab-10088f422b14",
        "colab": {
          "base_uri": "https://localhost:8080/",
          "height": 190
        }
      },
      "source": [
        "cm_svc = confusion_matrix(y_true,y_pred2)\n",
        "\n",
        "plt.figure(figsize = (3,2))\n",
        "sns.heatmap(cm_svc,annot=True,fmt='d',linewidths=.5)\n",
        "plt.xlabel('Predicted')\n",
        "plt.ylabel('Truth')"
      ],
      "execution_count": 44,
      "outputs": [
        {
          "output_type": "execute_result",
          "data": {
            "text/plain": [
              "Text(6.0, 0.5, 'Truth')"
            ]
          },
          "metadata": {
            "tags": []
          },
          "execution_count": 44
        },
        {
          "output_type": "display_data",
          "data": {
            "image/png": "[encoded data removed]",
            "text/plain": [
              "<Figure size 216x144 with 2 Axes>"
            ]
          },
          "metadata": {
            "tags": []
          }
        }
      ]
    },
    {
      "cell_type": "code",
      "metadata": {
        "id": "QsjjQlSduAbP",
        "colab_type": "code",
        "colab": {}
      },
      "source": [
        "Ran_forest_test = clf_rf.predict(X_test_std)"
      ],
      "execution_count": 0,
      "outputs": []
    },
    {
      "cell_type": "code",
      "metadata": {
        "id": "cf5SeN3HuAbT",
        "colab_type": "code",
        "outputId": "529ff87f-3f59-42cd-ca23-0198be14a0ab",
        "colab": {
          "base_uri": "https://localhost:8080/",
          "height": 207
        }
      },
      "source": [
        "y_pred3 = Ran_forest_test\n",
        "print(classification_report(y_true, y_pred3, target_names=target_names))\n",
        "print(\"Random forest model accuracy : \",clf_rf.score(X_test_std,Y_test))"
      ],
      "execution_count": 46,
      "outputs": [
        {
          "output_type": "stream",
          "text": [
            "              precision    recall  f1-score   support\n",
            "\n",
            "     class 0       1.00      0.89      0.94      5694\n",
            "     class 1       0.66      1.00      0.80      1195\n",
            "\n",
            "    accuracy                           0.91      6889\n",
            "   macro avg       0.83      0.95      0.87      6889\n",
            "weighted avg       0.94      0.91      0.92      6889\n",
            "\n",
            "Random forest model accuracy :  0.9123239947742778\n"
          ],
          "name": "stdout"
        }
      ]
    },
    {
      "cell_type": "code",
      "metadata": {
        "id": "hDwEeQ9auAbX",
        "colab_type": "code",
        "outputId": "e06e84af-7d7e-453e-945e-86f8d65ebee6",
        "colab": {
          "base_uri": "https://localhost:8080/",
          "height": 190
        }
      },
      "source": [
        "cm_rf = confusion_matrix(y_true,y_pred3)\n",
        "\n",
        "plt.figure(figsize = (3,2))\n",
        "sns.heatmap(cm_rf,annot=True,fmt='d',linewidths=.5)\n",
        "plt.xlabel('Predicted')\n",
        "plt.ylabel('Truth')"
      ],
      "execution_count": 47,
      "outputs": [
        {
          "output_type": "execute_result",
          "data": {
            "text/plain": [
              "Text(6.0, 0.5, 'Truth')"
            ]
          },
          "metadata": {
            "tags": []
          },
          "execution_count": 47
        },
        {
          "output_type": "display_data",
          "data": {
            "image/png": "[encoded data removed]",
            "text/plain": [
              "<Figure size 216x144 with 2 Axes>"
            ]
          },
          "metadata": {
            "tags": []
          }
        }
      ]
    },
    {
      "cell_type": "code",
      "metadata": {
        "id": "iNGJsLJxuAbd",
        "colab_type": "code",
        "colab": {}
      },
      "source": [
        "decision_tree_test = clf_dt.predict(X_test_std)"
      ],
      "execution_count": 0,
      "outputs": []
    },
    {
      "cell_type": "code",
      "metadata": {
        "id": "VAwokTteuAbm",
        "colab_type": "code",
        "outputId": "3354e450-93bd-4a73-d67e-9584aeeebc93",
        "colab": {
          "base_uri": "https://localhost:8080/",
          "height": 207
        }
      },
      "source": [
        "y_pred4 = decision_tree_test\n",
        "print(classification_report(y_true, y_pred4, target_names=target_names))\n",
        "print(\"Decision tree model accuracy : \",clf_dt.score(X_test_std,Y_test))"
      ],
      "execution_count": 49,
      "outputs": [
        {
          "output_type": "stream",
          "text": [
            "              precision    recall  f1-score   support\n",
            "\n",
            "     class 0       1.00      0.90      0.95      5694\n",
            "     class 1       0.67      1.00      0.81      1195\n",
            "\n",
            "    accuracy                           0.92      6889\n",
            "   macro avg       0.84      0.95      0.88      6889\n",
            "weighted avg       0.94      0.92      0.92      6889\n",
            "\n",
            "Decision tree model accuracy :  0.9163884453476557\n"
          ],
          "name": "stdout"
        }
      ]
    },
    {
      "cell_type": "code",
      "metadata": {
        "id": "_B2YFElQuAbr",
        "colab_type": "code",
        "outputId": "8aa99582-90d8-460b-9ea0-9b385045a62c",
        "colab": {
          "base_uri": "https://localhost:8080/",
          "height": 190
        }
      },
      "source": [
        "cm_dt = confusion_matrix(y_true,y_pred4)\n",
        "\n",
        "plt.figure(figsize = (3,2))\n",
        "sns.heatmap(cm_dt,annot=True,fmt='d',linewidths=.5)\n",
        "plt.xlabel('Predicted')\n",
        "plt.ylabel('Truth')"
      ],
      "execution_count": 50,
      "outputs": [
        {
          "output_type": "execute_result",
          "data": {
            "text/plain": [
              "Text(6.0, 0.5, 'Truth')"
            ]
          },
          "metadata": {
            "tags": []
          },
          "execution_count": 50
        },
        {
          "output_type": "display_data",
          "data": {
            "image/png": "[encoded data removed]",
            "text/plain": [
              "<Figure size 216x144 with 2 Axes>"
            ]
          },
          "metadata": {
            "tags": []
          }
        }
      ]
    },
    {
      "cell_type": "code",
      "metadata": {
        "id": "NF6gNaPCZ2h8",
        "colab_type": "code",
        "colab": {
          "base_uri": "https://localhost:8080/",
          "height": 36
        },
        "outputId": "1ea55e58-e9a8-4999-c8e4-0bc59898c7cb"
      },
      "source": [
        "from IPython.display import Image  \n",
        "from sklearn.externals.six import StringIO  \n",
        "from sklearn.tree import export_graphviz\n",
        "import pydot \n",
        "\n",
        "features = list(X_test_std_df.columns[0:])\n",
        "features"
      ],
      "execution_count": 76,
      "outputs": [
        {
          "output_type": "execute_result",
          "data": {
            "text/plain": [
              "['Recency', 'Frequency', 'Monetary_value']"
            ]
          },
          "metadata": {
            "tags": []
          },
          "execution_count": 76
        }
      ]
    },
    {
      "cell_type": "code",
      "metadata": {
        "id": "Z-edhOXTcnwV",
        "colab_type": "code",
        "colab": {}
      },
      "source": [
        "predictions = clf_dtree.predict(X_test_std)"
      ],
      "execution_count": 0,
      "outputs": []
    },
    {
      "cell_type": "code",
      "metadata": {
        "id": "cF5VFHtNc5PV",
        "colab_type": "code",
        "colab": {
          "base_uri": "https://localhost:8080/",
          "height": 226
        },
        "outputId": "001e8222-4e3f-4837-ae6f-83af56e16465"
      },
      "source": [
        "print(classification_report(y_true,predictions))\n",
        "\n",
        "print(confusion_matrix(y_true,predictions))"
      ],
      "execution_count": 110,
      "outputs": [
        {
          "output_type": "stream",
          "text": [
            "              precision    recall  f1-score   support\n",
            "\n",
            "           0       1.00      0.90      0.95      5694\n",
            "           1       0.67      1.00      0.80      1195\n",
            "\n",
            "    accuracy                           0.92      6889\n",
            "   macro avg       0.84      0.95      0.88      6889\n",
            "weighted avg       0.94      0.92      0.92      6889\n",
            "\n",
            "[[5114  580]\n",
            " [   0 1195]]\n"
          ],
          "name": "stdout"
        }
      ]
    },
    {
      "cell_type": "code",
      "metadata": {
        "id": "_iirchq8Z2fN",
        "colab_type": "code",
        "colab": {
          "base_uri": "https://localhost:8080/",
          "height": 651
        },
        "outputId": "f54efd98-28c6-407b-c06d-257979521f55"
      },
      "source": [
        "dot_data = StringIO()  \n",
        "export_graphviz(clf_dtree, out_file=dot_data,feature_names=features,filled=True,rounded=True)\n",
        "\n",
        "graph = pydot.graph_from_dot_data(dot_data.getvalue())  \n",
        "Image(graph[0].create_png()) "
      ],
      "execution_count": 111,
      "outputs": [
        {
          "output_type": "execute_result",
          "data": {
            "image/png": "[encoded data removed]",
            "text/plain": [
              "<IPython.core.display.Image object>"
            ]
          },
          "metadata": {
            "tags": []
          },
          "execution_count": 111
        }
      ]
    },
    {
      "cell_type": "code",
      "metadata": {
        "id": "Vyh6xGxmZ2c-",
        "colab_type": "code",
        "colab": {}
      },
      "source": [
        ""
      ],
      "execution_count": 0,
      "outputs": []
    },
    {
      "cell_type": "code",
      "metadata": {
        "id": "U_o41WVNZ2aP",
        "colab_type": "code",
        "colab": {}
      },
      "source": [
        ""
      ],
      "execution_count": 0,
      "outputs": []
    },
    {
      "cell_type": "code",
      "metadata": {
        "id": "dcgBRfAdRAFV",
        "colab_type": "code",
        "colab": {}
      },
      "source": [
        "XGB_tree_test = clf_xgb.predict(X_test_std)"
      ],
      "execution_count": 0,
      "outputs": []
    },
    {
      "cell_type": "code",
      "metadata": {
        "id": "tRjKdu40TzCM",
        "colab_type": "code",
        "outputId": "f6429c7d-4d1c-4346-a11b-2c70092156af",
        "colab": {
          "base_uri": "https://localhost:8080/",
          "height": 207
        }
      },
      "source": [
        "y_pred5 = XGB_tree_test\n",
        "print(classification_report(y_true, y_pred5, target_names=target_names))\n",
        "print(\"Decision tree model accuracy : \",clf_xgb.score(X_test_std,Y_test))"
      ],
      "execution_count": 52,
      "outputs": [
        {
          "output_type": "stream",
          "text": [
            "              precision    recall  f1-score   support\n",
            "\n",
            "     class 0       1.00      0.90      0.95      5694\n",
            "     class 1       0.68      1.00      0.81      1195\n",
            "\n",
            "    accuracy                           0.92      6889\n",
            "   macro avg       0.84      0.95      0.88      6889\n",
            "weighted avg       0.95      0.92      0.93      6889\n",
            "\n",
            "Decision tree model accuracy :  0.9195819422267383\n"
          ],
          "name": "stdout"
        }
      ]
    },
    {
      "cell_type": "code",
      "metadata": {
        "id": "9_PzeIYEUezM",
        "colab_type": "code",
        "outputId": "651083cd-7887-441f-a653-0efe5fcc54e1",
        "colab": {
          "base_uri": "https://localhost:8080/",
          "height": 190
        }
      },
      "source": [
        "cm_xgb = confusion_matrix(y_true,y_pred5)\n",
        "\n",
        "plt.figure(figsize = (3,2))\n",
        "sns.heatmap(cm_xgb,annot=True,fmt='d',linewidths=.5)\n",
        "plt.xlabel('Predicted')\n",
        "plt.ylabel('Truth')"
      ],
      "execution_count": 53,
      "outputs": [
        {
          "output_type": "execute_result",
          "data": {
            "text/plain": [
              "Text(6.0, 0.5, 'Truth')"
            ]
          },
          "metadata": {
            "tags": []
          },
          "execution_count": 53
        },
        {
          "output_type": "display_data",
          "data": {
            "image/png": "[encoded data removed]",
            "text/plain": [
              "<Figure size 216x144 with 2 Axes>"
            ]
          },
          "metadata": {
            "tags": []
          }
        }
      ]
    },
    {
      "cell_type": "code",
      "metadata": {
        "id": "pcmeKRC01FIJ",
        "colab_type": "code",
        "colab": {}
      },
      "source": [
        "models = [\n",
        "          {'label': 'Naive Bayes','model': y_pred},\n",
        "          {'label': 'Logistic Regression','model': y_pred1},\n",
        "          {'label': 'SVC','model': y_pred2},\n",
        "          {'label': 'Random forest','model': y_pred3},\n",
        "          {'label': 'Decision tree','model': y_pred4},\n",
        "          {'label': 'XGBoost','model': y_pred5},\n",
        "      ]"
      ],
      "execution_count": 0,
      "outputs": []
    },
    {
      "cell_type": "code",
      "metadata": {
        "id": "LZRu_4eT1FF-",
        "colab_type": "code",
        "outputId": "ff598313-12d4-4cbc-a528-deade4f16698",
        "colab": {
          "base_uri": "https://localhost:8080/",
          "height": 295
        }
      },
      "source": [
        "for m in models:\n",
        "    y_predicted = m['model'] # select the predicted y\n",
        "  \n",
        "# Compute False postive rate, and True positive rate\n",
        "    fpr, tpr, thresholds = roc_curve(y_true,y_predicted)\n",
        "# Calculate Area under the curve to display on the plot\n",
        "    auc = roc_auc_score(y_true,y_predicted)\n",
        "# Now, plot the computed values\n",
        "    plt.plot(fpr, tpr, label='%s ROC (area = %0.2f)' % (m['label'], auc),lw=2)\n",
        "# Custom settings for the plot \n",
        "\n",
        "\n",
        "plt.plot([0, 1], [0, 1],'r--')\n",
        "plt.xlim([0.0, 1.0])\n",
        "plt.ylim([0.0, 1.0])\n",
        "plt.xlabel(\"Flase Positve Rate (1 - Specificity)\")\n",
        "plt.ylabel(\"True Positive Rate (Sensitivity)\")\n",
        "plt.title('Receiver Operating Characteristic curve')\n",
        "plt.legend(loc=\"best\",bbox_to_anchor=(1, 0.5))\n",
        "plt.show()   "
      ],
      "execution_count": 55,
      "outputs": [
        {
          "output_type": "display_data",
          "data": {
            "image/png": "[encoded data removed]",
            "text/plain": [
              "<Figure size 432x288 with 1 Axes>"
            ]
          },
          "metadata": {
            "tags": []
          }
        }
      ]
    },
    {
      "cell_type": "code",
      "metadata": {
        "id": "__SNYEdp1E9P",
        "colab_type": "code",
        "colab": {}
      },
      "source": [
        "from sklearn.metrics import precision_recall_curve,average_precision_score"
      ],
      "execution_count": 0,
      "outputs": []
    },
    {
      "cell_type": "code",
      "metadata": {
        "id": "kmiCyhu59wqw",
        "colab_type": "code",
        "outputId": "ec3cb445-27ce-429c-bb99-0169918f593b",
        "colab": {
          "base_uri": "https://localhost:8080/",
          "height": 295
        }
      },
      "source": [
        "for m in models:\n",
        "    y_predicted = m['model'] # select the predicted y\n",
        "  \n",
        "# Compute False postive rate, and True positive rate\n",
        "    precision, recall, thresholds = precision_recall_curve(y_true,y_predicted)\n",
        "# Calculate Area under the curve to display on the plot\n",
        "    prs = average_precision_score(y_true,y_predicted)\n",
        "# Now, plot the computed values\n",
        "    plt.plot(precision, recall, label='%s Avg Precision(score = %0.2f)' % (m['label'], prs),lw=3)\n",
        "# Custom settings for the plot \n",
        "\n",
        "\n",
        "\n",
        "plt.xlim([0.0, 1.0])\n",
        "plt.ylim([0.0, 1.0])\n",
        "plt.xlabel('Recall')\n",
        "plt.ylabel('Precision')\n",
        "plt.title('Precision - Recall Curve')\n",
        "plt.legend(loc=\"best\",bbox_to_anchor=(1, 0.5))\n",
        "plt.show()   "
      ],
      "execution_count": 57,
      "outputs": [
        {
          "output_type": "display_data",
          "data": {
            "image/png": "[encoded data removed]",
            "text/plain": [
              "<Figure size 432x288 with 1 Axes>"
            ]
          },
          "metadata": {
            "tags": []
          }
        }
      ]
    },
    {
      "cell_type": "code",
      "metadata": {
        "id": "Xskou_J5uAby",
        "colab_type": "code",
        "colab": {}
      },
      "source": [
        "data_test = np.array([NB_test,LR_test,SVC_test,Ran_forest_test,decision_tree_test,XGB_tree_test])"
      ],
      "execution_count": 0,
      "outputs": []
    },
    {
      "cell_type": "code",
      "metadata": {
        "id": "KVCs7WymuAb2",
        "colab_type": "code",
        "outputId": "8f0ccd08-aaee-4db7-90e6-bb0b8c6dc73c",
        "colab": {
          "base_uri": "https://localhost:8080/",
          "height": 131
        }
      },
      "source": [
        "data_test"
      ],
      "execution_count": 59,
      "outputs": [
        {
          "output_type": "execute_result",
          "data": {
            "text/plain": [
              "array([[0, 0, 0, ..., 0, 0, 0],\n",
              "       [0, 0, 0, ..., 0, 1, 0],\n",
              "       [0, 0, 0, ..., 0, 1, 0],\n",
              "       [0, 0, 0, ..., 0, 1, 0],\n",
              "       [0, 0, 0, ..., 0, 1, 0],\n",
              "       [0, 0, 0, ..., 0, 1, 0]])"
            ]
          },
          "metadata": {
            "tags": []
          },
          "execution_count": 59
        }
      ]
    },
    {
      "cell_type": "code",
      "metadata": {
        "id": "EAPcwnbLuAb8",
        "colab_type": "code",
        "outputId": "316b07a0-6ba6-4ab2-eb1d-d17711044c1c",
        "colab": {
          "base_uri": "https://localhost:8080/",
          "height": 36
        }
      },
      "source": [
        "data_test[0]"
      ],
      "execution_count": 60,
      "outputs": [
        {
          "output_type": "execute_result",
          "data": {
            "text/plain": [
              "array([0, 0, 0, ..., 0, 0, 0])"
            ]
          },
          "metadata": {
            "tags": []
          },
          "execution_count": 60
        }
      ]
    },
    {
      "cell_type": "code",
      "metadata": {
        "id": "nloF5dJUuAcE",
        "colab_type": "code",
        "colab": {}
      },
      "source": [
        "df_test = pd.DataFrame({'Naive_Bayes': data_test[0], 'Log_Reg': data_test[1], 'SVC':data_test[2], \n",
        "                        'Ran_forest':data_test[3],'Decision_tree':data_test[4],'XGBoost':data_test[5]})"
      ],
      "execution_count": 0,
      "outputs": []
    },
    {
      "cell_type": "code",
      "metadata": {
        "id": "T2Wm8Z0iuAcM",
        "colab_type": "code",
        "outputId": "ed6dfc88-9c01-4350-dd4b-bb4387c18ec0",
        "colab": {
          "base_uri": "https://localhost:8080/",
          "height": 206
        }
      },
      "source": [
        "df_test.head()"
      ],
      "execution_count": 62,
      "outputs": [
        {
          "output_type": "execute_result",
          "data": {
            "text/html": [
              "<div>\n",
              "<style scoped>\n",
              "    .dataframe tbody tr th:only-of-type {\n",
              "        vertical-align: middle;\n",
              "    }\n",
              "\n",
              "    .dataframe tbody tr th {\n",
              "        vertical-align: top;\n",
              "    }\n",
              "\n",
              "    .dataframe thead th {\n",
              "        text-align: right;\n",
              "    }\n",
              "</style>\n",
              "<table border=\"1\" class=\"dataframe\">\n",
              "  <thead>\n",
              "    <tr style=\"text-align: right;\">\n",
              "      <th></th>\n",
              "      <th>Naive_Bayes</th>\n",
              "      <th>Log_Reg</th>\n",
              "      <th>SVC</th>\n",
              "      <th>Ran_forest</th>\n",
              "      <th>Decision_tree</th>\n",
              "      <th>XGBoost</th>\n",
              "    </tr>\n",
              "  </thead>\n",
              "  <tbody>\n",
              "    <tr>\n",
              "      <th>0</th>\n",
              "      <td>0</td>\n",
              "      <td>0</td>\n",
              "      <td>0</td>\n",
              "      <td>0</td>\n",
              "      <td>0</td>\n",
              "      <td>0</td>\n",
              "    </tr>\n",
              "    <tr>\n",
              "      <th>1</th>\n",
              "      <td>0</td>\n",
              "      <td>0</td>\n",
              "      <td>0</td>\n",
              "      <td>0</td>\n",
              "      <td>0</td>\n",
              "      <td>0</td>\n",
              "    </tr>\n",
              "    <tr>\n",
              "      <th>2</th>\n",
              "      <td>0</td>\n",
              "      <td>0</td>\n",
              "      <td>0</td>\n",
              "      <td>0</td>\n",
              "      <td>0</td>\n",
              "      <td>0</td>\n",
              "    </tr>\n",
              "    <tr>\n",
              "      <th>3</th>\n",
              "      <td>0</td>\n",
              "      <td>0</td>\n",
              "      <td>0</td>\n",
              "      <td>0</td>\n",
              "      <td>0</td>\n",
              "      <td>0</td>\n",
              "    </tr>\n",
              "    <tr>\n",
              "      <th>4</th>\n",
              "      <td>1</td>\n",
              "      <td>1</td>\n",
              "      <td>1</td>\n",
              "      <td>1</td>\n",
              "      <td>1</td>\n",
              "      <td>1</td>\n",
              "    </tr>\n",
              "  </tbody>\n",
              "</table>\n",
              "</div>"
            ],
            "text/plain": [
              "   Naive_Bayes  Log_Reg  SVC  Ran_forest  Decision_tree  XGBoost\n",
              "0            0        0    0           0              0        0\n",
              "1            0        0    0           0              0        0\n",
              "2            0        0    0           0              0        0\n",
              "3            0        0    0           0              0        0\n",
              "4            1        1    1           1              1        1"
            ]
          },
          "metadata": {
            "tags": []
          },
          "execution_count": 62
        }
      ]
    },
    {
      "cell_type": "code",
      "metadata": {
        "id": "cFRI69T-uAcQ",
        "colab_type": "code",
        "outputId": "8f4157e6-857e-4d18-c4a1-7d4118c560d8",
        "colab": {
          "base_uri": "https://localhost:8080/",
          "height": 36
        }
      },
      "source": [
        "df_test.shape"
      ],
      "execution_count": 63,
      "outputs": [
        {
          "output_type": "execute_result",
          "data": {
            "text/plain": [
              "(6889, 6)"
            ]
          },
          "metadata": {
            "tags": []
          },
          "execution_count": 63
        }
      ]
    },
    {
      "cell_type": "code",
      "metadata": {
        "id": "s95JFSB9uAcU",
        "colab_type": "code",
        "colab": {}
      },
      "source": [
        "df_test['customer_id'] = data['customer_id']"
      ],
      "execution_count": 0,
      "outputs": []
    },
    {
      "cell_type": "code",
      "metadata": {
        "id": "bybStqW6uAcb",
        "colab_type": "code",
        "outputId": "5cd430e6-f60f-47f2-c824-3550e2c8093c",
        "colab": {
          "base_uri": "https://localhost:8080/",
          "height": 206
        }
      },
      "source": [
        "df_test.head()"
      ],
      "execution_count": 65,
      "outputs": [
        {
          "output_type": "execute_result",
          "data": {
            "text/html": [
              "<div>\n",
              "<style scoped>\n",
              "    .dataframe tbody tr th:only-of-type {\n",
              "        vertical-align: middle;\n",
              "    }\n",
              "\n",
              "    .dataframe tbody tr th {\n",
              "        vertical-align: top;\n",
              "    }\n",
              "\n",
              "    .dataframe thead th {\n",
              "        text-align: right;\n",
              "    }\n",
              "</style>\n",
              "<table border=\"1\" class=\"dataframe\">\n",
              "  <thead>\n",
              "    <tr style=\"text-align: right;\">\n",
              "      <th></th>\n",
              "      <th>Naive_Bayes</th>\n",
              "      <th>Log_Reg</th>\n",
              "      <th>SVC</th>\n",
              "      <th>Ran_forest</th>\n",
              "      <th>Decision_tree</th>\n",
              "      <th>XGBoost</th>\n",
              "      <th>customer_id</th>\n",
              "    </tr>\n",
              "  </thead>\n",
              "  <tbody>\n",
              "    <tr>\n",
              "      <th>0</th>\n",
              "      <td>0</td>\n",
              "      <td>0</td>\n",
              "      <td>0</td>\n",
              "      <td>0</td>\n",
              "      <td>0</td>\n",
              "      <td>0</td>\n",
              "      <td>CS1112</td>\n",
              "    </tr>\n",
              "    <tr>\n",
              "      <th>1</th>\n",
              "      <td>0</td>\n",
              "      <td>0</td>\n",
              "      <td>0</td>\n",
              "      <td>0</td>\n",
              "      <td>0</td>\n",
              "      <td>0</td>\n",
              "      <td>CS1113</td>\n",
              "    </tr>\n",
              "    <tr>\n",
              "      <th>2</th>\n",
              "      <td>0</td>\n",
              "      <td>0</td>\n",
              "      <td>0</td>\n",
              "      <td>0</td>\n",
              "      <td>0</td>\n",
              "      <td>0</td>\n",
              "      <td>CS1114</td>\n",
              "    </tr>\n",
              "    <tr>\n",
              "      <th>3</th>\n",
              "      <td>0</td>\n",
              "      <td>0</td>\n",
              "      <td>0</td>\n",
              "      <td>0</td>\n",
              "      <td>0</td>\n",
              "      <td>0</td>\n",
              "      <td>CS1115</td>\n",
              "    </tr>\n",
              "    <tr>\n",
              "      <th>4</th>\n",
              "      <td>1</td>\n",
              "      <td>1</td>\n",
              "      <td>1</td>\n",
              "      <td>1</td>\n",
              "      <td>1</td>\n",
              "      <td>1</td>\n",
              "      <td>CS1116</td>\n",
              "    </tr>\n",
              "  </tbody>\n",
              "</table>\n",
              "</div>"
            ],
            "text/plain": [
              "   Naive_Bayes  Log_Reg  SVC  Ran_forest  Decision_tree  XGBoost customer_id\n",
              "0            0        0    0           0              0        0      CS1112\n",
              "1            0        0    0           0              0        0      CS1113\n",
              "2            0        0    0           0              0        0      CS1114\n",
              "3            0        0    0           0              0        0      CS1115\n",
              "4            1        1    1           1              1        1      CS1116"
            ]
          },
          "metadata": {
            "tags": []
          },
          "execution_count": 65
        }
      ]
    },
    {
      "cell_type": "code",
      "metadata": {
        "id": "8Mm4dFGJuAcf",
        "colab_type": "code",
        "outputId": "fd06002b-7742-4be0-9738-535dcccce546",
        "colab": {
          "base_uri": "https://localhost:8080/",
          "height": 226
        }
      },
      "source": [
        "final_results = pd.merge(data,df_test,on='customer_id', how='inner')\n",
        "final_results.head()"
      ],
      "execution_count": 66,
      "outputs": [
        {
          "output_type": "execute_result",
          "data": {
            "text/html": [
              "<div>\n",
              "<style scoped>\n",
              "    .dataframe tbody tr th:only-of-type {\n",
              "        vertical-align: middle;\n",
              "    }\n",
              "\n",
              "    .dataframe tbody tr th {\n",
              "        vertical-align: top;\n",
              "    }\n",
              "\n",
              "    .dataframe thead th {\n",
              "        text-align: right;\n",
              "    }\n",
              "</style>\n",
              "<table border=\"1\" class=\"dataframe\">\n",
              "  <thead>\n",
              "    <tr style=\"text-align: right;\">\n",
              "      <th></th>\n",
              "      <th>customer_id</th>\n",
              "      <th>Recency</th>\n",
              "      <th>Frequency</th>\n",
              "      <th>Monetary_value</th>\n",
              "      <th>R_Quartile</th>\n",
              "      <th>F_Quartile</th>\n",
              "      <th>M_Quartile</th>\n",
              "      <th>Churn</th>\n",
              "      <th>Naive_Bayes</th>\n",
              "      <th>Log_Reg</th>\n",
              "      <th>SVC</th>\n",
              "      <th>Ran_forest</th>\n",
              "      <th>Decision_tree</th>\n",
              "      <th>XGBoost</th>\n",
              "    </tr>\n",
              "  </thead>\n",
              "  <tbody>\n",
              "    <tr>\n",
              "      <th>0</th>\n",
              "      <td>CS1112</td>\n",
              "      <td>61</td>\n",
              "      <td>15</td>\n",
              "      <td>1012</td>\n",
              "      <td>3</td>\n",
              "      <td>3</td>\n",
              "      <td>3</td>\n",
              "      <td>0</td>\n",
              "      <td>0</td>\n",
              "      <td>0</td>\n",
              "      <td>0</td>\n",
              "      <td>0</td>\n",
              "      <td>0</td>\n",
              "      <td>0</td>\n",
              "    </tr>\n",
              "    <tr>\n",
              "      <th>1</th>\n",
              "      <td>CS1113</td>\n",
              "      <td>35</td>\n",
              "      <td>20</td>\n",
              "      <td>1490</td>\n",
              "      <td>2</td>\n",
              "      <td>2</td>\n",
              "      <td>2</td>\n",
              "      <td>0</td>\n",
              "      <td>0</td>\n",
              "      <td>0</td>\n",
              "      <td>0</td>\n",
              "      <td>0</td>\n",
              "      <td>0</td>\n",
              "      <td>0</td>\n",
              "    </tr>\n",
              "    <tr>\n",
              "      <th>2</th>\n",
              "      <td>CS1114</td>\n",
              "      <td>32</td>\n",
              "      <td>19</td>\n",
              "      <td>1432</td>\n",
              "      <td>2</td>\n",
              "      <td>2</td>\n",
              "      <td>2</td>\n",
              "      <td>0</td>\n",
              "      <td>0</td>\n",
              "      <td>0</td>\n",
              "      <td>0</td>\n",
              "      <td>0</td>\n",
              "      <td>0</td>\n",
              "      <td>0</td>\n",
              "    </tr>\n",
              "    <tr>\n",
              "      <th>3</th>\n",
              "      <td>CS1115</td>\n",
              "      <td>11</td>\n",
              "      <td>22</td>\n",
              "      <td>1659</td>\n",
              "      <td>1</td>\n",
              "      <td>2</td>\n",
              "      <td>1</td>\n",
              "      <td>0</td>\n",
              "      <td>0</td>\n",
              "      <td>0</td>\n",
              "      <td>0</td>\n",
              "      <td>0</td>\n",
              "      <td>0</td>\n",
              "      <td>0</td>\n",
              "    </tr>\n",
              "    <tr>\n",
              "      <th>4</th>\n",
              "      <td>CS1116</td>\n",
              "      <td>203</td>\n",
              "      <td>13</td>\n",
              "      <td>857</td>\n",
              "      <td>4</td>\n",
              "      <td>4</td>\n",
              "      <td>3</td>\n",
              "      <td>1</td>\n",
              "      <td>1</td>\n",
              "      <td>1</td>\n",
              "      <td>1</td>\n",
              "      <td>1</td>\n",
              "      <td>1</td>\n",
              "      <td>1</td>\n",
              "    </tr>\n",
              "  </tbody>\n",
              "</table>\n",
              "</div>"
            ],
            "text/plain": [
              "  customer_id  Recency  Frequency  ...  Ran_forest  Decision_tree  XGBoost\n",
              "0      CS1112       61         15  ...           0              0        0\n",
              "1      CS1113       35         20  ...           0              0        0\n",
              "2      CS1114       32         19  ...           0              0        0\n",
              "3      CS1115       11         22  ...           0              0        0\n",
              "4      CS1116      203         13  ...           1              1        1\n",
              "\n",
              "[5 rows x 14 columns]"
            ]
          },
          "metadata": {
            "tags": []
          },
          "execution_count": 66
        }
      ]
    },
    {
      "cell_type": "code",
      "metadata": {
        "id": "qVhSUJ2juAc1",
        "colab_type": "code",
        "colab": {}
      },
      "source": [
        "final_results.to_excel(\"final_Test_results.xlsx\")"
      ],
      "execution_count": 0,
      "outputs": []
    },
    {
      "cell_type": "code",
      "metadata": {
        "id": "mX4OqpFiuAc4",
        "colab_type": "code",
        "colab": {}
      },
      "source": [
        ""
      ],
      "execution_count": 0,
      "outputs": []
    }
  ]
}